{
 "cells": [
  {
   "cell_type": "markdown",
   "metadata": {},
   "source": [
    "# Import dependencies"
   ]
  },
  {
   "cell_type": "code",
   "execution_count": 2,
   "metadata": {},
   "outputs": [
    {
     "name": "stderr",
     "output_type": "stream",
     "text": [
      "/Users/conor/Documents/CISC500- Individual Thesis/conor-repo/.venv/lib/python3.12/site-packages/tqdm/auto.py:21: TqdmWarning: IProgress not found. Please update jupyter and ipywidgets. See https://ipywidgets.readthedocs.io/en/stable/user_install.html\n",
      "  from .autonotebook import tqdm as notebook_tqdm\n"
     ]
    },
    {
     "data": {
      "text/plain": [
       "True"
      ]
     },
     "execution_count": 2,
     "metadata": {},
     "output_type": "execute_result"
    }
   ],
   "source": [
    "import pandas as pd\n",
    "import ast\n",
    "import re\n",
    "from sentence_transformers import SentenceTransformer\n",
    "import matplotlib.pyplot as plt\n",
    "import numpy as np\n",
    "from pathlib import Path\n",
    "import umap\n",
    "import hdbscan\n",
    "import matplotlib.pyplot as plt\n",
    "import joblib\n",
    "from openai import OpenAI\n",
    "from dotenv import load_dotenv\n",
    "from os import environ\n",
    "from bertopic import BERTopic\n",
    "from bertopic.representation import KeyBERTInspired\n",
    "from sklearn.feature_extraction.text import CountVectorizer\n",
    "\n",
    "load_dotenv()"
   ]
  },
  {
   "cell_type": "markdown",
   "metadata": {},
   "source": [
    "# Read and clean data"
   ]
  },
  {
   "cell_type": "code",
   "execution_count": 3,
   "metadata": {},
   "outputs": [],
   "source": [
    "\n",
    "\n",
    "def safe_literal_eval(val):\n",
    "    if pd.isna(val):  \n",
    "        return []     \n",
    "    try:\n",
    "        return ast.literal_eval(val)\n",
    "    except (ValueError, SyntaxError):\n",
    "        return [] \n",
    "    \n",
    "def clean_text(text):\n",
    "    # quotes\n",
    "    text = re.sub(r\"(?m)^\\s*>.*(?:\\r?\\n|$)\", \"\", text)\n",
    "\n",
    "    # links and code\n",
    "    # should we consider using LLM to generate short summary of the code snippets so we don't lose any context it could provide\n",
    "    # or could use regex to detect patterns in the code and classify them e.g. detecting import statements, function definitions, or added/removed lines.\n",
    "    pattern = r\"```.*?```|http[s]?://(?:[a-zA-Z]|[0-9]|[$-_@.&+]|[!*\\\\(\\\\),]|(?:%[0-9a-fA-F][0-9a-fA-F]))+\"\n",
    "    cleaned_text = re.sub(pattern, \"\", text, flags=re.DOTALL)\n",
    "\n",
    "    # keep only alphanumeric characters and punctuation\n",
    "    cleaned_text = re.sub(r\"[^a-zA-Z0-9.,!?;:'\\\"(){}\\[\\]\\-]\", \" \", cleaned_text)\n",
    "\n",
    "    # remove extra spaces\n",
    "    cleaned_text = re.sub(r\"\\s+\", \" \", cleaned_text).strip()\n",
    "\n",
    "    return cleaned_text\n",
    "    \n",
    "def preprocess_text(comments_sequence):\n",
    "    all_threads = []\n",
    "    for comment_thread in comments_sequence:\n",
    "        main_comment = comment_thread['comment']['body']\n",
    "        replies = [reply['body'] for reply in comment_thread['replies']]\n",
    "        thread = main_comment + \"\\n\" + \"\\n\".join(replies)\n",
    "        \n",
    "        thread = clean_text(thread)\n",
    "        if thread != \"\":\n",
    "            all_threads.append(thread)\n",
    "\n",
    "    return all_threads\n",
    "\n",
    "df= pd.read_csv('data/pull_requests_filtered_raw.csv')\n",
    "df['comments'] = df['comments'].apply(safe_literal_eval)\n",
    "\n",
    "df['review_threads'] = df['comments'].apply(lambda comments: [item for item in comments if item['type'] == 'review'] if type(comments) is not float else comments)\n",
    "df = df[df['review_threads'].apply(lambda x: isinstance(x, list) and len(x) > 0)]\n",
    "df['processed_review_threads'] = df['review_threads'].apply(preprocess_text)\n"
   ]
  },
  {
   "cell_type": "markdown",
   "metadata": {},
   "source": [
    "# Extract sentence embeddings"
   ]
  },
  {
   "cell_type": "code",
   "execution_count": 4,
   "metadata": {},
   "outputs": [],
   "source": [
    "threads = sum(df['processed_review_threads'].tolist(), [])\n",
    "model = SentenceTransformer('all-MiniLM-L6-v2')\n",
    "\n",
    "# if False:           # replace if want to regenerate thread embeddings\n",
    "if Path(\"cache/thread_embeddings.npy\").is_file():\n",
    "    thread_embeddings = np.load(\"cache/thread_embeddings.npy\")\n",
    "else:\n",
    "    thread_embeddings = model.encode(threads, normalize_embeddings=True)\n",
    "    np.save(\"cache/thread_embeddings.npy\", thread_embeddings)"
   ]
  },
  {
   "cell_type": "markdown",
   "metadata": {},
   "source": [
    "# Cluster using Basic HDBScan"
   ]
  },
  {
   "cell_type": "code",
   "execution_count": 4,
   "metadata": {},
   "outputs": [],
   "source": [
    "hdb = hdbscan.HDBSCAN(min_cluster_size=20, min_samples=5, cluster_selection_epsilon=0.1)\n",
    "# if False:         # replace if want to refit model with new parameters\n",
    "if Path(\"cache/hdbscan_model.joblib\").is_file():\n",
    "    hdb = joblib.load(\"cache/hdbscan_model.joblib\")\n",
    "    labels=hdb.labels_\n",
    "else:\n",
    "    labels = hdb.fit_predict(thread_embeddings)\n",
    "    joblib.dump(hdb, \"cache/hdbscan_model.joblib\")"
   ]
  },
  {
   "cell_type": "markdown",
   "metadata": {},
   "source": [
    "## General Topic Info"
   ]
  },
  {
   "cell_type": "code",
   "execution_count": null,
   "metadata": {},
   "outputs": [],
   "source": [
    "n_clusters = len(set(labels[labels != -1]))\n",
    "print(f\"Number of cluster: {n_clusters}\")\n",
    "print(len(threads))\n",
    "\n",
    "valid_clusters = sorted(set(labels[labels != -1]))\n",
    "cluster_dict = {}\n",
    "\n",
    "# iterate through clusters\n",
    "for cluster_id in valid_clusters:  # exclude noise points\n",
    "        # get all documents belonging to this current cluster\n",
    "        cluster_docs = [doc for doc, label in zip(threads, labels) if label == cluster_id]\n",
    "        cluster_dict[cluster_id] = cluster_docs\n",
    "        \n",
    "        print(f\"\\nCluster {cluster_id} ({len(cluster_docs)} documents)\")\n",
    "        print(\"Sample documents from cluster:\")\n",
    "        for doc in cluster_docs[:3]:\n",
    "            print(f\"- {doc[:100]}...\")\n",
    "\n",
    "# reduce to 2D for visualization\n",
    "reducer = umap.UMAP()\n",
    "embedding_2d = reducer.fit_transform(thread_embeddings)\n",
    "\n",
    "plt.scatter(embedding_2d[:, 0], embedding_2d[:, 1], c=labels, cmap='Spectral')\n",
    "plt.colorbar()\n",
    "plt.show()"
   ]
  },
  {
   "cell_type": "markdown",
   "metadata": {},
   "source": [
    "## Generate Labels for Clusters with OpenAI API"
   ]
  },
  {
   "cell_type": "code",
   "execution_count": null,
   "metadata": {},
   "outputs": [],
   "source": [
    "client = OpenAI(api_key=environ.get(\"OPENAI_API_KEY\"))\n",
    "\n",
    "def generate_cluster_labels(cluster_dict):\n",
    "    prompt = \"I have grouped discussion threads into clusters. Each cluster represents a set of similar topics. Please provide a short, descriptive label (3-5 words) for each cluster based on the sample threads.\\n\\n\"\n",
    "\n",
    "    for cluster_id, cluster_docs in cluster_dict.items():\n",
    "        prompt += f\"Cluster {cluster_id}:\\n\"\n",
    "        prompt += \"\\n\".join(f\"- {doc[:200]}\" for doc in cluster_docs[:5])  # First few threads per cluster\n",
    "        prompt += \"\\n\\n\"\n",
    "\n",
    "    prompt += \"Provide the labels in this format:\\nCluster 0: [Label]\\nCluster 1: [Label]\\n...\"\n",
    "\n",
    "    response = client.chat.completions.create(\n",
    "        model=\"gpt-4o-mini\",\n",
    "        messages=[{\"role\": \"system\", \"content\": \"You are an expert in topic classification.\"},\n",
    "                  {\"role\": \"user\", \"content\": prompt}],\n",
    "        max_completion_tokens=250,  # adjust based on number of clusters\n",
    "        temperature=0.2 \n",
    "    )\n",
    "\n",
    "    output = response[\"choices\"][0][\"message\"][\"content\"]\n",
    "    cluster_labels = {}\n",
    "\n",
    "    for line in output.split(\"\\n\"):\n",
    "        if line.startswith(\"Cluster \"):\n",
    "            parts = line.split(\": \")\n",
    "            if len(parts) == 2:\n",
    "                cluster_id = int(parts[0].split(\" \")[1])  # Extract cluster number\n",
    "                cluster_labels[cluster_id] = parts[1].strip(\"[]\")  # Extract label\n",
    "\n",
    "    return cluster_labels\n",
    "\n",
    "cluster_labels = generate_cluster_labels(cluster_dict)\n",
    "print(cluster_labels)"
   ]
  },
  {
   "cell_type": "markdown",
   "metadata": {},
   "source": [
    "# Cluster Using Bertopic"
   ]
  },
  {
   "cell_type": "code",
   "execution_count": 5,
   "metadata": {},
   "outputs": [
    {
     "name": "stderr",
     "output_type": "stream",
     "text": [
      "OMP: Info #276: omp_set_nested routine deprecated, please use omp_set_max_active_levels instead.\n",
      "huggingface/tokenizers: The current process just got forked, after parallelism has already been used. Disabling parallelism to avoid deadlocks...\n",
      "To disable this warning, you can either:\n",
      "\t- Avoid using `tokenizers` before the fork if possible\n",
      "\t- Explicitly set the environment variable TOKENIZERS_PARALLELISM=(true | false)\n",
      "huggingface/tokenizers: The current process just got forked, after parallelism has already been used. Disabling parallelism to avoid deadlocks...\n",
      "To disable this warning, you can either:\n",
      "\t- Avoid using `tokenizers` before the fork if possible\n",
      "\t- Explicitly set the environment variable TOKENIZERS_PARALLELISM=(true | false)\n",
      "huggingface/tokenizers: The current process just got forked, after parallelism has already been used. Disabling parallelism to avoid deadlocks...\n",
      "To disable this warning, you can either:\n",
      "\t- Avoid using `tokenizers` before the fork if possible\n",
      "\t- Explicitly set the environment variable TOKENIZERS_PARALLELISM=(true | false)\n",
      "huggingface/tokenizers: The current process just got forked, after parallelism has already been used. Disabling parallelism to avoid deadlocks...\n",
      "To disable this warning, you can either:\n",
      "\t- Avoid using `tokenizers` before the fork if possible\n",
      "\t- Explicitly set the environment variable TOKENIZERS_PARALLELISM=(true | false)\n",
      "huggingface/tokenizers: The current process just got forked, after parallelism has already been used. Disabling parallelism to avoid deadlocks...\n",
      "To disable this warning, you can either:\n",
      "\t- Avoid using `tokenizers` before the fork if possible\n",
      "\t- Explicitly set the environment variable TOKENIZERS_PARALLELISM=(true | false)\n",
      "100%|██████████| 188/188 [00:35<00:00,  5.29it/s]\n"
     ]
    }
   ],
   "source": [
    "# https://bertopic.readthedocs.io/en/latest/\n",
    "# https://maartengr.github.io/BERTopic/api/representation/keybert.html\n",
    "# https://maartengr.github.io/BERTopic/getting_started/vectorizers/vectorizers.html\n",
    "\n",
    "# used to fine-tune topic representations\n",
    "representation_model = KeyBERTInspired()\n",
    "vectorizer_model = CountVectorizer(stop_words=\"english\")\n",
    "umap_model = umap.UMAP(n_neighbors=15, n_components=5, random_state=42)     # fix topics across runs by setting random_state; otherwise UMAP is stochastic\n",
    "\n",
    "# using pre-calculated embeddings\n",
    "# topic_model = BERTopic(min_topic_size=20)\n",
    "# topics, probs = topic_model.fit_transform(threads, thread_embeddings)\n",
    "\n",
    "# using KeyBERTInspired to generate embeddings\n",
    "topic_model = BERTopic(representation_model=representation_model, vectorizer_model=vectorizer_model, umap_model=umap_model, min_topic_size=20)\n",
    "topics, probs = topic_model.fit_transform(threads)\n",
    "hierarchical_topics = topic_model.hierarchical_topics(threads)"
   ]
  },
  {
   "cell_type": "markdown",
   "metadata": {},
   "source": [
    "## General Topic Info"
   ]
  },
  {
   "cell_type": "code",
   "execution_count": 6,
   "metadata": {},
   "outputs": [
    {
     "name": "stdout",
     "output_type": "stream",
     "text": [
      "     Topic  Count                                               Name  \\\n",
      "0       -1   9054                   -1_entity_entities_async_devices   \n",
      "1        0    694  0_sensor_sensors_sensorentitydescription_sensorpy   \n",
      "2        1    432  1_entitydescription_entitydescriptions_entity_...   \n",
      "3        2    416        2_reauth_reauthentication_oauth_invalidauth   \n",
      "4        3    391                    3_dict_dicts_dictget_dictgetkey   \n",
      "..     ...    ...                                                ...   \n",
      "185    184     21                184_cache_caching_caches_cachetools   \n",
      "186    185     21             185_code_commentedout_commented_copied   \n",
      "187    186     20             186_tilt_positioning_vertical_position   \n",
      "188    187     20    187_dhcp_homeassistantcomponentsdhcp_gateway_ip   \n",
      "189    188     20                     188_abort_abortflow_end_reason   \n",
      "\n",
      "                                        Representation  \\\n",
      "0    [entity, entities, async, devices, config, dev...   \n",
      "1    [sensor, sensors, sensorentitydescription, sen...   \n",
      "2    [entitydescription, entitydescriptions, entity...   \n",
      "3    [reauth, reauthentication, oauth, invalidauth,...   \n",
      "4    [dict, dicts, dictget, dictgetkey, dictkey, di...   \n",
      "..                                                 ...   \n",
      "185  [cache, caching, caches, cachetools, cached, n...   \n",
      "186  [code, commentedout, commented, copied, , , , ...   \n",
      "187  [tilt, positioning, vertical, position, cover,...   \n",
      "188  [dhcp, homeassistantcomponentsdhcp, gateway, i...   \n",
      "189  [abort, abortflow, end, reason, stopscript, fi...   \n",
      "\n",
      "                                   Representative_Docs  \n",
      "0    [Move the objects that are being created here ...  \n",
      "1    [Sensor should be in sensor platform., So this...  \n",
      "2    [You could use description instead of self.ent...  \n",
      "3    [If it's an authentication error we should pro...  \n",
      "4    [is this dict ever used ?, Why the dict, Shoul...  \n",
      "..                                                 ...  \n",
      "185  [The light platform caches this value in the i...  \n",
      "186  [Commented-out code., Commented code., Comment...  \n",
      "187  [Please see comments in stop cover tilt Fixed,...  \n",
      "188  [Is this comment generic for what's needed for...  \n",
      "189  [We should add a test for the abort case and e...  \n",
      "\n",
      "[190 rows x 5 columns]\n"
     ]
    },
    {
     "data": {
      "application/vnd.plotly.v1+json": {
       "config": {
        "plotlyServerURL": "https://plot.ly"
       },
       "data": [
        {
         "marker": {
          "color": "#D55E00"
         },
         "orientation": "h",
         "type": "bar",
         "x": [
          0.6068755388259888,
          0.6089434623718262,
          0.6399359703063965,
          0.6727470755577087,
          0.7555915117263794
         ],
         "xaxis": "x",
         "y": [
          "sensorentity  ",
          "sensorpy  ",
          "sensorentitydescription  ",
          "sensors  ",
          "sensor  "
         ],
         "yaxis": "y"
        },
        {
         "marker": {
          "color": "#0072B2"
         },
         "orientation": "h",
         "type": "bar",
         "x": [
          0.4978969097137451,
          0.5345315933227539,
          0.5746273994445801,
          0.6644218564033508,
          0.679147481918335
         ],
         "xaxis": "x2",
         "y": [
          "entitynaming  ",
          "entities  ",
          "entity  ",
          "entitydescriptions  ",
          "entitydescription  "
         ],
         "yaxis": "y2"
        },
        {
         "marker": {
          "color": "#CC79A7"
         },
         "orientation": "h",
         "type": "bar",
         "x": [
          0.603834867477417,
          0.6049745082855225,
          0.6290778517723083,
          0.6995725631713867,
          0.8206016421318054
         ],
         "xaxis": "x3",
         "y": [
          "auth  ",
          "invalidauth  ",
          "oauth  ",
          "reauthentication  ",
          "reauth  "
         ],
         "yaxis": "y3"
        },
        {
         "marker": {
          "color": "#E69F00"
         },
         "orientation": "h",
         "type": "bar",
         "x": [
          0.6966415643692017,
          0.7000274658203125,
          0.7163284420967102,
          0.7165322303771973,
          0.8113481998443604
         ],
         "xaxis": "x4",
         "y": [
          "dictkey  ",
          "dictgetkey  ",
          "dictget  ",
          "dicts  ",
          "dict  "
         ],
         "yaxis": "y4"
        },
        {
         "marker": {
          "color": "#56B4E9"
         },
         "orientation": "h",
         "type": "bar",
         "x": [
          0.6484516859054565,
          0.6666709780693054,
          0.6887311339378357,
          0.6955138444900513,
          0.7743239402770996
         ],
         "xaxis": "x5",
         "y": [
          "translation  ",
          "translated  ",
          "translator  ",
          "translators  ",
          "translations  "
         ],
         "yaxis": "y5"
        },
        {
         "marker": {
          "color": "#009E73"
         },
         "orientation": "h",
         "type": "bar",
         "x": [
          0.3814476728439331,
          0.42860424518585205,
          0.44176074862480164,
          0.44321882724761963,
          0.4538027048110962
         ],
         "xaxis": "x6",
         "y": [
          "temperatures  ",
          "hvac  ",
          "hvacmodeoff  ",
          "thermostat  ",
          "thermostats  "
         ],
         "yaxis": "y6"
        },
        {
         "marker": {
          "color": "#F0E442"
         },
         "orientation": "h",
         "type": "bar",
         "x": [
          0.4177513122558594,
          0.7478683590888977,
          0.7680275440216064,
          0.7821786403656006,
          0.7886025905609131
         ],
         "xaxis": "x7",
         "y": [
          "coordinated  ",
          "coordinatordata  ",
          "coordinators  ",
          "coordinatorentity  ",
          "coordinator  "
         ],
         "yaxis": "y7"
        },
        {
         "marker": {
          "color": "#D55E00"
         },
         "orientation": "h",
         "type": "bar",
         "x": [
          0.30899330973625183,
          0.4908101558685303,
          0.633937656879425,
          0.6424226760864258,
          0.6706043481826782
         ],
         "xaxis": "x8",
         "y": [
          "class  ",
          "stateobj  ",
          "states1  ",
          "states  ",
          "state  "
         ],
         "yaxis": "y8"
        }
       ],
       "layout": {
        "annotations": [
         {
          "font": {
           "size": 16
          },
          "showarrow": false,
          "text": "Topic 0",
          "x": 0.0875,
          "xanchor": "center",
          "xref": "paper",
          "y": 1,
          "yanchor": "bottom",
          "yref": "paper"
         },
         {
          "font": {
           "size": 16
          },
          "showarrow": false,
          "text": "Topic 1",
          "x": 0.36250000000000004,
          "xanchor": "center",
          "xref": "paper",
          "y": 1,
          "yanchor": "bottom",
          "yref": "paper"
         },
         {
          "font": {
           "size": 16
          },
          "showarrow": false,
          "text": "Topic 2",
          "x": 0.6375000000000001,
          "xanchor": "center",
          "xref": "paper",
          "y": 1,
          "yanchor": "bottom",
          "yref": "paper"
         },
         {
          "font": {
           "size": 16
          },
          "showarrow": false,
          "text": "Topic 3",
          "x": 0.9125,
          "xanchor": "center",
          "xref": "paper",
          "y": 1,
          "yanchor": "bottom",
          "yref": "paper"
         },
         {
          "font": {
           "size": 16
          },
          "showarrow": false,
          "text": "Topic 4",
          "x": 0.0875,
          "xanchor": "center",
          "xref": "paper",
          "y": 0.4,
          "yanchor": "bottom",
          "yref": "paper"
         },
         {
          "font": {
           "size": 16
          },
          "showarrow": false,
          "text": "Topic 5",
          "x": 0.36250000000000004,
          "xanchor": "center",
          "xref": "paper",
          "y": 0.4,
          "yanchor": "bottom",
          "yref": "paper"
         },
         {
          "font": {
           "size": 16
          },
          "showarrow": false,
          "text": "Topic 6",
          "x": 0.6375000000000001,
          "xanchor": "center",
          "xref": "paper",
          "y": 0.4,
          "yanchor": "bottom",
          "yref": "paper"
         },
         {
          "font": {
           "size": 16
          },
          "showarrow": false,
          "text": "Topic 7",
          "x": 0.9125,
          "xanchor": "center",
          "xref": "paper",
          "y": 0.4,
          "yanchor": "bottom",
          "yref": "paper"
         }
        ],
        "height": 500,
        "hoverlabel": {
         "bgcolor": "white",
         "font": {
          "family": "Rockwell",
          "size": 16
         }
        },
        "showlegend": false,
        "template": {
         "data": {
          "bar": [
           {
            "error_x": {
             "color": "#2a3f5f"
            },
            "error_y": {
             "color": "#2a3f5f"
            },
            "marker": {
             "line": {
              "color": "white",
              "width": 0.5
             },
             "pattern": {
              "fillmode": "overlay",
              "size": 10,
              "solidity": 0.2
             }
            },
            "type": "bar"
           }
          ],
          "barpolar": [
           {
            "marker": {
             "line": {
              "color": "white",
              "width": 0.5
             },
             "pattern": {
              "fillmode": "overlay",
              "size": 10,
              "solidity": 0.2
             }
            },
            "type": "barpolar"
           }
          ],
          "carpet": [
           {
            "aaxis": {
             "endlinecolor": "#2a3f5f",
             "gridcolor": "#C8D4E3",
             "linecolor": "#C8D4E3",
             "minorgridcolor": "#C8D4E3",
             "startlinecolor": "#2a3f5f"
            },
            "baxis": {
             "endlinecolor": "#2a3f5f",
             "gridcolor": "#C8D4E3",
             "linecolor": "#C8D4E3",
             "minorgridcolor": "#C8D4E3",
             "startlinecolor": "#2a3f5f"
            },
            "type": "carpet"
           }
          ],
          "choropleth": [
           {
            "colorbar": {
             "outlinewidth": 0,
             "ticks": ""
            },
            "type": "choropleth"
           }
          ],
          "contour": [
           {
            "colorbar": {
             "outlinewidth": 0,
             "ticks": ""
            },
            "colorscale": [
             [
              0,
              "#0d0887"
             ],
             [
              0.1111111111111111,
              "#46039f"
             ],
             [
              0.2222222222222222,
              "#7201a8"
             ],
             [
              0.3333333333333333,
              "#9c179e"
             ],
             [
              0.4444444444444444,
              "#bd3786"
             ],
             [
              0.5555555555555556,
              "#d8576b"
             ],
             [
              0.6666666666666666,
              "#ed7953"
             ],
             [
              0.7777777777777778,
              "#fb9f3a"
             ],
             [
              0.8888888888888888,
              "#fdca26"
             ],
             [
              1,
              "#f0f921"
             ]
            ],
            "type": "contour"
           }
          ],
          "contourcarpet": [
           {
            "colorbar": {
             "outlinewidth": 0,
             "ticks": ""
            },
            "type": "contourcarpet"
           }
          ],
          "heatmap": [
           {
            "colorbar": {
             "outlinewidth": 0,
             "ticks": ""
            },
            "colorscale": [
             [
              0,
              "#0d0887"
             ],
             [
              0.1111111111111111,
              "#46039f"
             ],
             [
              0.2222222222222222,
              "#7201a8"
             ],
             [
              0.3333333333333333,
              "#9c179e"
             ],
             [
              0.4444444444444444,
              "#bd3786"
             ],
             [
              0.5555555555555556,
              "#d8576b"
             ],
             [
              0.6666666666666666,
              "#ed7953"
             ],
             [
              0.7777777777777778,
              "#fb9f3a"
             ],
             [
              0.8888888888888888,
              "#fdca26"
             ],
             [
              1,
              "#f0f921"
             ]
            ],
            "type": "heatmap"
           }
          ],
          "histogram": [
           {
            "marker": {
             "pattern": {
              "fillmode": "overlay",
              "size": 10,
              "solidity": 0.2
             }
            },
            "type": "histogram"
           }
          ],
          "histogram2d": [
           {
            "colorbar": {
             "outlinewidth": 0,
             "ticks": ""
            },
            "colorscale": [
             [
              0,
              "#0d0887"
             ],
             [
              0.1111111111111111,
              "#46039f"
             ],
             [
              0.2222222222222222,
              "#7201a8"
             ],
             [
              0.3333333333333333,
              "#9c179e"
             ],
             [
              0.4444444444444444,
              "#bd3786"
             ],
             [
              0.5555555555555556,
              "#d8576b"
             ],
             [
              0.6666666666666666,
              "#ed7953"
             ],
             [
              0.7777777777777778,
              "#fb9f3a"
             ],
             [
              0.8888888888888888,
              "#fdca26"
             ],
             [
              1,
              "#f0f921"
             ]
            ],
            "type": "histogram2d"
           }
          ],
          "histogram2dcontour": [
           {
            "colorbar": {
             "outlinewidth": 0,
             "ticks": ""
            },
            "colorscale": [
             [
              0,
              "#0d0887"
             ],
             [
              0.1111111111111111,
              "#46039f"
             ],
             [
              0.2222222222222222,
              "#7201a8"
             ],
             [
              0.3333333333333333,
              "#9c179e"
             ],
             [
              0.4444444444444444,
              "#bd3786"
             ],
             [
              0.5555555555555556,
              "#d8576b"
             ],
             [
              0.6666666666666666,
              "#ed7953"
             ],
             [
              0.7777777777777778,
              "#fb9f3a"
             ],
             [
              0.8888888888888888,
              "#fdca26"
             ],
             [
              1,
              "#f0f921"
             ]
            ],
            "type": "histogram2dcontour"
           }
          ],
          "mesh3d": [
           {
            "colorbar": {
             "outlinewidth": 0,
             "ticks": ""
            },
            "type": "mesh3d"
           }
          ],
          "parcoords": [
           {
            "line": {
             "colorbar": {
              "outlinewidth": 0,
              "ticks": ""
             }
            },
            "type": "parcoords"
           }
          ],
          "pie": [
           {
            "automargin": true,
            "type": "pie"
           }
          ],
          "scatter": [
           {
            "fillpattern": {
             "fillmode": "overlay",
             "size": 10,
             "solidity": 0.2
            },
            "type": "scatter"
           }
          ],
          "scatter3d": [
           {
            "line": {
             "colorbar": {
              "outlinewidth": 0,
              "ticks": ""
             }
            },
            "marker": {
             "colorbar": {
              "outlinewidth": 0,
              "ticks": ""
             }
            },
            "type": "scatter3d"
           }
          ],
          "scattercarpet": [
           {
            "marker": {
             "colorbar": {
              "outlinewidth": 0,
              "ticks": ""
             }
            },
            "type": "scattercarpet"
           }
          ],
          "scattergeo": [
           {
            "marker": {
             "colorbar": {
              "outlinewidth": 0,
              "ticks": ""
             }
            },
            "type": "scattergeo"
           }
          ],
          "scattergl": [
           {
            "marker": {
             "colorbar": {
              "outlinewidth": 0,
              "ticks": ""
             }
            },
            "type": "scattergl"
           }
          ],
          "scattermap": [
           {
            "marker": {
             "colorbar": {
              "outlinewidth": 0,
              "ticks": ""
             }
            },
            "type": "scattermap"
           }
          ],
          "scattermapbox": [
           {
            "marker": {
             "colorbar": {
              "outlinewidth": 0,
              "ticks": ""
             }
            },
            "type": "scattermapbox"
           }
          ],
          "scatterpolar": [
           {
            "marker": {
             "colorbar": {
              "outlinewidth": 0,
              "ticks": ""
             }
            },
            "type": "scatterpolar"
           }
          ],
          "scatterpolargl": [
           {
            "marker": {
             "colorbar": {
              "outlinewidth": 0,
              "ticks": ""
             }
            },
            "type": "scatterpolargl"
           }
          ],
          "scatterternary": [
           {
            "marker": {
             "colorbar": {
              "outlinewidth": 0,
              "ticks": ""
             }
            },
            "type": "scatterternary"
           }
          ],
          "surface": [
           {
            "colorbar": {
             "outlinewidth": 0,
             "ticks": ""
            },
            "colorscale": [
             [
              0,
              "#0d0887"
             ],
             [
              0.1111111111111111,
              "#46039f"
             ],
             [
              0.2222222222222222,
              "#7201a8"
             ],
             [
              0.3333333333333333,
              "#9c179e"
             ],
             [
              0.4444444444444444,
              "#bd3786"
             ],
             [
              0.5555555555555556,
              "#d8576b"
             ],
             [
              0.6666666666666666,
              "#ed7953"
             ],
             [
              0.7777777777777778,
              "#fb9f3a"
             ],
             [
              0.8888888888888888,
              "#fdca26"
             ],
             [
              1,
              "#f0f921"
             ]
            ],
            "type": "surface"
           }
          ],
          "table": [
           {
            "cells": {
             "fill": {
              "color": "#EBF0F8"
             },
             "line": {
              "color": "white"
             }
            },
            "header": {
             "fill": {
              "color": "#C8D4E3"
             },
             "line": {
              "color": "white"
             }
            },
            "type": "table"
           }
          ]
         },
         "layout": {
          "annotationdefaults": {
           "arrowcolor": "#2a3f5f",
           "arrowhead": 0,
           "arrowwidth": 1
          },
          "autotypenumbers": "strict",
          "coloraxis": {
           "colorbar": {
            "outlinewidth": 0,
            "ticks": ""
           }
          },
          "colorscale": {
           "diverging": [
            [
             0,
             "#8e0152"
            ],
            [
             0.1,
             "#c51b7d"
            ],
            [
             0.2,
             "#de77ae"
            ],
            [
             0.3,
             "#f1b6da"
            ],
            [
             0.4,
             "#fde0ef"
            ],
            [
             0.5,
             "#f7f7f7"
            ],
            [
             0.6,
             "#e6f5d0"
            ],
            [
             0.7,
             "#b8e186"
            ],
            [
             0.8,
             "#7fbc41"
            ],
            [
             0.9,
             "#4d9221"
            ],
            [
             1,
             "#276419"
            ]
           ],
           "sequential": [
            [
             0,
             "#0d0887"
            ],
            [
             0.1111111111111111,
             "#46039f"
            ],
            [
             0.2222222222222222,
             "#7201a8"
            ],
            [
             0.3333333333333333,
             "#9c179e"
            ],
            [
             0.4444444444444444,
             "#bd3786"
            ],
            [
             0.5555555555555556,
             "#d8576b"
            ],
            [
             0.6666666666666666,
             "#ed7953"
            ],
            [
             0.7777777777777778,
             "#fb9f3a"
            ],
            [
             0.8888888888888888,
             "#fdca26"
            ],
            [
             1,
             "#f0f921"
            ]
           ],
           "sequentialminus": [
            [
             0,
             "#0d0887"
            ],
            [
             0.1111111111111111,
             "#46039f"
            ],
            [
             0.2222222222222222,
             "#7201a8"
            ],
            [
             0.3333333333333333,
             "#9c179e"
            ],
            [
             0.4444444444444444,
             "#bd3786"
            ],
            [
             0.5555555555555556,
             "#d8576b"
            ],
            [
             0.6666666666666666,
             "#ed7953"
            ],
            [
             0.7777777777777778,
             "#fb9f3a"
            ],
            [
             0.8888888888888888,
             "#fdca26"
            ],
            [
             1,
             "#f0f921"
            ]
           ]
          },
          "colorway": [
           "#636efa",
           "#EF553B",
           "#00cc96",
           "#ab63fa",
           "#FFA15A",
           "#19d3f3",
           "#FF6692",
           "#B6E880",
           "#FF97FF",
           "#FECB52"
          ],
          "font": {
           "color": "#2a3f5f"
          },
          "geo": {
           "bgcolor": "white",
           "lakecolor": "white",
           "landcolor": "white",
           "showlakes": true,
           "showland": true,
           "subunitcolor": "#C8D4E3"
          },
          "hoverlabel": {
           "align": "left"
          },
          "hovermode": "closest",
          "mapbox": {
           "style": "light"
          },
          "paper_bgcolor": "white",
          "plot_bgcolor": "white",
          "polar": {
           "angularaxis": {
            "gridcolor": "#EBF0F8",
            "linecolor": "#EBF0F8",
            "ticks": ""
           },
           "bgcolor": "white",
           "radialaxis": {
            "gridcolor": "#EBF0F8",
            "linecolor": "#EBF0F8",
            "ticks": ""
           }
          },
          "scene": {
           "xaxis": {
            "backgroundcolor": "white",
            "gridcolor": "#DFE8F3",
            "gridwidth": 2,
            "linecolor": "#EBF0F8",
            "showbackground": true,
            "ticks": "",
            "zerolinecolor": "#EBF0F8"
           },
           "yaxis": {
            "backgroundcolor": "white",
            "gridcolor": "#DFE8F3",
            "gridwidth": 2,
            "linecolor": "#EBF0F8",
            "showbackground": true,
            "ticks": "",
            "zerolinecolor": "#EBF0F8"
           },
           "zaxis": {
            "backgroundcolor": "white",
            "gridcolor": "#DFE8F3",
            "gridwidth": 2,
            "linecolor": "#EBF0F8",
            "showbackground": true,
            "ticks": "",
            "zerolinecolor": "#EBF0F8"
           }
          },
          "shapedefaults": {
           "line": {
            "color": "#2a3f5f"
           }
          },
          "ternary": {
           "aaxis": {
            "gridcolor": "#DFE8F3",
            "linecolor": "#A2B1C6",
            "ticks": ""
           },
           "baxis": {
            "gridcolor": "#DFE8F3",
            "linecolor": "#A2B1C6",
            "ticks": ""
           },
           "bgcolor": "white",
           "caxis": {
            "gridcolor": "#DFE8F3",
            "linecolor": "#A2B1C6",
            "ticks": ""
           }
          },
          "title": {
           "x": 0.05
          },
          "xaxis": {
           "automargin": true,
           "gridcolor": "#EBF0F8",
           "linecolor": "#EBF0F8",
           "ticks": "",
           "title": {
            "standoff": 15
           },
           "zerolinecolor": "#EBF0F8",
           "zerolinewidth": 2
          },
          "yaxis": {
           "automargin": true,
           "gridcolor": "#EBF0F8",
           "linecolor": "#EBF0F8",
           "ticks": "",
           "title": {
            "standoff": 15
           },
           "zerolinecolor": "#EBF0F8",
           "zerolinewidth": 2
          }
         }
        },
        "title": {
         "font": {
          "color": "Black",
          "size": 22
         },
         "text": "Topic Word Scores",
         "x": 0.5,
         "xanchor": "center",
         "yanchor": "top"
        },
        "width": 1000,
        "xaxis": {
         "anchor": "y",
         "domain": [
          0,
          0.175
         ],
         "showgrid": true
        },
        "xaxis2": {
         "anchor": "y2",
         "domain": [
          0.275,
          0.45
         ],
         "showgrid": true
        },
        "xaxis3": {
         "anchor": "y3",
         "domain": [
          0.55,
          0.7250000000000001
         ],
         "showgrid": true
        },
        "xaxis4": {
         "anchor": "y4",
         "domain": [
          0.825,
          1
         ],
         "showgrid": true
        },
        "xaxis5": {
         "anchor": "y5",
         "domain": [
          0,
          0.175
         ],
         "showgrid": true
        },
        "xaxis6": {
         "anchor": "y6",
         "domain": [
          0.275,
          0.45
         ],
         "showgrid": true
        },
        "xaxis7": {
         "anchor": "y7",
         "domain": [
          0.55,
          0.7250000000000001
         ],
         "showgrid": true
        },
        "xaxis8": {
         "anchor": "y8",
         "domain": [
          0.825,
          1
         ],
         "showgrid": true
        },
        "yaxis": {
         "anchor": "x",
         "domain": [
          0.6000000000000001,
          1
         ],
         "showgrid": true
        },
        "yaxis2": {
         "anchor": "x2",
         "domain": [
          0.6000000000000001,
          1
         ],
         "showgrid": true
        },
        "yaxis3": {
         "anchor": "x3",
         "domain": [
          0.6000000000000001,
          1
         ],
         "showgrid": true
        },
        "yaxis4": {
         "anchor": "x4",
         "domain": [
          0.6000000000000001,
          1
         ],
         "showgrid": true
        },
        "yaxis5": {
         "anchor": "x5",
         "domain": [
          0,
          0.4
         ],
         "showgrid": true
        },
        "yaxis6": {
         "anchor": "x6",
         "domain": [
          0,
          0.4
         ],
         "showgrid": true
        },
        "yaxis7": {
         "anchor": "x7",
         "domain": [
          0,
          0.4
         ],
         "showgrid": true
        },
        "yaxis8": {
         "anchor": "x8",
         "domain": [
          0,
          0.4
         ],
         "showgrid": true
        }
       }
      }
     },
     "metadata": {},
     "output_type": "display_data"
    }
   ],
   "source": [
    "print(topic_model.get_topic_info())\n",
    "# print(topic_model.generate_topic_labels(nr_words=1))\n",
    "\n",
    "topic_model.visualize_barchart()"
   ]
  },
  {
   "cell_type": "markdown",
   "metadata": {},
   "source": [
    "## Topic Hierarchy"
   ]
  },
  {
   "cell_type": "code",
   "execution_count": null,
   "metadata": {},
   "outputs": [
    {
     "name": "stdout",
     "output_type": "stream",
     "text": [
      ".\n",
      "├─stale_commentedout_code_commented_comments\n",
      "│    ├─docstring_docstrings_docstr_stale_doc\n",
      "│    │    ├─docstring_docstrings_docstr_doc_stale\n",
      "│    │    │    ├─■──docstring_docstrings_docstr_doc_docblock ── Topic: 63\n",
      "│    │    │    └─■──docstring_docstrings_stale_romybinarysensor_issue ── Topic: 126\n",
      "│    │    └─stale_consistent_bad_changed_good\n",
      "│    │         ├─■──stale_consistent_changed_bad_good ── Topic: 86\n",
      "│    │         └─■──stale_comment_comments_explain_belong ── Topic: 177\n",
      "│    └─commentedout_remove_code_commented_removes\n",
      "│         ├─commentedout_remove_removes_commented_code\n",
      "│         │    ├─■──commentedout_remove_code_commented_removes ── Topic: 55\n",
      "│         │    └─stale_code_commented_comments_comment\n",
      "│         │         ├─■──code_commented_comment_comments_feedback ── Topic: 172\n",
      "│         │         └─■──stale_code_commented_comment_cleaned ── Topic: 156\n",
      "│         └─■──code_commentedout_commented_copied_ ── Topic: 185\n",
      "└─yaml_configuration_config_service_needs\n",
      "     ├─logging_debug_log_exception_exceptions\n",
      "     │    ├─return_returning_returns_type_typed\n",
      "     │    │    ├─typing_typed_type_adding_add\n",
      "     │    │    │    ├─mypy_switchpy_selectpy117_casting_casttypet\n",
      "     │    │    │    │    ├─■──casttypet_casting_casts_caststr_cast ── Topic: 123\n",
      "     │    │    │    │    └─■──mypy_switchpy_empy_selectpy117_dtpy51 ── Topic: 107\n",
      "     │    │    │    └─typing_typed_typingfinal_type_typingcallable\n",
      "     │    │    │         ├─■──type_types_hints_hinting_typechecker ── Topic: 53\n",
      "     │    │    │         └─typing_typings_typed_typingfinal_type\n",
      "     │    │    │              ├─■──annotations_annotate_annotation_annotated_type ── Topic: 139\n",
      "     │    │    │              └─■──typed_typing_typings_type_complete ── Topic: 36\n",
      "     │    │    └─returning_return_returns_type_types\n",
      "     │    │         ├─■──return_type_types_resultresponse_typed ── Topic: 105\n",
      "     │    │         └─■──returns_return_returning_returned_checking ── Topic: 87\n",
      "     │    └─debug_logging_exception_log_errors\n",
      "     │         ├─constpy_const_constants_conf_async\n",
      "     │         │    ├─unused_removing_gone_remove_omitted\n",
      "     │         │    │    ├─unused_useless_use_removed_used\n",
      "     │         │    │    │    ├─■──unused_useless_removed_use_used ── Topic: 85\n",
      "     │         │    │    │    └─■──unused_removed_required__ ── Topic: 153\n",
      "     │         │    │    └─removed_removing_remove_unused_omitted\n",
      "     │         │    │         ├─remove_removing_removed_omitted_gone\n",
      "     │         │    │         │    ├─■──fields_omitted_remove_unused_omit ── Topic: 113\n",
      "     │         │    │         │    └─removed_remove_removing_unused_gone\n",
      "     │         │    │         │         ├─■──remove_removed_cleanedup_dont_ ── Topic: 167\n",
      "     │         │    │         │         └─■──removing_remove_removed_unused_gone ── Topic: 15\n",
      "     │         │    │         └─use_used_using_obsolete_anymore\n",
      "     │         │    │              ├─■──use_used_using_obsolete_isnt ── Topic: 106\n",
      "     │         │    │              └─■──used_use_using_anymore_ ── Topic: 181\n",
      "     │         │    └─constants_constpy_constant_async_executor\n",
      "     │         │         ├─constants_const_constant_constpy_conf\n",
      "     │         │         │    ├─constants_const_constpy_constant_homeassistantconst\n",
      "     │         │         │    │    ├─fixed_solved_happened_check_try\n",
      "     │         │         │    │    │    ├─■──bc24777_fixed_cfb5fe1a8228c704a88f7e4ae9f9a58dd7f2d6d4_6cd945738e66a249e8691c243d817e869028b682_485e ── Topic: 132\n",
      "     │         │         │    │    │    └─■──fixed____ ── Topic: 180\n",
      "     │         │         │    │    └─constants_constant_variable_const_constpy\n",
      "     │         │         │    │         ├─constants_const_constant_constpy_variable\n",
      "     │         │         │    │         │    ├─pr_sort_sorted_merged_order\n",
      "     │         │         │    │         │    │    ├─idem_naming_sorted_indent_alphabetic\n",
      "     │         │         │    │         │    │    │    ├─indent_indents_indentation_unindent_unindented\n",
      "     │         │         │    │         │    │    │    │    ├─indent_indents_indentation_unindent_unindented\n",
      "     │         │         │    │         │    │    │    │    │    ├─■──indent_indents_indentation_unindent_unindented ── Topic: 128\n",
      "     │         │         │    │         │    │    │    │    │    └─guard_guards_guarding_adguard_removing\n",
      "     │         │         │    │         │    │    │    │    │         ├─■──conditional_conditionals_ifstatement_ifstatements_ifs ── Topic: 176\n",
      "     │         │         │    │         │    │    │    │    │         └─■──guard_guards_guarding_adguard_removing ── Topic: 130\n",
      "     │         │         │    │         │    │    │    │    └─■──checks_checking_checked_check_checkin ── Topic: 110\n",
      "     │         │         │    │         │    │    │    └─idem_alphabetically_alphabetic_alphabetical_sorted\n",
      "     │         │         │    │         │    │    │         ├─thanks_completed_thank_awesome_doable\n",
      "     │         │         │    │         │    │    │         │    ├─■──thanks_awesome_thx_nice_gotcha ── Topic: 39\n",
      "     │         │         │    │         │    │    │         │    └─■──completed_thanks_thank_doable_thx ── Topic: 46\n",
      "     │         │         │    │         │    │    │         └─idem_entity_sorted_naming_use\n",
      "     │         │         │    │         │    │    │              ├─idem_sorted_alphabetic_llms_order\n",
      "     │         │         │    │         │    │    │              │    ├─alphabetically_alphabetized_sorting_alphabetical_sort\n",
      "     │         │         │    │         │    │    │              │    │    ├─■──alphabetically_alphabetical_alphabetized_alphabetize_alphabetic ── Topic: 21\n",
      "     │         │         │    │         │    │    │              │    │    └─■──selectselector_selectselectormode_selectselectorconfig_selector_select ── Topic: 135\n",
      "     │         │         │    │         │    │    │              │    └─idem_id_llm_llms_engine\n",
      "     │         │         │    │         │    │    │              │         ├─registers_register_bytes_timeout_byte\n",
      "     │         │         │    │         │    │    │              │         │    ├─property_properties_cache_cached_caching\n",
      "     │         │         │    │         │    │    │              │         │    │    ├─■──pop_goes_good__ ── Topic: 152\n",
      "     │         │         │    │         │    │    │              │         │    │    └─property_properties_cache_cached_caching\n",
      "     │         │         │    │         │    │    │              │         │    │         ├─■──property_properties_removing_removes_remove ── Topic: 138\n",
      "     │         │         │    │         │    │    │              │         │    │         └─■──cache_caching_caches_cachetools_cached ── Topic: 184\n",
      "     │         │         │    │         │    │    │              │         │    └─registers_register_bytes_timeout_byte\n",
      "     │         │         │    │         │    │    │              │         │         ├─timeout_timeouts_timeouterror_seconds_minutes\n",
      "     │         │         │    │         │    │    │              │         │         │    ├─■──timeout_timeouts_timeouterror_seconds_minutes ── Topic: 124\n",
      "     │         │         │    │         │    │    │              │         │         │    └─■──does_works_body_work_watchdog ── Topic: 121\n",
      "     │         │         │    │         │    │    │              │         │         └─registers_bytes_register_byte_int32\n",
      "     │         │         │    │         │    │    │              │         │              ├─tilt_vertical_position_cover_movement\n",
      "     │         │         │    │         │    │    │              │         │              │    ├─■──tilt_positioning_vertical_position_cover ── Topic: 186\n",
      "     │         │         │    │         │    │    │              │         │              │    └─translatingentityname_entitynaming_nametruemandatoryfornewintegrations_entity_entities\n",
      "     │         │         │    │         │    │    │              │         │              │         ├─■──translatingentityname_entitydescription_entitynaming_nametruemandatoryfornewintegrations_entities ── Topic: 164\n",
      "     │         │         │    │         │    │    │              │         │              │         └─■──l1314l1324_l2030l2041_l135l158_l371_l1376l1380 ── Topic: 59\n",
      "     │         │         │    │         │    │    │              │         │              └─registers_register_bytes_byte_entrydatagetconf\n",
      "     │         │         │    │         │    │    │              │         │                   ├─registers_register_bytes_byte_16bytes\n",
      "     │         │         │    │         │    │    │              │         │                   │    ├─■──conversationid_conversationasync_conversation_conversationinput_conversations ── Topic: 154\n",
      "     │         │         │    │         │    │    │              │         │                   │    └─registers_bytes_register_byte_4bytes\n",
      "     │         │         │    │         │    │    │              │         │                   │         ├─■──registers_register_bytes_byte_4bytes ── Topic: 165\n",
      "     │         │         │    │         │    │    │              │         │                   │         └─■──runtimedata_entryruntimedata_runtime_entrydata_entryruntime ── Topic: 145\n",
      "     │         │         │    │         │    │    │              │         │                   └─■──freezer_freeze_fridgefreezer_frozen_freezertick ── Topic: 182\n",
      "     │         │         │    │         │    │    │              │         └─idem_iden___\n",
      "     │         │         │    │         │    │    │              │              ├─idem_iden___\n",
      "     │         │         │    │         │    │    │              │              │    ├─■──____ ── Topic: 175\n",
      "     │         │         │    │         │    │    │              │              │    └─idem_iden___\n",
      "     │         │         │    │         │    │    │              │              │         ├─idem_iden_zamg__\n",
      "     │         │         │    │         │    │    │              │              │         │    ├─■──idem_iden_zamg__ ── Topic: 82\n",
      "     │         │         │    │         │    │    │              │              │         │    └─■──3be9456_8b1d9ba_d949739577125a22a61cd5616584f93bff48e5f3_9a96604fc814869ecb594340ace7a1325230b05b_1e ── Topic: 173\n",
      "     │         │         │    │         │    │    │              │              │         └─■──____ ── Topic: 97\n",
      "     │         │         │    │         │    │    │              │              └─r892030842_r821453593_r821451935_r1083345302_r841228316\n",
      "     │         │         │    │         │    │    │              │                   ├─■──r892030842_r821453593_r821451935_r1083345302_r841228316 ── Topic: 120\n",
      "     │         │         │    │         │    │    │              │                   └─■──ditto_agreed_agree_likewise_thanks ── Topic: 74\n",
      "     │         │         │    │         │    │    │              └─const_translatable_underscore_convoluted_underscores\n",
      "     │         │         │    │         │    │    │                   ├─titles_title_renaming_capitalization_manifest\n",
      "     │         │         │    │         │    │    │                   │    ├─■──titles_title_renaming_capitalization_manifest ── Topic: 44\n",
      "     │         │         │    │         │    │    │                   │    └─■──domain_domains_unsupported_config_belongs ── Topic: 141\n",
      "     │         │         │    │         │    │    │                   └─const_convoluted_underscore_temporary_underscores\n",
      "     │         │         │    │         │    │    │                        ├─underscore_underscores_variable_variables_naming\n",
      "     │         │         │    │         │    │    │                        │    ├─■──variable_variables_underscore_underscores_var ── Topic: 52\n",
      "     │         │         │    │         │    │    │                        │    └─descriptive_clearer_vague_naming_simpler\n",
      "     │         │         │    │         │    │    │                        │         ├─■──lowercase_uppercase_capitalized_capitalization_capitalize ── Topic: 91\n",
      "     │         │         │    │         │    │    │                        │         └─■──simplified_simplify_simpler_reduced_clearer ── Topic: 19\n",
      "     │         │         │    │         │    │    │                        └─■──const_consts_constnats_cluter_underscore ── Topic: 98\n",
      "     │         │         │    │         │    │    └─pr_prs_bump_release_rebase\n",
      "     │         │         │    │         │    │         ├─pr_prs_prt_bump_release\n",
      "     │         │         │    │         │    │         │    ├─■──dependency_pr_prs_requirementstxt_bump ── Topic: 162\n",
      "     │         │         │    │         │    │         │    └─■──pr_prs_prt_separate_merge ── Topic: 12\n",
      "     │         │         │    │         │    │         └─pylint_pymodbus_pylance_importerror_pip\n",
      "     │         │         │    │         │    │              ├─formatting_formatter_format_reformatted_reverted\n",
      "     │         │         │    │         │    │              │    ├─■──formatting_formatter_format_fstring_fstrings ── Topic: 30\n",
      "     │         │         │    │         │    │              │    └─■──revert_reverted_reverting_changed_change ── Topic: 45\n",
      "     │         │         │    │         │    │              └─pylint_pylintdisable_pylib_pymodbus_pylance\n",
      "     │         │         │    │         │    │                   ├─■──rebase_rebased_rebasing_changed_changes ── Topic: 73\n",
      "     │         │         │    │         │    │                   └─■──pylint_pylintdisable_pylib_pymodbus_pylance ── Topic: 103\n",
      "     │         │         │    │         │    └─constants_constant_values_const_string\n",
      "     │         │         │    │         │         ├─import_importing_imports_imported_unpack\n",
      "     │         │         │    │         │         │    ├─■──import_importing_imports_imported_exported ── Topic: 38\n",
      "     │         │         │    │         │         │    └─■──homeassistsntconst_homeassistantconstconf_const_homeassistantcomponentsrestschema_homeassistantconst ── Topic: 75\n",
      "     │         │         │    │         │         └─constants_constant_values_const_string\n",
      "     │         │         │    │         │              ├─constants_constant_const_declare_numbers\n",
      "     │         │         │    │         │              │    ├─■──constpy_const_constants_constant_consts ── Topic: 109\n",
      "     │         │         │    │         │              │    └─■──constants_constant_declare_numbers_pattern ── Topic: 13\n",
      "     │         │         │    │         │              └─■──enums_enum_enumname_enumstrenum_enumerations ── Topic: 42\n",
      "     │         │         │    │         └─strings_string_newline_lines_break\n",
      "     │         │         │    │              ├─multiline_ternary_multilines_ternarys_lambda\n",
      "     │         │         │    │              │    ├─■──lambda_lambdas_multiline_multilines_oneline ── Topic: 70\n",
      "     │         │         │    │              │    └─■──ternary_ternarys_multiline_expression_lines ── Topic: 89\n",
      "     │         │         │    │              └─strings_string_newline_lines_break\n",
      "     │         │         │    │                   ├─■──line_newline_lines_blank_formatting ── Topic: 127\n",
      "     │         │         │    │                   └─■──strings_string_breaking_break_lines ── Topic: 96\n",
      "     │         │         │    └─necessary_needed_required_shouldnt_need\n",
      "     │         │         │         ├─■──necessary_shouldnt_required_needed_use ── Topic: 37\n",
      "     │         │         │         └─■──necessary_required_needed_need_anymore ── Topic: 108\n",
      "     │         │         └─executor_async_entriesasync_entryasync_await\n",
      "     │         │              ├─async_entriesasync_entryasync_selfasync_await\n",
      "     │         │              │    ├─platforms_platform_platformsentry_platformsensor_platformnotready\n",
      "     │         │              │    │    ├─■──platforms_platform_platformnotready_platformpropertiestobeimplementedbyderivingplatformclasses_pr ── Topic: 56\n",
      "     │         │              │    │    └─■──hassconfig_discoveryasync_hassdatasetdefaultdomain_registryasync_async ── Topic: 149\n",
      "     │         │              │    └─async_entryasync_selfasync_hassasync_await\n",
      "     │         │              │         ├─callback_unsubscribe_unsubscribed_callbacks_unsubscription\n",
      "     │         │              │         │    ├─■──unsubscribe_unsubscribed_unsubscribes_unsubscribing_unsubscription ── Topic: 77\n",
      "     │         │              │         │    └─■──coroutine_coroutines_coroutineany_callback_await ── Topic: 125\n",
      "     │         │              │         └─async_selfasync_entity_entities_await\n",
      "     │         │              │              ├─async_nonasync_selfasync_hassasync_await\n",
      "     │         │              │              │    ├─■──async_selfasync_setdefault_entrydataconf_setup ── Topic: 83\n",
      "     │         │              │              │    └─■──async_nonasync_asyncmock_hassasync_await ── Topic: 64\n",
      "     │         │              │              └─■──entityunifientityasync_async_entity_entities_entityget ── Topic: 35\n",
      "     │         │              └─executor_execution_async_executed_asynciotimeouterror\n",
      "     │         │                   ├─executor_execution_executed_async_selfhassasync\n",
      "     │         │                   │    ├─lists_comprehensions_comprehension_list_python\n",
      "     │         │                   │    │    ├─■──lists_comprehensions_comprehension_list_dict ── Topic: 114\n",
      "     │         │                   │    │    └─■──searching_search_linear_optimized_searches ── Topic: 99\n",
      "     │         │                   │    └─executor_executors_execution_async_concurrency\n",
      "     │         │                   │         ├─■──loop_looping_loops_iteration_forloop ── Topic: 170\n",
      "     │         │                   │         └─executor_executors_execution_executed_concurrency\n",
      "     │         │                   │              ├─■──asyncio_asynciowait_asyncioget_asynciocreate_asynciogather ── Topic: 81\n",
      "     │         │                   │              └─■──executor_execution_executed_trystatement_functoolspartial ── Topic: 48\n",
      "     │         │                   └─function_inlinefunction_functions_inline_inlined\n",
      "     │         │                        ├─■──function_inlinefunction_functions_inline_inlined ── Topic: 79\n",
      "     │         │                        └─■──duplicated_duplicate_code_coding_hardcoded ── Topic: 144\n",
      "     │         └─exceptions_exception_logging_logginggetlogger_debug\n",
      "     │              ├─block_exceptions_tryblock_wrap_lines\n",
      "     │              │    ├─homeassistanterror_servicevalidationerror_valueerror_errors_typeerror\n",
      "     │              │    │    ├─■──errors_error_errorsbase_fails_failures ── Topic: 104\n",
      "     │              │    │    └─homeassistanterror_servicevalidationerror_exceptionshomeassistanterror_valueerror_errors\n",
      "     │              │    │         ├─■──homeassistanterror_homeassistantexceptiontemplateerror_homeassistanterrorfcommand_serviceerror_servi ── Topic: 72\n",
      "     │              │    │         └─■──servicevalidationerror_servicevaludationerror_valueerror_servicespy_typeerror ── Topic: 151\n",
      "     │              │    └─block_tryblock_blocks_exceptions_exception\n",
      "     │              │         ├─■──exceptions_exception_catch_catching_avoid ── Topic: 40\n",
      "     │              │         └─■──block_tryblock_trydanerror_blocks_wrap ── Topic: 24\n",
      "     │              └─loggerdebug_debug_debugging_logging_logginggetlogger\n",
      "     │                   ├─loggerdebug_logging_log_debug_logginggetlogger\n",
      "     │                   │    ├─■──logger_logginggetlogger_logging_loggers_log ── Topic: 60\n",
      "     │                   │    └─loggerdebug_debug_debugging_loggerexception_logging\n",
      "     │                   │         ├─loggerdebug_debug_debugging_debugspecific_logging\n",
      "     │                   │         │    ├─■──loggerexception_exception_logging_debugging_debug ── Topic: 122\n",
      "     │                   │         │    └─■──debug_loggerdebug_debugging_debugspecific_logging ── Topic: 31\n",
      "     │                   │         └─■──warnings_warning_warn_logging_loggererror ── Topic: 131\n",
      "     │                   └─■──debugging_debugger_debug_print_printing ── Topic: 148\n",
      "     └─coordinator_configuration_yaml_entity_entities\n",
      "          ├─yaml_config_configuration_changes_entity\n",
      "          │    ├─attributes_attribute_sensors_sensor_entity\n",
      "          │    │    ├─device_setting_entity_set_class\n",
      "          │    │    │    ├─measurement_measured_meters_units_measurements\n",
      "          │    │    │    │    ├─■──measurement_units_meters_measurements_unit ── Topic: 29\n",
      "          │    │    │    │    └─kwh_metering_energy_meter_powerconsumptionreport\n",
      "          │    │    │    │         ├─■──metering_sensor_meter_sensors_measuring ── Topic: 129\n",
      "          │    │    │    │         └─■──energy_power_electricity_watts_kwh ── Topic: 157\n",
      "          │    │    │    └─entities_entity_attributes_attribute_dataclass\n",
      "          │    │    │         ├─entity_entities_hvac_sensorentitydescription_climate\n",
      "          │    │    │         │    ├─icons_translations_icon_translated_translators\n",
      "          │    │    │         │    │    ├─■──icon_icons_iconsjson_logo_device ── Topic: 14\n",
      "          │    │    │         │    │    └─translations_translator_translated_translators_translate\n",
      "          │    │    │         │    │         ├─■──translations_device_translated_translation_refers ── Topic: 67\n",
      "          │    │    │         │    │         └─■──translations_translators_translator_translated_translation ── Topic: 4\n",
      "          │    │    │         │    └─sensorentitydescription_sensorpy_sensor_sensors_attributes\n",
      "          │    │    │         │         ├─entity_sensorentitydescription_entities_setting_sensor\n",
      "          │    │    │         │         │    ├─datetime_timestamps_utc_timestamp_epoch\n",
      "          │    │    │         │         │    │    ├─mqtt_mqtttemperaturecontrolentity_mqttcommandtemplate_mqttentity_pahomqtt\n",
      "          │    │    │         │         │    │    │    ├─min_minvalue_minimum_threshold_max\n",
      "          │    │    │         │         │    │    │    │    ├─■──humidity_humidifying_humidifier_humidifiers_dehumidifier ── Topic: 112\n",
      "          │    │    │         │         │    │    │    │    └─■──min_minvalue_minimum_max_threshold ── Topic: 147\n",
      "          │    │    │         │         │    │    │    └─mqtt_mqttnotenabled_mqqt_mqtttemperaturecontrolentity_mqttcommandtemplate\n",
      "          │    │    │         │         │    │    │         ├─■──validator_validators_validate_validation_validated ── Topic: 78\n",
      "          │    │    │         │         │    │    │         └─■──mqtt_mqttnotenabled_mqqt_mqtttemperaturecontrolentity_mqttcommandtemplate ── Topic: 66\n",
      "          │    │    │         │         │    │    └─utc_datetime_timestamps_timestamp_timezone\n",
      "          │    │    │         │         │    │         ├─■──datetimedatetimeisoformat_datetime_sysstrptimetime_utc_timestamps ── Topic: 16\n",
      "          │    │    │         │         │    │         └─■──countdown_countdowns_timer_timers_sensordeviceclasstimestamp ── Topic: 95\n",
      "          │    │    │         │         │    └─sensorentitydescription_attributes_sensors_sensorpy_entitydescription\n",
      "          │    │    │         │         │         ├─temperature_hvac_sensorentitydescription_modes_temp\n",
      "          │    │    │         │         │         │    ├─devicedevice_deviceinfo_deviceclassrestart_devices_device\n",
      "          │    │    │         │         │         │    │    ├─■──deviceinfo_deviceclassrestart_deviceparent_devicecover_devices ── Topic: 25\n",
      "          │    │    │         │         │         │    │    └─■──deviceserial_entity_entities_deviceinfo_devicedevice ── Topic: 49\n",
      "          │    │    │         │         │         │    └─entity_entitydescription_entities_sensorentitydescription_attribute\n",
      "          │    │    │         │         │         │         ├─sensorentitydescription_sensorpy_brightness_sensors_modes\n",
      "          │    │    │         │         │         │         │    ├─temperature_thermostat_modes_hvac_temp\n",
      "          │    │    │         │         │         │         │    │    ├─■──brightness_colormodeunknown_colors_colour_rgb ── Topic: 8\n",
      "          │    │    │         │         │         │         │    │    └─■──thermostats_thermostat_hvacmodeoff_hvac_temperatures ── Topic: 5\n",
      "          │    │    │         │         │         │         │    └─sensor_sensors_sensorentitydescription_sensorpy_sensorentity\n",
      "          │    │    │         │         │         │         │         ├─■──state_states_states1_stateobj_class ── Topic: 7\n",
      "          │    │    │         │         │         │         │         └─sensor_sensors_sensorentitydescription_sensorpy_sensorentity\n",
      "          │    │    │         │         │         │         │              ├─■──sensor_sensors_sensorentitydescription_sensorpy_sensorentity ── Topic: 0\n",
      "          │    │    │         │         │         │         │              └─■──entitydescription_entitydescriptions_entity_entities_entitynaming ── Topic: 1\n",
      "          │    │    │         │         │         │         └─■──locking_lock_locks_unlocking_locked ── Topic: 62\n",
      "          │    │    │         │         │         └─entitycategorydiagnostic_entitycategoryconfig_entity_entities_category\n",
      "          │    │    │         │         │              ├─■──tuya_tuyas_sensor_specification_iot ── Topic: 183\n",
      "          │    │    │         │         │              └─■──entitycategory_entitycategoryconfig_entitycategorydiagnostic_categories_category ── Topic: 137\n",
      "          │    │    │         │         └─entityclassattributes_class_classes_subclass_subclasses\n",
      "          │    │    │         │              ├─class_classes_subclass_subclasses_attribute\n",
      "          │    │    │         │              │    ├─■──state_class_missing_package_model ── Topic: 169\n",
      "          │    │    │         │              │    └─class_classes_subclass_classvar_subclasses\n",
      "          │    │    │         │              │         ├─■──subclass_subclasses_class_classes_inheritance ── Topic: 23\n",
      "          │    │    │         │              │         └─■──attributeselector_attribute_attributes_getattribute_class ── Topic: 80\n",
      "          │    │    │         │              └─■──entityclassattributes_entityclassorinstanceattributes_attributes_attribute_entity ── Topic: 179\n",
      "          │    │    │         └─dictkey_dict_dictget_dicts_dictionaries\n",
      "          │    │    │              ├─schema_schemas_defaults_fields_default\n",
      "          │    │    │              │    ├─■──schemaextend_schema_schemas_homeassistantcoreserviceregistryasync_services ── Topic: 155\n",
      "          │    │    │              │    └─■──schemadata_schema_schemareauth_schemas_defaults ── Topic: 28\n",
      "          │    │    │              └─dictgetkey_dictkey_dict_dictget_dicts\n",
      "          │    │    │                   ├─dict_dictgetkey_dictkey_dictget_dicts\n",
      "          │    │    │                   │    ├─dictgetkey_dictkey_dict_dictget_dicts\n",
      "          │    │    │                   │    │    ├─■──requiredkeysmixin_keys_keys1_remove_key ── Topic: 43\n",
      "          │    │    │                   │    │    └─■──dict_dicts_dictget_dictgetkey_dictkey ── Topic: 3\n",
      "          │    │    │                   │    └─default_defaults_setting_option_enabled\n",
      "          │    │    │                   │         ├─■──default_defaults_setting_option_enabled ── Topic: 10\n",
      "          │    │    │                   │         └─■──getter_gettitle_returns_return_optional ── Topic: 158\n",
      "          │    │    │                   └─dataclassesfields_attribute_dataclass_attributes_mixin\n",
      "          │    │    │                        ├─mixin_mixins_dataclassesfields_attribute_dataclass\n",
      "          │    │    │                        │    ├─■──mixin_mixins_attribute_sensorstateclassmeasurement_optional ── Topic: 161\n",
      "          │    │    │                        │    └─■──dataclass_dataclasses_dataclassesfields_classes_class ── Topic: 166\n",
      "          │    │    │                        └─■──tuple_tuples_return_returning_items ── Topic: 168\n",
      "          │    │    └─coordinator_coordinatorentity_coordinators_coordinatorpy_entity\n",
      "          │    │         ├─file_filename_remove_files_removed\n",
      "          │    │         │    ├─init_initpy_config_modify_onpy\n",
      "          │    │         │    │    ├─■──init_initialisation_initializing_modify_overriding ── Topic: 71\n",
      "          │    │         │    │    └─■──initpy_init_py_addonpy_py311 ── Topic: 76\n",
      "          │    │         │    └─file_filename_remove_files_import\n",
      "          │    │         │         ├─■──file_filenotfounderror_remove_deleting_files ── Topic: 47\n",
      "          │    │         │         └─■──genericcamera_camera_jpeg_cameras_qr ── Topic: 84\n",
      "          │    │         └─coordinator_coordinatorentity_coordinators_coordinatorpy_coordinatedsingleapipollfordataforallentiti\n",
      "          │    │              ├─dataupdatecoordinator_scan_intervals_interval_intervall\n",
      "          │    │              │    ├─async_selfasync_entityasync_sync_statetrue\n",
      "          │    │              │    │    ├─■──async_selfasync_superasync_entityasync_sync ── Topic: 100\n",
      "          │    │              │    │    └─■──updatefailed_updates_update_raise_raising ── Topic: 117\n",
      "          │    │              │    └─dataupdatecoordinator_scan_intervals_interval_intervall\n",
      "          │    │              │         ├─■──intervals_polling_interval_intervall_scan ── Topic: 18\n",
      "          │    │              │         └─■──dataupdatecoordinator_settingdataupdatecoordinator_selectdataupdatecoordinator_timestampdataupdateco ── Topic: 116\n",
      "          │    │              └─coordinator_coordinators_coordinatorentity_coordinatordata_coordinatorpy\n",
      "          │    │                   ├─coordinator_coordinators_coordinatorentity_coordinatordata_coordinatorpy\n",
      "          │    │                   │    ├─■──coordinatorpy_coordinatordevice_coordinator_coordinatorasync_coordinators ── Topic: 93\n",
      "          │    │                   │    └─■──coordinator_coordinatorentity_coordinators_coordinatordata_coordinated ── Topic: 6\n",
      "          │    │                   └─■──entitypy_entity_entities_climatepy_ecowittentity ── Topic: 118\n",
      "          │    └─yaml_config_configuration_pr_configentrynotready\n",
      "          │         ├─testing_unittest_tests_fixture_test\n",
      "          │         │    ├─coverage_coveragerc_testingyourconfigflow_tests_testingoutsideoftox\n",
      "          │         │    │    ├─■──coverage_coveragerc_testingyourconfigflow_configflow_config ── Topic: 174\n",
      "          │         │    │    └─■──coverage_coveragerc_covered_covering_missing ── Topic: 119\n",
      "          │         │    └─fixture_fixtures_testing_mock_unittest\n",
      "          │         │         ├─fixture_fixtures_testing_mock_unittest\n",
      "          │         │         │    ├─■──fixture_fixtures_fixtureforecastjson_bulbs_bulbscanner ── Topic: 32\n",
      "          │         │         │    └─testing_tests_test_unittest_tested\n",
      "          │         │         │         ├─testing_tests_test_unittest_tested\n",
      "          │         │         │         │    ├─■──pytestmarkparametrize_pytest_pytestmark_pytestraises_tests ── Topic: 51\n",
      "          │         │         │         │    └─■──testing_test_tests_tested_untested ── Topic: 11\n",
      "          │         │         │         └─■──flowpytest_tests_testing_initpy_test ── Topic: 160\n",
      "          │         │         └─■──snapshottesting_snapshot_snapshotassertion_snapshotting_snapshotupdate ── Topic: 94\n",
      "          │         └─yaml_config_configuration_pr_changes\n",
      "          │              ├─mockconfigentry_library_patching_patch_mock\n",
      "          │              │    ├─assert_asserts_asserting_assertions_assertion\n",
      "          │              │    │    ├─■──assert_asserts_asserting_assertions_assertion ── Topic: 90\n",
      "          │              │    │    └─■──assert_asserting_stateattributesgetoperation_stateentities_state ── Topic: 178\n",
      "          │              │    └─patching_library_patch_lib_fixed\n",
      "          │              │         ├─writingtestsforintegrations_hassdatadomainconfig_tests_hassdatadata_hass\n",
      "          │              │         │    ├─■──hassdatadomainconfig_hassdatadata_hassdatadomain_hassdatasetdefaultdomain_hassdatadomainentryentry ── Topic: 22\n",
      "          │              │         │    └─■──writingtestsforintegrations_tests_testing_test_mock ── Topic: 111\n",
      "          │              │         └─patching_patch_library_lib_mockconfigentry\n",
      "          │              │              ├─mock_mocks_mockconfigentry_mocked_mocking\n",
      "          │              │              │    ├─■──mock_mockconfigentry_mocks_mocklifxcommand_mocksetup ── Topic: 50\n",
      "          │              │              │    └─■──library_patchobject_patch_patched_patches ── Topic: 57\n",
      "          │              │              └─pypi_pynanoleaf_package_pkg_pythonglancesapi\n",
      "          │              │                   ├─■──4communicationwithdevicesservices_5communicationwithdevicesservices_protocol_pypi_interface ── Topic: 136\n",
      "          │              │                   └─■──pypi_pyprojecttoml_pypiorg_pynanoleaf_package ── Topic: 133\n",
      "          │              └─yaml_config_configuration_configentryauthfailed_changes\n",
      "          │                   ├─reauth_configentryauthfailed_authentication_auth_credentials\n",
      "          │                   │    ├─uniqueidrequirements_dhcp_address_uuid_ip\n",
      "          │                   │    │    ├─flowresulttypecreate_flowresulttypeabort_mockconfigentry_flow_config\n",
      "          │                   │    │    │    ├─port_ports_selfport_cvport_http\n",
      "          │                   │    │    │    │    ├─■──port_ports_selfport_cvport_localhost ── Topic: 101\n",
      "          │                   │    │    │    │    └─■──step_steps_await_async_form ── Topic: 140\n",
      "          │                   │    │    │    └─flowtest_abortflow_flowresulttypeabort_mockconfigentry_flowresulttypecreate\n",
      "          │                   │    │    │         ├─■──flowtest_abortflow_flowresulttypeabort_mockconfigentry_flowresulttypecreate ── Topic: 102\n",
      "          │                   │    │    │         └─■──abort_abortflow_end_reason_stopscript ── Topic: 188\n",
      "          │                   │    │    └─uniqueidrequirements_unique_identifier_uuid_ids\n",
      "          │                   │    │         ├─hardwareaddress_dhcp_address_ip_addresses\n",
      "          │                   │    │         │    ├─■──bluetooth_bluetoothserviceinfobleak_ble_bt_bthome ── Topic: 115\n",
      "          │                   │    │         │    └─generaldiagnosticsstructsnetworkinterfacehardwareaddress_hardwareaddress_dhcp_address_addresses\n",
      "          │                   │    │         │         ├─■──hardwareaddress_generaldiagnosticsstructsnetworkinterfacehardwareaddress_mac_address_addresses ── Topic: 146\n",
      "          │                   │    │         │         └─■──dhcp_homeassistantcomponentsdhcp_gateway_ip_ips ── Topic: 187\n",
      "          │                   │    │         └─uniqueidrequirements_deviceid_unique_uuid_uuids\n",
      "          │                   │    │              ├─■──deviceid_uuid_uuids_uniqueidrequirements_deviceclass ── Topic: 65\n",
      "          │                   │    │              └─■──uniqueidrequirements_entryid_unique_identifier_ids ── Topic: 33\n",
      "          │                   │    └─reauth_configentryauthfailed_auth_authentication_credentials\n",
      "          │                   │         ├─reauth_reauthentication_oauth_configentryauthfailed_authenticate\n",
      "          │                   │         │    ├─assistant_homewizard_homeassistantreworktahoma_homeassistantcore_homeassistant\n",
      "          │                   │         │    │    ├─■──assistant_homewizard_homeassistantreworktahoma_homeassistantcore_homeassistant ── Topic: 20\n",
      "          │                   │         │    │    └─■──integrationspecific_integrationdimmer_integrationswitch_integration_integrations ── Topic: 41\n",
      "          │                   │         │    └─reauth_reauthentication_configentryauthfailed_invalidauth_oauth\n",
      "          │                   │         │         ├─yaml_configurationyaml_config_configflow_optionsflowwithconfigentry\n",
      "          │                   │         │         │    ├─■──yaml_configurationyaml_config_yarl_configuration ── Topic: 17\n",
      "          │                   │         │         │    └─■──optionsflowwithconfigentry_config_configuration_configflow_configflows ── Topic: 9\n",
      "          │                   │         │         └─■──reauth_reauthentication_oauth_invalidauth_auth ── Topic: 2\n",
      "          │                   │         └─media_spotify_play_audio_music\n",
      "          │                   │              ├─playback_media_play_spotify_audio\n",
      "          │                   │              │    ├─ssl_sslsslerror_sslsslcontext_sslcertverificationerror_https\n",
      "          │                   │              │    │    ├─■──connecting_connect_cannotconnect_connection_connections ── Topic: 150\n",
      "          │                   │              │    │    └─■──ssl_sslsslerror_sslsslcontext_sslcertverificationerror_https ── Topic: 134\n",
      "          │                   │              │    └─playback_media_playerpy_spotify_airplay\n",
      "          │                   │              │         ├─■──urls_urljoin_urllibparseurlencode_urlparse_url ── Topic: 68\n",
      "          │                   │              │         └─■──playback_media_playerpy_spotify_airplay ── Topic: 26\n",
      "          │                   │              └─notification_notifications_wake_notify_websocket\n",
      "          │                   │                   ├─notifications_notification_websockets_notify_websocket\n",
      "          │                   │                   │    ├─notifyentity_notifications_notify_notification_platformnotify\n",
      "          │                   │                   │    │    ├─■──notifyentity_notifications_notification_notify_platformnotify ── Topic: 58\n",
      "          │                   │                   │    │    └─■──entityservices_hassdatadomainservices_services_entityserviceresponse_service ── Topic: 54\n",
      "          │                   │                   │    └─websocket_websocketpy_websockets_async_notifications\n",
      "          │                   │                   │         ├─■──eventevent_event_events_calendarevent_calendar ── Topic: 34\n",
      "          │                   │                   │         └─■──websocket_websocketpy_websockets_api_async ── Topic: 61\n",
      "          │                   │                   └─wakeword_wake_wakeup_wol_word\n",
      "          │                   │                        ├─■──button_buttons_buttonentitydescription_2button_buttonpy ── Topic: 69\n",
      "          │                   │                        └─■──wakeword_wake_wakeworddetectionaborted_wakeworddetectionerror_wakeup ── Topic: 159\n",
      "          │                   └─yaml_config_configuration_platform_env\n",
      "          │                        ├─■──yaml_config_configuration_configurations_changes ── Topic: 88\n",
      "          │                        └─■──yaml_configures_config_configuration_platform ── Topic: 163\n",
      "          └─attrsasdict_attrs_attr_init_attribute\n",
      "               ├─attrs_attr_attribute_attributes_init\n",
      "               │    ├─■──uniqueidrequirements_unique_id_ids_attr ── Topic: 143\n",
      "               │    └─attrsasdict_attrs_attr_attributestarts_attribute\n",
      "               │         ├─■──attrs_attrsasdict_attr_attribute_attributestarts ── Topic: 27\n",
      "               │         └─■──deviceproperties_devicename_init_deviceinfo_attrs ── Topic: 92\n",
      "               └─constructor_construction_initialize_constrcutor_inside\n",
      "                    ├─■──constructor_initialize_construction_assign_create ── Topic: 171\n",
      "                    └─■──constructor_constrcutor_set_init_outside ── Topic: 142\n",
      "\n"
     ]
    }
   ],
   "source": [
    "# https://maartengr.github.io/BERTopic/getting_started/hierarchicaltopics/hierarchicaltopics.html\n",
    "\n",
    "# topic_model.visualize_hierarchy(hierarchical_topics=hierarchical_topics)\n",
    "print(topic_model.get_topic_tree(hierarchical_topics))\n",
    "\n",
    "# merge topics as necessary e.g.\n",
    "# topics_to_merge = [63, 126, 86, 177, 55, 172, 156, 185]     # all about removing commented out code or stale comments/docstrings\n",
    "# topic_model.merge_topics(threads, topics_to_merge)\n"
   ]
  },
  {
   "cell_type": "code",
   "execution_count": 8,
   "metadata": {},
   "outputs": [
    {
     "name": "stdout",
     "output_type": "stream",
     "text": [
      "['Please update the docstring.', 'docstring', 'docstring']\n",
      "['stale docstring Done', 'stale docstring done in', 'Stale docstring?']\n",
      "['Stale', 'stale name Done', 'stale']\n",
      "['stale comment', 'Stale comment', 'Stale comment?']\n",
      "['Please remove commented code', 'Please remove code that is commented out.', 'Please remove any commented out code Done']\n",
      "['Commented out code', 'commented out code', 'Commented out code']\n",
      "['Stale commented code', 'Stale commented code', 'Stale commented code']\n",
      "['Commented-out code.', 'Commented code.', 'Commented code.']\n"
     ]
    }
   ],
   "source": [
    "# use this cell to get info about specific topics in hierarchy\n",
    "\n",
    "[63, 126, 86, 177, 55, 172, 156, 185]\n",
    "\n",
    "print(topic_model.get_representative_docs(63))\n",
    "print(topic_model.get_representative_docs(126))\n",
    "print(topic_model.get_representative_docs(86))\n",
    "print(topic_model.get_representative_docs(177))\n",
    "print(topic_model.get_representative_docs(55))\n",
    "print(topic_model.get_representative_docs(172))\n",
    "print(topic_model.get_representative_docs(156))\n",
    "print(topic_model.get_representative_docs(185))"
   ]
  },
  {
   "cell_type": "code",
   "execution_count": 12,
   "metadata": {},
   "outputs": [
    {
     "name": "stdout",
     "output_type": "stream",
     "text": [
      "13811\n"
     ]
    }
   ],
   "source": [
    "topic_counts = topic_model.get_topic_info()\n",
    "topic_counts = topic_counts[topic_counts[\"Topic\"] != -1][[\"Topic\", \"Count\"]]\n",
    "print(sum(topic_counts['Count']))"
   ]
  }
 ],
 "metadata": {
  "kernelspec": {
   "display_name": ".venv",
   "language": "python",
   "name": "python3"
  },
  "language_info": {
   "codemirror_mode": {
    "name": "ipython",
    "version": 3
   },
   "file_extension": ".py",
   "mimetype": "text/x-python",
   "name": "python",
   "nbconvert_exporter": "python",
   "pygments_lexer": "ipython3",
   "version": "3.12.6"
  }
 },
 "nbformat": 4,
 "nbformat_minor": 2
}
