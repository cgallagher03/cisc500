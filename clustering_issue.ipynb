{
 "cells": [
  {
   "cell_type": "markdown",
   "metadata": {},
   "source": [
    "# Import dependencies"
   ]
  },
  {
   "cell_type": "code",
   "execution_count": 16,
   "metadata": {},
   "outputs": [
    {
     "data": {
      "text/plain": [
       "True"
      ]
     },
     "execution_count": 16,
     "metadata": {},
     "output_type": "execute_result"
    }
   ],
   "source": [
    "import pandas as pd\n",
    "import ast\n",
    "import re\n",
    "from sentence_transformers import SentenceTransformer\n",
    "import matplotlib.pyplot as plt\n",
    "import numpy as np\n",
    "from pathlib import Path\n",
    "import umap\n",
    "import hdbscan\n",
    "import matplotlib.pyplot as plt\n",
    "import joblib\n",
    "from openai import OpenAI\n",
    "from dotenv import load_dotenv\n",
    "from os import environ\n",
    "from bertopic import BERTopic\n",
    "from bertopic.representation import KeyBERTInspired\n",
    "from sklearn.feature_extraction.text import CountVectorizer\n",
    "\n",
    "load_dotenv()"
   ]
  },
  {
   "cell_type": "markdown",
   "metadata": {},
   "source": [
    "# Read and clean data"
   ]
  },
  {
   "cell_type": "code",
   "execution_count": 10,
   "metadata": {},
   "outputs": [],
   "source": [
    "\n",
    "\n",
    "def safe_literal_eval(val):\n",
    "    if pd.isna(val):  \n",
    "        return []     \n",
    "    try:\n",
    "        return ast.literal_eval(val)\n",
    "    except (ValueError, SyntaxError):\n",
    "        return [] \n",
    "    \n",
    "def clean_text(text):\n",
    "    # quotes\n",
    "    text = re.sub(r\"(?m)^\\s*>.*(?:\\r?\\n|$)\", \"\", text)\n",
    "\n",
    "    # links and code\n",
    "    # should we consider using LLM to generate short summary of the code snippets so we don't lose any context it could provide\n",
    "    # or could use regex to detect patterns in the code and classify them e.g. detecting import statements, function definitions, or added/removed lines.\n",
    "    pattern = r\"```.*?```|http[s]?://(?:[a-zA-Z]|[0-9]|[$-_@.&+]|[!*\\\\(\\\\),]|(?:%[0-9a-fA-F][0-9a-fA-F]))+\"\n",
    "    cleaned_text = re.sub(pattern, \"\", text, flags=re.DOTALL)\n",
    "\n",
    "    # keep only alphanumeric characters and punctuation\n",
    "    cleaned_text = re.sub(r\"[^a-zA-Z0-9.,!?;:'\\\"(){}\\[\\]\\-]\", \" \", cleaned_text)\n",
    "\n",
    "    # remove extra spaces\n",
    "    cleaned_text = re.sub(r\"\\s+\", \" \", cleaned_text).strip()\n",
    "\n",
    "    return cleaned_text\n",
    "    \n",
    "def preprocess_text(comments_sequence):\n",
    "    all_comments = []\n",
    "    for issue_comment in comments_sequence:\n",
    "        body = clean_text(issue_comment['comment']['body'])\n",
    "        all_comments.append(body)\n",
    "    return all_comments\n",
    "\n",
    "df= pd.read_csv('data/pull_requests_filtered_raw.csv')\n",
    "df['comments'] = df['comments'].apply(safe_literal_eval)\n",
    "\n",
    "df['issue_comments'] = df['comments'].apply(lambda comments: [item for item in comments if item['type'] == 'issue'] if type(comments) is not float else comments)\n",
    "df = df[df['issue_comments'].apply(lambda x: isinstance(x, list) and len(x) > 0)]\n",
    "df['processed_issue_comments'] = df['issue_comments'].apply(preprocess_text)\n",
    "\n",
    "issue_comments = df['processed_issue_comments'].explode().tolist()"
   ]
  },
  {
   "cell_type": "markdown",
   "metadata": {},
   "source": [
    "# Cluster Using Bertopic"
   ]
  },
  {
   "cell_type": "code",
   "execution_count": 11,
   "metadata": {},
   "outputs": [
    {
     "name": "stderr",
     "output_type": "stream",
     "text": [
      "OMP: Info #276: omp_set_nested routine deprecated, please use omp_set_max_active_levels instead.\n",
      "huggingface/tokenizers: The current process just got forked, after parallelism has already been used. Disabling parallelism to avoid deadlocks...\n",
      "To disable this warning, you can either:\n",
      "\t- Avoid using `tokenizers` before the fork if possible\n",
      "\t- Explicitly set the environment variable TOKENIZERS_PARALLELISM=(true | false)\n",
      "huggingface/tokenizers: The current process just got forked, after parallelism has already been used. Disabling parallelism to avoid deadlocks...\n",
      "To disable this warning, you can either:\n",
      "\t- Avoid using `tokenizers` before the fork if possible\n",
      "\t- Explicitly set the environment variable TOKENIZERS_PARALLELISM=(true | false)\n",
      "huggingface/tokenizers: The current process just got forked, after parallelism has already been used. Disabling parallelism to avoid deadlocks...\n",
      "To disable this warning, you can either:\n",
      "\t- Avoid using `tokenizers` before the fork if possible\n",
      "\t- Explicitly set the environment variable TOKENIZERS_PARALLELISM=(true | false)\n",
      "huggingface/tokenizers: The current process just got forked, after parallelism has already been used. Disabling parallelism to avoid deadlocks...\n",
      "To disable this warning, you can either:\n",
      "\t- Avoid using `tokenizers` before the fork if possible\n",
      "\t- Explicitly set the environment variable TOKENIZERS_PARALLELISM=(true | false)\n",
      "huggingface/tokenizers: The current process just got forked, after parallelism has already been used. Disabling parallelism to avoid deadlocks...\n",
      "To disable this warning, you can either:\n",
      "\t- Avoid using `tokenizers` before the fork if possible\n",
      "\t- Explicitly set the environment variable TOKENIZERS_PARALLELISM=(true | false)\n",
      "100%|██████████| 162/162 [00:31<00:00,  5.11it/s]\n"
     ]
    }
   ],
   "source": [
    "# https://bertopic.readthedocs.io/en/latest/\n",
    "# https://maartengr.github.io/BERTopic/api/representation/keybert.html\n",
    "# https://maartengr.github.io/BERTopic/getting_started/vectorizers/vectorizers.html\n",
    "\n",
    "# used to fine-tune topic representations\n",
    "representation_model = KeyBERTInspired()\n",
    "vectorizer_model = CountVectorizer(stop_words=\"english\")\n",
    "umap_model = umap.UMAP(n_neighbors=15, n_components=5, random_state=42)     # fix topics across runs by setting random_state; otherwise UMAP is stochastic\n",
    "\n",
    "# using pre-calculated embeddings\n",
    "# topic_model = BERTopic(min_topic_size=20)\n",
    "# topics, probs = topic_model.fit_transform(threads, thread_embeddings)\n",
    "\n",
    "# using KeyBERTInspired to generate embeddings\n",
    "topic_model = BERTopic(representation_model=representation_model, vectorizer_model=vectorizer_model, umap_model=umap_model, min_topic_size=20)\n",
    "topics, probs = topic_model.fit_transform(issue_comments)\n",
    "hierarchical_topics = topic_model.hierarchical_topics(issue_comments)"
   ]
  },
  {
   "cell_type": "markdown",
   "metadata": {},
   "source": [
    "## General Topic Info"
   ]
  },
  {
   "cell_type": "code",
   "execution_count": 17,
   "metadata": {},
   "outputs": [
    {
     "name": "stdout",
     "output_type": "stream",
     "text": [
      "     Topic  Count                                               Name  \\\n",
      "0       -1  10004                        -1_api_entities_entity_core   \n",
      "1        0    545  0_sensors_sensor_sensorentitydescription_sensorpy   \n",
      "2        1    489                      1_cla_pull_signed_cyclops1982   \n",
      "3        2    474                   2_rebase_branch_rebased_branches   \n",
      "4        3    401             3_assistant_homekit_homeassistant_home   \n",
      "..     ...    ...                                                ...   \n",
      "159    158     21      158_ready_engrbm87_muppet3000_congratulations   \n",
      "160    159     20                159_zcl_zonnsmarttv01_zha_zonnsmart   \n",
      "161    160     20         160_constants_constant_deprecated_literals   \n",
      "162    161     20                        161_merged_pr_hotfix_branch   \n",
      "163    162     20                 162_rytilahti_merged_merge_pending   \n",
      "\n",
      "                                        Representation  \\\n",
      "0    [api, entities, entity, core, service, data, t...   \n",
      "1    [sensors, sensor, sensorentitydescription, sen...   \n",
      "2    [cla, pull, signed, cyclops1982, review, reque...   \n",
      "3    [rebase, branch, rebased, branches, commits, r...   \n",
      "4    [assistant, homekit, homeassistant, home, api,...   \n",
      "..                                                 ...   \n",
      "159  [ready, engrbm87, muppet3000, congratulations,...   \n",
      "160  [zcl, zonnsmarttv01, zha, zonnsmart, zhaquirk,...   \n",
      "161  [constants, constant, deprecated, literals, co...   \n",
      "162  [merged, pr, hotfix, branch, release, plex, th...   \n",
      "163  [rytilahti, merged, merge, pending, removed, f...   \n",
      "\n",
      "                                   Representative_Docs  \n",
      "0    [So, assuming others also think that's the bes...  \n",
      "1    [Oh no I mean, you can maybe already start loo...  \n",
      "2    [Hi daniele-athome, It seems you haven't yet s...  \n",
      "3    [Please rebase off of the latest dev branch., ...  \n",
      "4    [How long does it usually take for a pull requ...  \n",
      "..                                                 ...  \n",
      "159  [engrbm87 Done!, Congratulations! Take your ti...  \n",
      "160  [Only for information IKEA Symfonisk Gen 2 wit...  \n",
      "161  [Thanks for the review! I will remove the exis...  \n",
      "162  [Hi Jan, thank you for the remarks. I will pro...  \n",
      "163  [rytilahti Please could you merge it? related ...  \n",
      "\n",
      "[164 rows x 5 columns]\n"
     ]
    },
    {
     "data": {
      "application/vnd.plotly.v1+json": {
       "config": {
        "plotlyServerURL": "https://plot.ly"
       },
       "data": [
        {
         "marker": {
          "color": "#D55E00"
         },
         "orientation": "h",
         "type": "bar",
         "x": [
          0.28830844163894653,
          0.5417810678482056,
          0.5630655288696289,
          0.6213072538375854,
          0.6236324906349182
         ],
         "xaxis": "x",
         "y": [
          "binary  ",
          "sensorpy  ",
          "sensorentitydescription  ",
          "sensor  ",
          "sensors  "
         ],
         "yaxis": "y"
        },
        {
         "marker": {
          "color": "#0072B2"
         },
         "orientation": "h",
         "type": "bar",
         "x": [
          0.26454323530197144,
          0.27634111046791077,
          0.29463323950767517,
          0.3260236978530884,
          0.5389556884765625
         ],
         "xaxis": "x2",
         "y": [
          "review  ",
          "cyclops1982  ",
          "signed  ",
          "pull  ",
          "cla  "
         ],
         "yaxis": "y2"
        },
        {
         "marker": {
          "color": "#CC79A7"
         },
         "orientation": "h",
         "type": "bar",
         "x": [
          0.4574190080165863,
          0.4891010820865631,
          0.5171841979026794,
          0.5241416692733765,
          0.5303415060043335
         ],
         "xaxis": "x3",
         "y": [
          "commits  ",
          "branches  ",
          "rebased  ",
          "branch  ",
          "rebase  "
         ],
         "yaxis": "y3"
        },
        {
         "marker": {
          "color": "#E69F00"
         },
         "orientation": "h",
         "type": "bar",
         "x": [
          0.27788347005844116,
          0.32802248001098633,
          0.35135596990585327,
          0.43338507413864136,
          0.4520362615585327
         ],
         "xaxis": "x4",
         "y": [
          "api  ",
          "home  ",
          "homeassistant  ",
          "homekit  ",
          "assistant  "
         ],
         "yaxis": "y4"
        },
        {
         "marker": {
          "color": "#56B4E9"
         },
         "orientation": "h",
         "type": "bar",
         "x": [
          0.2794482409954071,
          0.45928239822387695,
          0.4910688102245331,
          0.5062025785446167,
          0.520265519618988
         ],
         "xaxis": "x5",
         "y": [
          "merged  ",
          "integrated  ",
          "integrations  ",
          "integrate  ",
          "integration  "
         ],
         "yaxis": "y5"
        },
        {
         "marker": {
          "color": "#009E73"
         },
         "orientation": "h",
         "type": "bar",
         "x": [
          0.2530931234359741,
          0.27993667125701904,
          0.2808734178543091,
          0.3549390137195587,
          0.38840755820274353
         ],
         "xaxis": "x6",
         "y": [
          "provisioned  ",
          "provision  ",
          "provisioning  ",
          "device  ",
          "devices  "
         ],
         "yaxis": "y6"
        },
        {
         "marker": {
          "color": "#F0E442"
         },
         "orientation": "h",
         "type": "bar",
         "x": [
          0.35008710622787476,
          0.35933947563171387,
          0.37085992097854614,
          0.7643339037895203,
          0.9004422426223755
         ],
         "xaxis": "x7",
         "y": [
          "preliminary  ",
          "statis  ",
          "forward  ",
          "prs  ",
          "pr  "
         ],
         "yaxis": "y7"
        },
        {
         "marker": {
          "color": "#D55E00"
         },
         "orientation": "h",
         "type": "bar",
         "x": [
          0.38337811827659607,
          0.39440155029296875,
          0.40689361095428467,
          0.4131741523742676,
          0.5144895911216736
         ],
         "xaxis": "x8",
         "y": [
          "rgbcw  ",
          "colors  ",
          "rgbw  ",
          "rgb  ",
          "brightness  "
         ],
         "yaxis": "y8"
        }
       ],
       "layout": {
        "annotations": [
         {
          "font": {
           "size": 16
          },
          "showarrow": false,
          "text": "Topic 0",
          "x": 0.0875,
          "xanchor": "center",
          "xref": "paper",
          "y": 1,
          "yanchor": "bottom",
          "yref": "paper"
         },
         {
          "font": {
           "size": 16
          },
          "showarrow": false,
          "text": "Topic 1",
          "x": 0.36250000000000004,
          "xanchor": "center",
          "xref": "paper",
          "y": 1,
          "yanchor": "bottom",
          "yref": "paper"
         },
         {
          "font": {
           "size": 16
          },
          "showarrow": false,
          "text": "Topic 2",
          "x": 0.6375000000000001,
          "xanchor": "center",
          "xref": "paper",
          "y": 1,
          "yanchor": "bottom",
          "yref": "paper"
         },
         {
          "font": {
           "size": 16
          },
          "showarrow": false,
          "text": "Topic 3",
          "x": 0.9125,
          "xanchor": "center",
          "xref": "paper",
          "y": 1,
          "yanchor": "bottom",
          "yref": "paper"
         },
         {
          "font": {
           "size": 16
          },
          "showarrow": false,
          "text": "Topic 4",
          "x": 0.0875,
          "xanchor": "center",
          "xref": "paper",
          "y": 0.4,
          "yanchor": "bottom",
          "yref": "paper"
         },
         {
          "font": {
           "size": 16
          },
          "showarrow": false,
          "text": "Topic 5",
          "x": 0.36250000000000004,
          "xanchor": "center",
          "xref": "paper",
          "y": 0.4,
          "yanchor": "bottom",
          "yref": "paper"
         },
         {
          "font": {
           "size": 16
          },
          "showarrow": false,
          "text": "Topic 6",
          "x": 0.6375000000000001,
          "xanchor": "center",
          "xref": "paper",
          "y": 0.4,
          "yanchor": "bottom",
          "yref": "paper"
         },
         {
          "font": {
           "size": 16
          },
          "showarrow": false,
          "text": "Topic 7",
          "x": 0.9125,
          "xanchor": "center",
          "xref": "paper",
          "y": 0.4,
          "yanchor": "bottom",
          "yref": "paper"
         }
        ],
        "height": 500,
        "hoverlabel": {
         "bgcolor": "white",
         "font": {
          "family": "Rockwell",
          "size": 16
         }
        },
        "showlegend": false,
        "template": {
         "data": {
          "bar": [
           {
            "error_x": {
             "color": "#2a3f5f"
            },
            "error_y": {
             "color": "#2a3f5f"
            },
            "marker": {
             "line": {
              "color": "white",
              "width": 0.5
             },
             "pattern": {
              "fillmode": "overlay",
              "size": 10,
              "solidity": 0.2
             }
            },
            "type": "bar"
           }
          ],
          "barpolar": [
           {
            "marker": {
             "line": {
              "color": "white",
              "width": 0.5
             },
             "pattern": {
              "fillmode": "overlay",
              "size": 10,
              "solidity": 0.2
             }
            },
            "type": "barpolar"
           }
          ],
          "carpet": [
           {
            "aaxis": {
             "endlinecolor": "#2a3f5f",
             "gridcolor": "#C8D4E3",
             "linecolor": "#C8D4E3",
             "minorgridcolor": "#C8D4E3",
             "startlinecolor": "#2a3f5f"
            },
            "baxis": {
             "endlinecolor": "#2a3f5f",
             "gridcolor": "#C8D4E3",
             "linecolor": "#C8D4E3",
             "minorgridcolor": "#C8D4E3",
             "startlinecolor": "#2a3f5f"
            },
            "type": "carpet"
           }
          ],
          "choropleth": [
           {
            "colorbar": {
             "outlinewidth": 0,
             "ticks": ""
            },
            "type": "choropleth"
           }
          ],
          "contour": [
           {
            "colorbar": {
             "outlinewidth": 0,
             "ticks": ""
            },
            "colorscale": [
             [
              0,
              "#0d0887"
             ],
             [
              0.1111111111111111,
              "#46039f"
             ],
             [
              0.2222222222222222,
              "#7201a8"
             ],
             [
              0.3333333333333333,
              "#9c179e"
             ],
             [
              0.4444444444444444,
              "#bd3786"
             ],
             [
              0.5555555555555556,
              "#d8576b"
             ],
             [
              0.6666666666666666,
              "#ed7953"
             ],
             [
              0.7777777777777778,
              "#fb9f3a"
             ],
             [
              0.8888888888888888,
              "#fdca26"
             ],
             [
              1,
              "#f0f921"
             ]
            ],
            "type": "contour"
           }
          ],
          "contourcarpet": [
           {
            "colorbar": {
             "outlinewidth": 0,
             "ticks": ""
            },
            "type": "contourcarpet"
           }
          ],
          "heatmap": [
           {
            "colorbar": {
             "outlinewidth": 0,
             "ticks": ""
            },
            "colorscale": [
             [
              0,
              "#0d0887"
             ],
             [
              0.1111111111111111,
              "#46039f"
             ],
             [
              0.2222222222222222,
              "#7201a8"
             ],
             [
              0.3333333333333333,
              "#9c179e"
             ],
             [
              0.4444444444444444,
              "#bd3786"
             ],
             [
              0.5555555555555556,
              "#d8576b"
             ],
             [
              0.6666666666666666,
              "#ed7953"
             ],
             [
              0.7777777777777778,
              "#fb9f3a"
             ],
             [
              0.8888888888888888,
              "#fdca26"
             ],
             [
              1,
              "#f0f921"
             ]
            ],
            "type": "heatmap"
           }
          ],
          "histogram": [
           {
            "marker": {
             "pattern": {
              "fillmode": "overlay",
              "size": 10,
              "solidity": 0.2
             }
            },
            "type": "histogram"
           }
          ],
          "histogram2d": [
           {
            "colorbar": {
             "outlinewidth": 0,
             "ticks": ""
            },
            "colorscale": [
             [
              0,
              "#0d0887"
             ],
             [
              0.1111111111111111,
              "#46039f"
             ],
             [
              0.2222222222222222,
              "#7201a8"
             ],
             [
              0.3333333333333333,
              "#9c179e"
             ],
             [
              0.4444444444444444,
              "#bd3786"
             ],
             [
              0.5555555555555556,
              "#d8576b"
             ],
             [
              0.6666666666666666,
              "#ed7953"
             ],
             [
              0.7777777777777778,
              "#fb9f3a"
             ],
             [
              0.8888888888888888,
              "#fdca26"
             ],
             [
              1,
              "#f0f921"
             ]
            ],
            "type": "histogram2d"
           }
          ],
          "histogram2dcontour": [
           {
            "colorbar": {
             "outlinewidth": 0,
             "ticks": ""
            },
            "colorscale": [
             [
              0,
              "#0d0887"
             ],
             [
              0.1111111111111111,
              "#46039f"
             ],
             [
              0.2222222222222222,
              "#7201a8"
             ],
             [
              0.3333333333333333,
              "#9c179e"
             ],
             [
              0.4444444444444444,
              "#bd3786"
             ],
             [
              0.5555555555555556,
              "#d8576b"
             ],
             [
              0.6666666666666666,
              "#ed7953"
             ],
             [
              0.7777777777777778,
              "#fb9f3a"
             ],
             [
              0.8888888888888888,
              "#fdca26"
             ],
             [
              1,
              "#f0f921"
             ]
            ],
            "type": "histogram2dcontour"
           }
          ],
          "mesh3d": [
           {
            "colorbar": {
             "outlinewidth": 0,
             "ticks": ""
            },
            "type": "mesh3d"
           }
          ],
          "parcoords": [
           {
            "line": {
             "colorbar": {
              "outlinewidth": 0,
              "ticks": ""
             }
            },
            "type": "parcoords"
           }
          ],
          "pie": [
           {
            "automargin": true,
            "type": "pie"
           }
          ],
          "scatter": [
           {
            "fillpattern": {
             "fillmode": "overlay",
             "size": 10,
             "solidity": 0.2
            },
            "type": "scatter"
           }
          ],
          "scatter3d": [
           {
            "line": {
             "colorbar": {
              "outlinewidth": 0,
              "ticks": ""
             }
            },
            "marker": {
             "colorbar": {
              "outlinewidth": 0,
              "ticks": ""
             }
            },
            "type": "scatter3d"
           }
          ],
          "scattercarpet": [
           {
            "marker": {
             "colorbar": {
              "outlinewidth": 0,
              "ticks": ""
             }
            },
            "type": "scattercarpet"
           }
          ],
          "scattergeo": [
           {
            "marker": {
             "colorbar": {
              "outlinewidth": 0,
              "ticks": ""
             }
            },
            "type": "scattergeo"
           }
          ],
          "scattergl": [
           {
            "marker": {
             "colorbar": {
              "outlinewidth": 0,
              "ticks": ""
             }
            },
            "type": "scattergl"
           }
          ],
          "scattermap": [
           {
            "marker": {
             "colorbar": {
              "outlinewidth": 0,
              "ticks": ""
             }
            },
            "type": "scattermap"
           }
          ],
          "scattermapbox": [
           {
            "marker": {
             "colorbar": {
              "outlinewidth": 0,
              "ticks": ""
             }
            },
            "type": "scattermapbox"
           }
          ],
          "scatterpolar": [
           {
            "marker": {
             "colorbar": {
              "outlinewidth": 0,
              "ticks": ""
             }
            },
            "type": "scatterpolar"
           }
          ],
          "scatterpolargl": [
           {
            "marker": {
             "colorbar": {
              "outlinewidth": 0,
              "ticks": ""
             }
            },
            "type": "scatterpolargl"
           }
          ],
          "scatterternary": [
           {
            "marker": {
             "colorbar": {
              "outlinewidth": 0,
              "ticks": ""
             }
            },
            "type": "scatterternary"
           }
          ],
          "surface": [
           {
            "colorbar": {
             "outlinewidth": 0,
             "ticks": ""
            },
            "colorscale": [
             [
              0,
              "#0d0887"
             ],
             [
              0.1111111111111111,
              "#46039f"
             ],
             [
              0.2222222222222222,
              "#7201a8"
             ],
             [
              0.3333333333333333,
              "#9c179e"
             ],
             [
              0.4444444444444444,
              "#bd3786"
             ],
             [
              0.5555555555555556,
              "#d8576b"
             ],
             [
              0.6666666666666666,
              "#ed7953"
             ],
             [
              0.7777777777777778,
              "#fb9f3a"
             ],
             [
              0.8888888888888888,
              "#fdca26"
             ],
             [
              1,
              "#f0f921"
             ]
            ],
            "type": "surface"
           }
          ],
          "table": [
           {
            "cells": {
             "fill": {
              "color": "#EBF0F8"
             },
             "line": {
              "color": "white"
             }
            },
            "header": {
             "fill": {
              "color": "#C8D4E3"
             },
             "line": {
              "color": "white"
             }
            },
            "type": "table"
           }
          ]
         },
         "layout": {
          "annotationdefaults": {
           "arrowcolor": "#2a3f5f",
           "arrowhead": 0,
           "arrowwidth": 1
          },
          "autotypenumbers": "strict",
          "coloraxis": {
           "colorbar": {
            "outlinewidth": 0,
            "ticks": ""
           }
          },
          "colorscale": {
           "diverging": [
            [
             0,
             "#8e0152"
            ],
            [
             0.1,
             "#c51b7d"
            ],
            [
             0.2,
             "#de77ae"
            ],
            [
             0.3,
             "#f1b6da"
            ],
            [
             0.4,
             "#fde0ef"
            ],
            [
             0.5,
             "#f7f7f7"
            ],
            [
             0.6,
             "#e6f5d0"
            ],
            [
             0.7,
             "#b8e186"
            ],
            [
             0.8,
             "#7fbc41"
            ],
            [
             0.9,
             "#4d9221"
            ],
            [
             1,
             "#276419"
            ]
           ],
           "sequential": [
            [
             0,
             "#0d0887"
            ],
            [
             0.1111111111111111,
             "#46039f"
            ],
            [
             0.2222222222222222,
             "#7201a8"
            ],
            [
             0.3333333333333333,
             "#9c179e"
            ],
            [
             0.4444444444444444,
             "#bd3786"
            ],
            [
             0.5555555555555556,
             "#d8576b"
            ],
            [
             0.6666666666666666,
             "#ed7953"
            ],
            [
             0.7777777777777778,
             "#fb9f3a"
            ],
            [
             0.8888888888888888,
             "#fdca26"
            ],
            [
             1,
             "#f0f921"
            ]
           ],
           "sequentialminus": [
            [
             0,
             "#0d0887"
            ],
            [
             0.1111111111111111,
             "#46039f"
            ],
            [
             0.2222222222222222,
             "#7201a8"
            ],
            [
             0.3333333333333333,
             "#9c179e"
            ],
            [
             0.4444444444444444,
             "#bd3786"
            ],
            [
             0.5555555555555556,
             "#d8576b"
            ],
            [
             0.6666666666666666,
             "#ed7953"
            ],
            [
             0.7777777777777778,
             "#fb9f3a"
            ],
            [
             0.8888888888888888,
             "#fdca26"
            ],
            [
             1,
             "#f0f921"
            ]
           ]
          },
          "colorway": [
           "#636efa",
           "#EF553B",
           "#00cc96",
           "#ab63fa",
           "#FFA15A",
           "#19d3f3",
           "#FF6692",
           "#B6E880",
           "#FF97FF",
           "#FECB52"
          ],
          "font": {
           "color": "#2a3f5f"
          },
          "geo": {
           "bgcolor": "white",
           "lakecolor": "white",
           "landcolor": "white",
           "showlakes": true,
           "showland": true,
           "subunitcolor": "#C8D4E3"
          },
          "hoverlabel": {
           "align": "left"
          },
          "hovermode": "closest",
          "mapbox": {
           "style": "light"
          },
          "paper_bgcolor": "white",
          "plot_bgcolor": "white",
          "polar": {
           "angularaxis": {
            "gridcolor": "#EBF0F8",
            "linecolor": "#EBF0F8",
            "ticks": ""
           },
           "bgcolor": "white",
           "radialaxis": {
            "gridcolor": "#EBF0F8",
            "linecolor": "#EBF0F8",
            "ticks": ""
           }
          },
          "scene": {
           "xaxis": {
            "backgroundcolor": "white",
            "gridcolor": "#DFE8F3",
            "gridwidth": 2,
            "linecolor": "#EBF0F8",
            "showbackground": true,
            "ticks": "",
            "zerolinecolor": "#EBF0F8"
           },
           "yaxis": {
            "backgroundcolor": "white",
            "gridcolor": "#DFE8F3",
            "gridwidth": 2,
            "linecolor": "#EBF0F8",
            "showbackground": true,
            "ticks": "",
            "zerolinecolor": "#EBF0F8"
           },
           "zaxis": {
            "backgroundcolor": "white",
            "gridcolor": "#DFE8F3",
            "gridwidth": 2,
            "linecolor": "#EBF0F8",
            "showbackground": true,
            "ticks": "",
            "zerolinecolor": "#EBF0F8"
           }
          },
          "shapedefaults": {
           "line": {
            "color": "#2a3f5f"
           }
          },
          "ternary": {
           "aaxis": {
            "gridcolor": "#DFE8F3",
            "linecolor": "#A2B1C6",
            "ticks": ""
           },
           "baxis": {
            "gridcolor": "#DFE8F3",
            "linecolor": "#A2B1C6",
            "ticks": ""
           },
           "bgcolor": "white",
           "caxis": {
            "gridcolor": "#DFE8F3",
            "linecolor": "#A2B1C6",
            "ticks": ""
           }
          },
          "title": {
           "x": 0.05
          },
          "xaxis": {
           "automargin": true,
           "gridcolor": "#EBF0F8",
           "linecolor": "#EBF0F8",
           "ticks": "",
           "title": {
            "standoff": 15
           },
           "zerolinecolor": "#EBF0F8",
           "zerolinewidth": 2
          },
          "yaxis": {
           "automargin": true,
           "gridcolor": "#EBF0F8",
           "linecolor": "#EBF0F8",
           "ticks": "",
           "title": {
            "standoff": 15
           },
           "zerolinecolor": "#EBF0F8",
           "zerolinewidth": 2
          }
         }
        },
        "title": {
         "font": {
          "color": "Black",
          "size": 22
         },
         "text": "Topic Word Scores",
         "x": 0.5,
         "xanchor": "center",
         "yanchor": "top"
        },
        "width": 1000,
        "xaxis": {
         "anchor": "y",
         "domain": [
          0,
          0.175
         ],
         "showgrid": true
        },
        "xaxis2": {
         "anchor": "y2",
         "domain": [
          0.275,
          0.45
         ],
         "showgrid": true
        },
        "xaxis3": {
         "anchor": "y3",
         "domain": [
          0.55,
          0.7250000000000001
         ],
         "showgrid": true
        },
        "xaxis4": {
         "anchor": "y4",
         "domain": [
          0.825,
          1
         ],
         "showgrid": true
        },
        "xaxis5": {
         "anchor": "y5",
         "domain": [
          0,
          0.175
         ],
         "showgrid": true
        },
        "xaxis6": {
         "anchor": "y6",
         "domain": [
          0.275,
          0.45
         ],
         "showgrid": true
        },
        "xaxis7": {
         "anchor": "y7",
         "domain": [
          0.55,
          0.7250000000000001
         ],
         "showgrid": true
        },
        "xaxis8": {
         "anchor": "y8",
         "domain": [
          0.825,
          1
         ],
         "showgrid": true
        },
        "yaxis": {
         "anchor": "x",
         "domain": [
          0.6000000000000001,
          1
         ],
         "showgrid": true
        },
        "yaxis2": {
         "anchor": "x2",
         "domain": [
          0.6000000000000001,
          1
         ],
         "showgrid": true
        },
        "yaxis3": {
         "anchor": "x3",
         "domain": [
          0.6000000000000001,
          1
         ],
         "showgrid": true
        },
        "yaxis4": {
         "anchor": "x4",
         "domain": [
          0.6000000000000001,
          1
         ],
         "showgrid": true
        },
        "yaxis5": {
         "anchor": "x5",
         "domain": [
          0,
          0.4
         ],
         "showgrid": true
        },
        "yaxis6": {
         "anchor": "x6",
         "domain": [
          0,
          0.4
         ],
         "showgrid": true
        },
        "yaxis7": {
         "anchor": "x7",
         "domain": [
          0,
          0.4
         ],
         "showgrid": true
        },
        "yaxis8": {
         "anchor": "x8",
         "domain": [
          0,
          0.4
         ],
         "showgrid": true
        }
       }
      }
     },
     "metadata": {},
     "output_type": "display_data"
    }
   ],
   "source": [
    "print(topic_model.get_topic_info())\n",
    "# print(topic_model.generate_topic_labels(nr_words=1))\n",
    "\n",
    "topic_model.visualize_barchart()"
   ]
  },
  {
   "cell_type": "markdown",
   "metadata": {},
   "source": [
    "## Topic Hierarchy"
   ]
  },
  {
   "cell_type": "code",
   "execution_count": 13,
   "metadata": {},
   "outputs": [
    {
     "name": "stdout",
     "output_type": "stream",
     "text": [
      ".\n",
      "├─devices_config_sensor_configuration_yaml\n",
      "│    ├─homekit_assistant_merged_update_dev\n",
      "│    │    ├─homekit_integration_integrate_integrations_component\n",
      "│    │    │    ├─beta_release_upcoming_releases_milestone\n",
      "│    │    │    │    ├─■──progress_status_waiting_updates_soon ── Topic: 61\n",
      "│    │    │    │    └─beta_release_releases_released_upcoming\n",
      "│    │    │    │         ├─■──merged_pr_hotfix_branch_release ── Topic: 161\n",
      "│    │    │    │         └─■──beta_release_releases_released_upcoming ── Topic: 14\n",
      "│    │    │    └─merged_homekit_hacs_assistant_integrated\n",
      "│    │    │         ├─integrated_integration_homekit_assistant_integrate\n",
      "│    │    │         │    ├─assistant_homekit_homeassistant_home_merged\n",
      "│    │    │         │    │    ├─■──assistant_homekit_homeassistant_home_api ── Topic: 3\n",
      "│    │    │         │    │    └─■──integration_integrate_integrations_integrated_merged ── Topic: 4\n",
      "│    │    │         │    └─■──hacs_repository_meross_integrated_src ── Topic: 10\n",
      "│    │    │         └─■──component_components_componenthomeassistantissuesconfig_custom_componet ── Topic: 102\n",
      "│    │    └─pr_versions_repository_version_package\n",
      "│    │         ├─pythonmiio_python3_importlib_miio_xiaomible\n",
      "│    │         │    ├─■──miio_pythonmiio_pythonmiiov0512_xiaomible_xiaomi ── Topic: 103\n",
      "│    │         │    └─pydantic_pylutron_pyatv_python3_pip\n",
      "│    │         │         ├─■──pydantic_pydanticv1_pylutron_pyspeex_pyhuum ── Topic: 83\n",
      "│    │         │         └─■──pythonwiffi_python3_python311_python39_pyfreedompro ── Topic: 87\n",
      "│    │         └─versions_dependency_version_dependencies_pr\n",
      "│    │              ├─versions_updating_dependency_version_dependencies\n",
      "│    │              │    ├─■──manifest_manifestjson_version_versions_download ── Topic: 142\n",
      "│    │              │    └─■──versions_dependency_version_dependencies_pr ── Topic: 31\n",
      "│    │              └─■──aioesphomeapi_aiolivisi_aioambient_aiounifi_aiohomekit ── Topic: 113\n",
      "│    └─config_configuration_changes_sensor_sensors\n",
      "│         ├─sensors_sensor_mqtt_devices_brightness\n",
      "│         │    ├─media_stream_cameras_tv_camera\n",
      "│         │    │    ├─zwavejs_zwave_nodezwavejs_event_events\n",
      "│         │    │    │    ├─translations_translating_translated_translate_translation\n",
      "│         │    │    │    │    ├─rfxtrxlan_rfxtrx_dsmr_pyrfxtrx_ds2438\n",
      "│         │    │    │    │    │    ├─■──rfxtrxwifi_rfxtrxlan_rfxtrx_dsmr_pyrfxtrx ── Topic: 156\n",
      "│         │    │    │    │    │    └─filters_filter_ternary_boolean_functionality\n",
      "│         │    │    │    │    │         ├─cases_case_use_functionality_ui\n",
      "│         │    │    │    │    │         │    ├─■──optout_discussed_feature_implemented_disapprove ── Topic: 75\n",
      "│         │    │    │    │    │         │    └─■──usecase_cases_case_uses_use ── Topic: 133\n",
      "│         │    │    │    │    │         └─■──filters_filter_filtering_ternary_boolean ── Topic: 151\n",
      "│         │    │    │    │    └─translations_translating_translated_translation_translate\n",
      "│         │    │    │    │         ├─changes_json_breaking_stringsjson_change\n",
      "│         │    │    │    │         │    ├─■──constants_constant_deprecated_literals_const ── Topic: 160\n",
      "│         │    │    │    │         │    └─changes_json_breaking_stringsjson_change\n",
      "│         │    │    │    │         │         ├─■──breaking_break_breakage_breaks_changes ── Topic: 138\n",
      "│         │    │    │    │         │         └─■──json_entriesasjson_stringsjson_jsonobjecttype_enjson ── Topic: 141\n",
      "│         │    │    │    │         └─translations_translating_translated_translation_translate\n",
      "│         │    │    │    │              ├─■──translations_translating_translated_scripttranslations_translate ── Topic: 33\n",
      "│         │    │    │    │              └─■──icons_icon_iconproperty_iconsjson_template ── Topic: 104\n",
      "│         │    │    │    └─zwavejs_zwave_nodezwavejs_ics_calendar\n",
      "│         │    │    │         ├─rooms_room_map_maps_automation\n",
      "│         │    │    │         │    ├─■──rooms_room_map_maps_floors ── Topic: 117\n",
      "│         │    │    │         │    └─servicenotfound_service_services_responses_response\n",
      "│         │    │    │         │         ├─■──deebot_serviceresponse_returnresponse_responsedata_bot ── Topic: 56\n",
      "│         │    │    │         │         └─■──logging_logginghandlersqueuehandlerprepare_logginggetlogger_logger_logs ── Topic: 66\n",
      "│         │    │    │         └─zwavejs_zwave_zwavejs2mqtt_nodezwavejs_event\n",
      "│         │    │    │              ├─■──zwavejs_zwavejsserverpython_nodezwavejs_zwavejs2mqtt_zwave ── Topic: 57\n",
      "│         │    │    │              └─calendars_calendar_ical_events_event\n",
      "│         │    │    │                   ├─■──events_eventname_event_hassdatatag_handler ── Topic: 155\n",
      "│         │    │    │                   └─■──calendars_calendar_ical_events_event ── Topic: 89\n",
      "│         │    │    └─playback_stream_media_channel_cameras\n",
      "│         │    │         ├─playback_media_airplay_playerplay_playlist\n",
      "│         │    │         │    ├─■──ssl_https_sslcipherlistpython_proxyhaproxy_haproxy ── Topic: 145\n",
      "│         │    │         │    └─playback_media_airplay_playerplay_playlist\n",
      "│         │    │         │         ├─playback_media_airplay_playerplay_playlist\n",
      "│         │    │         │         │    ├─■──mediaplayer_playback_media_playerplay_airplay ── Topic: 11\n",
      "│         │    │         │         │    └─■──camera_cameras_cams_streaming_streams ── Topic: 20\n",
      "│         │    │         │         └─■──webhook_webhooks_webhookrelated_addwebhook_setwebhook ── Topic: 139\n",
      "│         │    │         └─websocket_websockets_async_asyncioprotocol_selfasync\n",
      "│         │    │              ├─■──bluetooth_bt_ble_devices_bluez ── Topic: 90\n",
      "│         │    │              └─websocket_websockets_asyncioprotocol_async_selfasync\n",
      "│         │    │                   ├─■──asyncioprotocol_async_asyncmock_asynciowait_asyncioget ── Topic: 36\n",
      "│         │    │                   └─■──websocket_websockets_pythonsocketio_api_async ── Topic: 86\n",
      "│         │    └─sensor_sensors_brightness_devices_device\n",
      "│         │         ├─unique_identifier_ids_identifiers_entity\n",
      "│         │         │    ├─unique_identifier_entity_identifiers_ids\n",
      "│         │         │    │    ├─entity_unique_entities_identifier_ids\n",
      "│         │         │    │    │    ├─■──uniqueid_unique_ids_identifier_id ── Topic: 95\n",
      "│         │         │    │    │    └─devices_device_entity_entities_ids\n",
      "│         │         │    │    │         ├─■──devices_device_provisioning_provision_provisioned ── Topic: 5\n",
      "│         │         │    │    │         └─■──entity_entities_changingtheentitymodel_entitydescription_entitypickers ── Topic: 43\n",
      "│         │         │    │    └─addresses_ip_address_mac_mdns\n",
      "│         │         │    │         ├─■──dhcp_dhcppy_ip_discoverableintegrationsthatrequirenoauthentication_autoconfigure ── Topic: 97\n",
      "│         │         │    │         └─■──hardwareaddress_addresses_address_mac_macs ── Topic: 131\n",
      "│         │         │    └─zha_zhaquirks_zcl_quirk_zg\n",
      "│         │         │         ├─■──zcl_zonnsmarttv01_zha_zonnsmart_zhaquirk ── Topic: 159\n",
      "│         │         │         └─■──zhaquirks_quirk_zha_quirks_zg ── Topic: 98\n",
      "│         │         └─sensor_energy_sensors_brightness_polling\n",
      "│         │              ├─sensor_sensors_alarm_notification_alert\n",
      "│         │              │    ├─sensor_sensorpy_sensors_mqtt_binary\n",
      "│         │              │    │    ├─mqtt_entity_protocol_payload_entities\n",
      "│         │              │    │    │    ├─mqtt_lockopen_locks_lock_protocol\n",
      "│         │              │    │    │    │    ├─■──lockopen_locks_lock_dooropen_lockstate ── Topic: 64\n",
      "│         │              │    │    │    │    └─■──mqtt_esphome_entity_entities_protocol ── Topic: 34\n",
      "│         │              │    │    │    └─■──tilt_tiltable_position_offset_adjustment ── Topic: 132\n",
      "│         │              │    │    └─sensor_sensors_sensorpy_trigger_alarm\n",
      "│         │              │    │         ├─datetime_datetimes_dates_timestamp_timestamps\n",
      "│         │              │    │         │    ├─■──templateentities_templateentity_templated_template_templating ── Topic: 110\n",
      "│         │              │    │         │    └─■──datetime_datetimes_nowtimestamp_dates_timestamp ── Topic: 23\n",
      "│         │              │    │         └─sensors_sensor_sensorpy_platforms_binary\n",
      "│         │              │    │              ├─sensor_sensors_sensorpy_binary_data\n",
      "│         │              │    │              │    ├─■──polling_polls_servicehomeassistantupdate_updates_coordinatedsingleapipollfordataforallentities ── Topic: 30\n",
      "│         │              │    │              │    └─sensors_sensor_sensorentitydescription_sensorpy_data\n",
      "│         │              │    │              │         ├─■──sensors_sensor_sensorentitydescription_sensorpy_binary ── Topic: 0\n",
      "│         │              │    │              │         └─■──states_state_attribute_attributes_property ── Topic: 15\n",
      "│         │              │    │              └─■──notifynotify_notification_notifications_notifyevents_notify ── Topic: 44\n",
      "│         │              │    └─consumption_energy_meter_kwh_utility\n",
      "│         │              │         ├─■──energy_consumption_metering_kwh_meter ── Topic: 19\n",
      "│         │              │         └─■──sensordeviceclass_units_unitofconcentration_unit_measurement ── Topic: 76\n",
      "│         │              └─brightness_color_rgb_hue_light\n",
      "│         │                   ├─brightness_color_rgb_hue_led\n",
      "│         │                   │    ├─brightness_rgb_hue_colors_rgbw\n",
      "│         │                   │    │    ├─■──fan_fanpy_breeze_fans_purifier ── Topic: 47\n",
      "│         │                   │    │    └─brightness_colors_rgb_rgbw_rgbcw\n",
      "│         │                   │    │         ├─■──temperature_thermostat_thermostats_temp_heating ── Topic: 13\n",
      "│         │                   │    │         └─■──brightness_rgb_rgbw_colors_rgbcw ── Topic: 7\n",
      "│         │                   │    └─modbus_modbuspy_plc_pymodbus_rs485\n",
      "│         │                   │         ├─■──modbus_modbuspy_plc_pymodbus_rs485 ── Topic: 71\n",
      "│         │                   │         └─■──switches_switchsemantics_switch_switchbot_reversing ── Topic: 146\n",
      "│         │                   └─forecast_forecasts_weather_openweathermap_climate\n",
      "│         │                        ├─platforms_platform_platforms2_pr_prs\n",
      "│         │                        │    ├─■──platforms_platform_platforms2_pr_prs ── Topic: 72\n",
      "│         │                        │    └─■──humidifierentity_humidifier_humidifiers_humidifying_humidifer ── Topic: 137\n",
      "│         │                        └─■──weatherforecastservice_weatherdata_forecastdata_forecast_forecasts ── Topic: 112\n",
      "│         └─yaml_configurationyaml_config_configuration_changes\n",
      "│              ├─yaml_configurationyaml_config_configuration_servicesyaml\n",
      "│              │    ├─■──yaml_configurationyaml_config_configuration_configurations ── Topic: 18\n",
      "│              │    └─config_configuration_configure_coreconfig_flow\n",
      "│              │         ├─■──config_configure_configuration_optionsflow_flow ── Topic: 21\n",
      "│              │         └─■──config_testingyourconfigflow_customrequirementsduringdevelopmenttesting_configuration_tests ── Topic: 106\n",
      "│              └─■──reauth_reauthenticate_reauthentication_oauth2_oauth ── Topic: 38\n",
      "└─commits_commitsongithubarentlinkingtomyaccount_github_commit_git\n",
      "     ├─merge_merged_merging_conflicts_conflict\n",
      "     │    ├─pr_prs_docs_doc_docsmissing\n",
      "     │    │    ├─pr_prs_docs_doc_documenation\n",
      "     │    │    │    ├─■──docs_docstargetbranch_page_linked_adding ── Topic: 122\n",
      "     │    │    │    └─■──pr_prs_docs_doc_documenation ── Topic: 79\n",
      "     │    │    └─pr_documentation_prs_document_documentationneeded\n",
      "     │    │         ├─pr_documentation_prs_document_documentationneeded\n",
      "     │    │         │    ├─■──documentation_updates_docs_documentationneeded_update ── Topic: 35\n",
      "     │    │         │    └─■──pr_documentation_prs_document_documented ── Topic: 22\n",
      "     │    │         └─■──merge_pr_prs_merged_document ── Topic: 154\n",
      "     │    └─merged_merge_merging_approved_pr\n",
      "     │         ├─merged_merge_merging_frontend_backend\n",
      "     │         │    ├─frontend_frontender_backend_awaitingfrontend_pr\n",
      "     │         │    │    ├─■──frontend_frontender_backend_configured_application ── Topic: 84\n",
      "     │         │    │    └─■──merge_merging_merged_pr_prs ── Topic: 123\n",
      "     │         │    └─merged_merge_merging_approved_reviewed\n",
      "     │         │         ├─merged_merge_merging_merger_closed\n",
      "     │         │         │    ├─■──merging_merge_retest_testing_tests ── Topic: 93\n",
      "     │         │         │    └─merged_merge_merging_merger_closed\n",
      "     │         │         │         ├─■──merged_merge_merging_merger_pending ── Topic: 17\n",
      "     │         │         │         └─■──merge_pr_merging_merged_prs ── Topic: 9\n",
      "     │         │         └─review_reviewing_reviewed_reviews_reviewer\n",
      "     │         │              ├─■──merged_merge_merging_review_reviewing ── Topic: 150\n",
      "     │         │              └─review_reviewing_reviewed_reviews_reviewer\n",
      "     │         │                   ├─■──review_reviewing_reviews_reviewed_reviewer ── Topic: 26\n",
      "     │         │                   └─■──pr_prs_review_reviewed_pending ── Topic: 70\n",
      "     │         └─merges_merge_merging_conflicts_merged\n",
      "     │              ├─merges_merge_merging_conflicts_merged\n",
      "     │              │    ├─■──merge_merging_merges_rebased_merged ── Topic: 144\n",
      "     │              │    └─merges_merge_merging_conflicts_merged\n",
      "     │              │         ├─■──merge_merging_conflicts_merged_conflict ── Topic: 109\n",
      "     │              │         └─■──merged_merge_merging_merges_conflicts ── Topic: 77\n",
      "     │              └─■──conflicts_conflict_reconcile_resolve_fix ── Topic: 140\n",
      "     └─commits_commitsongithubarentlinkingtomyaccount_github_commit_git\n",
      "          ├─commits_commitsongithubarentlinkingtomyaccount_github_commit_git\n",
      "          │    ├─thanks_thank_awesome_great_noted\n",
      "          │    │    ├─joostlek_thanks_jc2k_thank_zweckj\n",
      "          │    │    │    ├─■──joostlek_zweckj_jampez77_review_jimmydbe ── Topic: 120\n",
      "          │    │    │    └─■──joostlek_thanks_welcome_jc2k_thank ── Topic: 37\n",
      "          │    │    └─thanks_awesome_great_noted_good\n",
      "          │    │         ├─thanks_awesome_great__\n",
      "          │    │         │    ├─■──thanks____ ── Topic: 55\n",
      "          │    │         │    └─■──thanks_awesome_great__ ── Topic: 46\n",
      "          │    │         └─■──thanks_noted_good__ ── Topic: 59\n",
      "          │    └─commits_commitsongithubarentlinkingtomyaccount_github_commit_git\n",
      "          │         ├─commits_commitsongithubarentlinkingtomyaccount_github_commit_git\n",
      "          │         │    ├─commits_commitsongithubarentlinkingtomyaccount_github_commit_git\n",
      "          │         │    │    ├─commits_commitsongithubarentlinkingtomyaccount_github_commit_git\n",
      "          │         │    │    │    ├─■──commits_commitsongithubarentlinkingtomyaccount_github_commit_git ── Topic: 88\n",
      "          │         │    │    │    └─■──commits_commitsongithubarentlinkingtomyaccount_github_commit_git ── Topic: 78\n",
      "          │         │    │    └─cla_signed_clasigned_sign_pull\n",
      "          │         │    │         ├─■──cla_signed_sign_clasigned_approval ── Topic: 58\n",
      "          │         │    │         └─cla_pull_signed_cyclops1982_review\n",
      "          │         │    │              ├─■──cla_pull_signed_cyclops1982_review ── Topic: 1\n",
      "          │         │    │              └─■──cla_github_commits_x2fcore_pull ── Topic: 73\n",
      "          │         │    └─screenshot_img_image_screen_src\n",
      "          │         │         ├─img_screenshot_image_src_width\n",
      "          │         │         │    ├─bdraco_rbarata_thanks_pyaussiebb_thank\n",
      "          │         │         │    │    ├─■──bdraco_thanks_bdr99_thank_boswelja ── Topic: 111\n",
      "          │         │         │    │    └─■──bdraco_rbarata_review_pyaussiebb_20220227t130000z ── Topic: 24\n",
      "          │         │         │    └─screenshot_img_image_src_screen\n",
      "          │         │         │         ├─img_screenshot_image_src_screen\n",
      "          │         │         │         │    ├─codeowner_lifx_l624_integration_l607\n",
      "          │         │         │         │    │    ├─emontnemery_review_appreciated_reviewing_reviews\n",
      "          │         │         │         │    │    │    ├─emontnemery_em06_em16_appreciate_appreciated\n",
      "          │         │         │         │    │    │    │    ├─■──emontnemery_em06_em16_emjay276_thank ── Topic: 42\n",
      "          │         │         │         │    │    │    │    └─welcome_enjoy_thank_reviewed_thanks\n",
      "          │         │         │         │    │    │    │         ├─■──reviews_review_reviewed_reviewing_thanks ── Topic: 80\n",
      "          │         │         │         │    │    │    │         └─■──thanks_thank_welcome_enjoy_appreciate ── Topic: 92\n",
      "          │         │         │         │    │    │    └─martinhjelmare_martin_reviews_feedback_review\n",
      "          │         │         │         │    │    │         ├─ready_requested_thanks_f99eccdf_ok\n",
      "          │         │         │         │    │    │         │    ├─■──ready_requested_thanks_f99eccdf_tnx ── Topic: 85\n",
      "          │         │         │         │    │    │         │    └─■──sorry_thanks_yep_working_yeah ── Topic: 152\n",
      "          │         │         │         │    │    │         └─martinhjelmare_martinvdm_martin_review_addressed\n",
      "          │         │         │         │    │    │              ├─martinhjelmare_martinpham_martin_martinvdm_sfjes\n",
      "          │         │         │         │    │    │              │    ├─■──martinhjelmare_martinpham_martin_martinvdm_sfjes ── Topic: 39\n",
      "          │         │         │         │    │    │              │    └─■──addressed_comments_comment_replying_addressing ── Topic: 101\n",
      "          │         │         │         │    │    │              └─pr_review_changes_revised_changed\n",
      "          │         │         │         │    │    │                   ├─pr_review_changes_revised_changed\n",
      "          │         │         │         │    │    │                   │    ├─■──edenhaus_isaknyberg_chamberlain2007_address_suggested ── Topic: 153\n",
      "          │         │         │         │    │    │                   │    └─pr_review_changes_revised_changed\n",
      "          │         │         │         │    │    │                   │         ├─■──changes_changed_modifications_modification_change ── Topic: 62\n",
      "          │         │         │         │    │    │                   │         └─■──pr_review_changes_changed_status ── Topic: 130\n",
      "          │         │         │         │    │    │                   └─■──kane610_e09b429_wanted_adding_add ── Topic: 134\n",
      "          │         │         │         │    │    └─lifx_l624_codeowner_codeownersfile_l607\n",
      "          │         │         │         │    │         ├─frenck_fronzbot_fr_fabaff_martinhjelmare\n",
      "          │         │         │         │    │         │    ├─■──rytilahti_merged_merge_pending_removed ── Topic: 162\n",
      "          │         │         │         │    │         │    └─■──frenck_fr_fabaff_flake8_revieuw ── Topic: 25\n",
      "          │         │         │         │    │         └─lifx_l624_codeowner_codeownersfile_l1219\n",
      "          │         │         │         │    │              ├─lifx_l624_pullrequestreview922348350_pullrequestreview723219009_pullrequestreview1083570432\n",
      "          │         │         │         │    │              │    ├─■──pullrequestreview707877717_pullrequestreview635980597_pullrequestreview723219009_pullrequestreview10 ── Topic: 53\n",
      "          │         │         │         │    │              │    └─■──lifx_l624_l561_l1219_l1183 ── Topic: 63\n",
      "          │         │         │         │    │              └─■──codeownersfile_codeowner_codeowners_ownership_owner ── Topic: 125\n",
      "          │         │         │         │    └─screenshot_img_image_src_alt\n",
      "          │         │         │         │         ├─branch_rebase_branches_rebased_commits\n",
      "          │         │         │         │         │    ├─branch_branches_rebase_rebased_commits\n",
      "          │         │         │         │         │    │    ├─■──rebase_rererebase_reflog_fixing_recover ── Topic: 68\n",
      "          │         │         │         │         │    │    └─■──rebase_branch_rebased_branches_commits ── Topic: 2\n",
      "          │         │         │         │         │    └─■──push_pushing_pushed_pushes_force ── Topic: 143\n",
      "          │         │         │         │         └─img_screenshot_image_screen_width\n",
      "          │         │         │         │              ├─ping_pinging_pinged_lgtm_chat\n",
      "          │         │         │         │              │    ├─lgtm_engrbm87_swistakm_davet2001_mobile\n",
      "          │         │         │         │              │    │    ├─thnx_thx_thanx__\n",
      "          │         │         │         │              │    │    │    ├─thnx_thx_thanx__\n",
      "          │         │         │         │              │    │    │    │    ├─■──____ ── Topic: 32\n",
      "          │         │         │         │              │    │    │    │    └─■──thnx_thx_thanx__ ── Topic: 119\n",
      "          │         │         │         │              │    │    │    └─■──ready_engrbm87_muppet3000_congratulations_time ── Topic: 158\n",
      "          │         │         │         │              │    │    └─lgtm_swistakm_davet2001_mobile_zigpy\n",
      "          │         │         │         │              │    │         ├─■──lgtm_swistakm_davet2001_mobile_zigpy ── Topic: 81\n",
      "          │         │         │         │              │    │         └─■──coderabbitai_review_code_reviewing_pastucha ── Topic: 149\n",
      "          │         │         │         │              │    └─ping_pinging_pinged_chat_discord\n",
      "          │         │         │         │              │         ├─ping_pinging_pinged_chat_discord\n",
      "          │         │         │         │              │         │    ├─ping_pinging_pinged_chat_discord\n",
      "          │         │         │         │              │         │    │    ├─■──discord_discordcom_message_chat_joined ── Topic: 96\n",
      "          │         │         │         │              │         │    │    └─■──ping_pinging_pings_pinged_polite ── Topic: 60\n",
      "          │         │         │         │              │         │    └─■──epenet_eufy_additional_suggested_completion ── Topic: 128\n",
      "          │         │         │         │              │         └─rebased_retested_rephrase_originally_original\n",
      "          │         │         │         │              │              ├─■──rebased_unstale_addressed__ ── Topic: 124\n",
      "          │         │         │         │              │              └─■──gjohanssonst_resolved_pjrt_appreciated_tronikos ── Topic: 82\n",
      "          │         │         │         │              └─screenshot_screenshots_img_image_screen\n",
      "          │         │         │         │                   ├─image_img_smile_glasses_imageprocesingyaml\n",
      "          │         │         │         │                   │    ├─■──docker_container_hadockercontainer_devcontainer_ser2net ── Topic: 108\n",
      "          │         │         │         │                   │    └─■──image_img_graphic_expression_beam ── Topic: 51\n",
      "          │         │         │         │                   └─■──screenshot_img_screenshots_image_src ── Topic: 12\n",
      "          │         │         │         └─retested_retest_testing_tested_test\n",
      "          │         │         │              ├─testing_tested_test_retest_retested\n",
      "          │         │         │              │    ├─testing_tests_tested_test_retesting\n",
      "          │         │         │              │    │    ├─■──testing_tests_tested_test_retesting ── Topic: 69\n",
      "          │         │         │              │    │    └─looking_look_check_asap_ill\n",
      "          │         │         │              │    │         ├─■──testing_devices_device_tests_tested ── Topic: 105\n",
      "          │         │         │              │    │         └─■──check_look_asap_thanks_tomorrow ── Topic: 45\n",
      "          │         │         │              │    └─pr_prs_oops_whoops_works\n",
      "          │         │         │              │         ├─pr_prs_forward_oops_addressed\n",
      "          │         │         │              │         │    ├─■──pr_prs_forward_statis_preliminary ── Topic: 6\n",
      "          │         │         │              │         │    └─■──sorry_mistake_gotcha_whoops_oops ── Topic: 29\n",
      "          │         │         │              │         └─code_codes_thecode_works_latest\n",
      "          │         │         │              │              ├─■──code_codes_thecode_c61ccc7_latest ── Topic: 48\n",
      "          │         │         │              │              └─■──works_try_tested_issuecomment873970660_working ── Topic: 54\n",
      "          │         │         │              └─sure_available_ill_interested_ok\n",
      "          │         │         │                   ├─■──sure_interested_ill_ok_wanted ── Topic: 94\n",
      "          │         │         │                   └─■──idea_ideas_suggestion_agree_definitely ── Topic: 129\n",
      "          │         │         └─architecture_architectural_discussions_design_discussion\n",
      "          │         │              ├─draft_drafteed_drafting_merged_drafted\n",
      "          │         │              │    ├─■──draft_drafting_drafteed_drafted_merges ── Topic: 50\n",
      "          │         │              │    └─■──draft_pr_prs_drafteed_preliminary ── Topic: 121\n",
      "          │         │              └─architecture_architectural_discussions_design_discussion\n",
      "          │         │                   ├─■──architecture_architectural_discussions_architectual_design ── Topic: 28\n",
      "          │         │                   └─■──discussion_discussions_discussing_discussioncomment7542203_conversation ── Topic: 127\n",
      "          │         └─ci_pr_failed_fail_failing\n",
      "          │              ├─coverage_testing_tests_coveragerc_test\n",
      "          │              │    ├─coverage_coveragerc_covered_cover_coverpy\n",
      "          │              │    │    ├─■──pytest_pytestfixture_pytestfixtureautouse_pytests_pytestmarkxfail ── Topic: 67\n",
      "          │              │    │    └─coverage_coveragerc_coverageacc_covered_cover\n",
      "          │              │    │         ├─■──sensorpytest_legacypytest_assertionerror_climatepytest_tests ── Topic: 99\n",
      "          │              │    │         └─■──coverage_coveragerc_covered_cover_testing ── Topic: 40\n",
      "          │              │    └─tests_testing_test_testers_passed\n",
      "          │              │         ├─■──tests_test_failing_fail_failed ── Topic: 148\n",
      "          │              │         └─tests_testing_test_testers_passed\n",
      "          │              │              ├─■──tests_testing_test_testers_passed ── Topic: 16\n",
      "          │              │              └─■──pr_prs_testing_tests_tested ── Topic: 65\n",
      "          │              └─codecov_ci_failed_fails_failing\n",
      "          │                   ├─ci_failed_failing_fails_fail\n",
      "          │                   │    ├─ci_cicd_fixed_rebase_failed\n",
      "          │                   │    │    ├─■──retrigger_reopening_ci_reopen_closing ── Topic: 157\n",
      "          │                   │    │    └─■──ci_cicd_fixed_fix_rebase ── Topic: 8\n",
      "          │                   │    └─codecov_codecoverage_failing_fails_failed\n",
      "          │                   │         ├─codecov_codecoverage_codecovio_odecov_codecode\n",
      "          │                   │         │    ├─■──codecov_codecoverage_codecovio_odecov_codecode ── Topic: 49\n",
      "          │                   │         │    └─■──testing_fail_failures_tests_failing ── Topic: 91\n",
      "          │                   │         └─errors_error_failing_failed_fails\n",
      "          │                   │              ├─mypy_mypyini_errors_failing_failed\n",
      "          │                   │              │    ├─■──mypy_mypyini_errors_failing_failed ── Topic: 100\n",
      "          │                   │              │    └─■──checks_checkers_checklist_check_passed ── Topic: 135\n",
      "          │                   │              └─isort_errors_error_pylint_pychromecasterrorpychromecasterror\n",
      "          │                   │                   ├─isort_iso_errors_error_issue\n",
      "          │                   │                   │    ├─■──isort_iso_errors_error_issue ── Topic: 107\n",
      "          │                   │                   │    └─■──lint_linting_linter_linters_errors ── Topic: 147\n",
      "          │                   │                   └─■──pylint_pylintperfileignores_pyliny_pylgnetcast_pychromecasterrorpychromecasterror ── Topic: 118\n",
      "          │                   └─fixed_fix_resolved_corrected_issue\n",
      "          │                        ├─■──fixed_resolved_corrected_fixes_missed ── Topic: 126\n",
      "          │                        └─■──resolved_fixed_issue_fix_issues ── Topic: 114\n",
      "          └─pr_prs_closing_reopening_stale\n",
      "               ├─closing_closed_reopening_reopen_favor\n",
      "               │    ├─■──replaced_merged_merges_successor_duplicate ── Topic: 27\n",
      "               │    └─closing_reopening_reopen_closed_pr\n",
      "               │         ├─■──closing_closed_favor_favour_reopening ── Topic: 41\n",
      "               │         └─■──pr_prs_reopen_closing_reopened ── Topic: 52\n",
      "               └─pr_reopening_stale_reopen_stalebot\n",
      "                    ├─pr_closing_stale_reopen_reopened\n",
      "                    │    ├─■──pr_stale_reopen_closed_ongoing ── Topic: 136\n",
      "                    │    └─■──pr_closing_stale_reopen_reopened ── Topic: 115\n",
      "                    └─stale_stalebot_fresh_anymore_gone\n",
      "                         ├─■──stale_stalebot_patiently_waiting_doesnt ── Topic: 116\n",
      "                         └─■──stale_fresh_reviews_review_reviewed ── Topic: 74\n",
      "\n"
     ]
    }
   ],
   "source": [
    "# https://maartengr.github.io/BERTopic/getting_started/hierarchicaltopics/hierarchicaltopics.html\n",
    "\n",
    "# topic_model.visualize_hierarchy(hierarchical_topics=hierarchical_topics)\n",
    "print(topic_model.get_topic_tree(hierarchical_topics))\n",
    "\n",
    "# merge topics as necessary e.g.\n",
    "# topics_to_merge = [63, 126, 86, 177, 55, 172, 156, 185]     # all about removing commented out code or stale comments/docstrings\n",
    "# topic_model.merge_topics(threads, topics_to_merge)\n"
   ]
  },
  {
   "cell_type": "code",
   "execution_count": 15,
   "metadata": {},
   "outputs": [
    {
     "data": {
      "text/plain": [
       "['Still no progress?',\n",
       " 'Will this progress further and if so when?',\n",
       " 'Still no progress?']"
      ]
     },
     "execution_count": 15,
     "metadata": {},
     "output_type": "execute_result"
    }
   ],
   "source": [
    "# use this cell to get info about specific topics in hierarchy\n",
    "\n",
    "topic_model.get_representative_docs(61)"
   ]
  }
 ],
 "metadata": {
  "kernelspec": {
   "display_name": ".venv",
   "language": "python",
   "name": "python3"
  },
  "language_info": {
   "codemirror_mode": {
    "name": "ipython",
    "version": 3
   },
   "file_extension": ".py",
   "mimetype": "text/x-python",
   "name": "python",
   "nbconvert_exporter": "python",
   "pygments_lexer": "ipython3",
   "version": "3.12.6"
  }
 },
 "nbformat": 4,
 "nbformat_minor": 2
}
