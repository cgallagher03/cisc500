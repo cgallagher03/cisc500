{
 "cells": [
  {
   "cell_type": "markdown",
   "metadata": {},
   "source": [
    "# Import dependencies"
   ]
  },
  {
   "cell_type": "code",
   "execution_count": null,
   "metadata": {},
   "outputs": [],
   "source": [
    "import pandas as pd\n",
    "import ast\n",
    "import re\n",
    "import umap\n",
    "from dotenv import load_dotenv\n",
    "from bertopic import BERTopic\n",
    "from bertopic.representation import KeyBERTInspired\n",
    "from sklearn.feature_extraction.text import CountVectorizer\n",
    "\n",
    "load_dotenv()"
   ]
  },
  {
   "cell_type": "markdown",
   "metadata": {},
   "source": [
    "# Read and clean data"
   ]
  },
  {
   "cell_type": "code",
   "execution_count": 2,
   "metadata": {},
   "outputs": [],
   "source": [
    "\n",
    "\n",
    "def safe_literal_eval(val):\n",
    "    if pd.isna(val):  \n",
    "        return []     \n",
    "    try:\n",
    "        return ast.literal_eval(val)\n",
    "    except (ValueError, SyntaxError):\n",
    "        return [] \n",
    "    \n",
    "def clean_text(text):\n",
    "    # quotes\n",
    "    text = re.sub(r\"(?m)^\\s*>.*(?:\\r?\\n|$)\", \"\", text)\n",
    "\n",
    "    # links and code\n",
    "    # should we consider using LLM to generate short summary of the code snippets so we don't lose any context it could provide\n",
    "    # or could use regex to detect patterns in the code and classify them e.g. detecting import statements, function definitions, or added/removed lines.\n",
    "    pattern = r\"```.*?```|http[s]?://(?:[a-zA-Z]|[0-9]|[$-_@.&+]|[!*\\\\(\\\\),]|(?:%[0-9a-fA-F][0-9a-fA-F]))+\"\n",
    "    cleaned_text = re.sub(pattern, \"\", text, flags=re.DOTALL)\n",
    "\n",
    "    # keep only alphanumeric characters and punctuation\n",
    "    cleaned_text = re.sub(r\"[^a-zA-Z0-9.,!?;:'\\\"(){}\\[\\]\\-]\", \" \", cleaned_text)\n",
    "\n",
    "    # remove extra spaces\n",
    "    cleaned_text = re.sub(r\"\\s+\", \" \", cleaned_text).strip()\n",
    "\n",
    "    return cleaned_text\n",
    "    \n",
    "def preprocess_text(comments_sequence):\n",
    "    all_comments = []\n",
    "    for issue_comment in comments_sequence:\n",
    "        body = clean_text(issue_comment['comment']['body'])\n",
    "        all_comments.append(body)\n",
    "    return all_comments\n",
    "\n",
    "df= pd.read_csv('data/pull_requests_filtered_raw.csv')\n",
    "df['comments'] = df['comments'].apply(safe_literal_eval)\n",
    "\n",
    "df['issue_comments'] = df['comments'].apply(lambda comments: [item for item in comments if item['type'] == 'issue'] if type(comments) is not float else comments)\n",
    "df = df[df['issue_comments'].apply(lambda x: isinstance(x, list) and len(x) > 0)]\n",
    "df['processed_issue_comments'] = df['issue_comments'].apply(preprocess_text)\n",
    "\n",
    "issue_comments = df['processed_issue_comments'].explode().tolist()"
   ]
  },
  {
   "cell_type": "markdown",
   "metadata": {},
   "source": [
    "# Cluster Using Bertopic"
   ]
  },
  {
   "cell_type": "code",
   "execution_count": null,
   "metadata": {},
   "outputs": [],
   "source": [
    "# https://bertopic.readthedocs.io/en/latest/\n",
    "# https://maartengr.github.io/BERTopic/api/representation/keybert.html\n",
    "# https://maartengr.github.io/BERTopic/getting_started/vectorizers/vectorizers.html\n",
    "\n",
    "# used to fine-tune topic representations\n",
    "representation_model = KeyBERTInspired()\n",
    "vectorizer_model = CountVectorizer(stop_words=\"english\")\n",
    "umap_model = umap.UMAP(n_neighbors=15, n_components=5, random_state=42)     # fix topics across runs by setting random_state; otherwise UMAP is stochastic\n",
    "\n",
    "# using pre-calculated embeddings\n",
    "# topic_model = BERTopic(min_topic_size=20)\n",
    "# topics, probs = topic_model.fit_transform(threads, thread_embeddings)\n",
    "\n",
    "# using KeyBERTInspired to generate embeddings\n",
    "topic_model = BERTopic(representation_model=representation_model, vectorizer_model=vectorizer_model, umap_model=umap_model, min_topic_size=20)\n",
    "topics, probs = topic_model.fit_transform(issue_comments)\n",
    "hierarchical_topics = topic_model.hierarchical_topics(issue_comments)"
   ]
  },
  {
   "cell_type": "markdown",
   "metadata": {},
   "source": [
    "## General Topic Info"
   ]
  },
  {
   "cell_type": "code",
   "execution_count": 6,
   "metadata": {},
   "outputs": [],
   "source": [
    "# set Pandas formatting for printing\n",
    "pd.set_option('display.max_colwidth', 200)\n",
    "pd.set_option('display.max_rows', None)"
   ]
  },
  {
   "cell_type": "code",
   "execution_count": null,
   "metadata": {},
   "outputs": [],
   "source": [
    "print(topic_model.get_topic_info())\n",
    "# print(topic_model.generate_topic_labels(nr_words=1))\n",
    "\n",
    "topic_model.visualize_barchart()"
   ]
  },
  {
   "cell_type": "markdown",
   "metadata": {},
   "source": [
    "## Topic Hierarchy"
   ]
  },
  {
   "cell_type": "code",
   "execution_count": null,
   "metadata": {},
   "outputs": [],
   "source": [
    "# https://maartengr.github.io/BERTopic/getting_started/hierarchicaltopics/hierarchicaltopics.html\n",
    "\n",
    "# topic_model.visualize_hierarchy(hierarchical_topics=hierarchical_topics)\n",
    "print(topic_model.get_topic_tree(hierarchical_topics))\n"
   ]
  },
  {
   "cell_type": "code",
   "execution_count": null,
   "metadata": {},
   "outputs": [],
   "source": [
    "# use this cell to get info about specific topics in hierarchy\n",
    "print(topic_model.get_representative_docs(0))\n",
    "\n",
    "topics_df = pd.DataFrame({'topic': topics, 'document': issue_comments})\n",
    "print(topics_df[topics_df.topic == 0])"
   ]
  }
 ],
 "metadata": {
  "kernelspec": {
   "display_name": ".venv",
   "language": "python",
   "name": "python3"
  },
  "language_info": {
   "codemirror_mode": {
    "name": "ipython",
    "version": 3
   },
   "file_extension": ".py",
   "mimetype": "text/x-python",
   "name": "python",
   "nbconvert_exporter": "python",
   "pygments_lexer": "ipython3",
   "version": "3.12.6"
  }
 },
 "nbformat": 4,
 "nbformat_minor": 2
}
