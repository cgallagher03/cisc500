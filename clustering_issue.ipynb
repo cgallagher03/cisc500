{
 "cells": [
  {
   "cell_type": "markdown",
   "metadata": {},
   "source": [
    "# Import dependencies"
   ]
  },
  {
   "cell_type": "code",
   "execution_count": 1,
   "metadata": {},
   "outputs": [
    {
     "name": "stderr",
     "output_type": "stream",
     "text": [
      "/Users/conor/Documents/CISC500- Individual Thesis/conor-repo/.venv/lib/python3.12/site-packages/tqdm/auto.py:21: TqdmWarning: IProgress not found. Please update jupyter and ipywidgets. See https://ipywidgets.readthedocs.io/en/stable/user_install.html\n",
      "  from .autonotebook import tqdm as notebook_tqdm\n"
     ]
    },
    {
     "data": {
      "text/plain": [
       "True"
      ]
     },
     "execution_count": 1,
     "metadata": {},
     "output_type": "execute_result"
    }
   ],
   "source": [
    "import pandas as pd\n",
    "import ast\n",
    "import re\n",
    "import umap\n",
    "from dotenv import load_dotenv\n",
    "from bertopic import BERTopic\n",
    "from bertopic.representation import KeyBERTInspired\n",
    "from sklearn.feature_extraction.text import CountVectorizer\n",
    "\n",
    "load_dotenv()"
   ]
  },
  {
   "cell_type": "markdown",
   "metadata": {},
   "source": [
    "# Read and clean data"
   ]
  },
  {
   "cell_type": "code",
   "execution_count": 2,
   "metadata": {},
   "outputs": [],
   "source": [
    "\n",
    "\n",
    "def safe_literal_eval(val):\n",
    "    if pd.isna(val):  \n",
    "        return []     \n",
    "    try:\n",
    "        return ast.literal_eval(val)\n",
    "    except (ValueError, SyntaxError):\n",
    "        return [] \n",
    "    \n",
    "def clean_text(text):\n",
    "    # quotes\n",
    "    text = re.sub(r\"(?m)^\\s*>.*(?:\\r?\\n|$)\", \"\", text)\n",
    "\n",
    "    # links and code\n",
    "    # should we consider using LLM to generate short summary of the code snippets so we don't lose any context it could provide\n",
    "    # or could use regex to detect patterns in the code and classify them e.g. detecting import statements, function definitions, or added/removed lines.\n",
    "    pattern = r\"```.*?```|http[s]?://(?:[a-zA-Z]|[0-9]|[$-_@.&+]|[!*\\\\(\\\\),]|(?:%[0-9a-fA-F][0-9a-fA-F]))+\"\n",
    "    cleaned_text = re.sub(pattern, \"\", text, flags=re.DOTALL)\n",
    "\n",
    "    # keep only alphanumeric characters and punctuation\n",
    "    cleaned_text = re.sub(r\"[^a-zA-Z0-9.,!?;:'\\\"(){}\\[\\]\\-]\", \" \", cleaned_text)\n",
    "\n",
    "    # remove extra spaces\n",
    "    cleaned_text = re.sub(r\"\\s+\", \" \", cleaned_text).strip()\n",
    "\n",
    "    return cleaned_text\n",
    "    \n",
    "def preprocess_text(comments_sequence):\n",
    "    all_comments = []\n",
    "    for issue_comment in comments_sequence:\n",
    "        body = clean_text(issue_comment['comment']['body'])\n",
    "        all_comments.append(body)\n",
    "    return all_comments\n",
    "\n",
    "df= pd.read_csv('data/pull_requests_filtered_raw.csv')\n",
    "df['comments'] = df['comments'].apply(safe_literal_eval)\n",
    "\n",
    "df['issue_comments'] = df['comments'].apply(lambda comments: [item for item in comments if item['type'] == 'issue'] if type(comments) is not float else comments)\n",
    "df = df[df['issue_comments'].apply(lambda x: isinstance(x, list) and len(x) > 0)]\n",
    "df['processed_issue_comments'] = df['issue_comments'].apply(preprocess_text)\n",
    "\n",
    "issue_comments = df['processed_issue_comments'].explode().tolist()"
   ]
  },
  {
   "cell_type": "markdown",
   "metadata": {},
   "source": [
    "# Cluster Using Bertopic"
   ]
  },
  {
   "cell_type": "code",
   "execution_count": null,
   "metadata": {},
   "outputs": [
    {
     "name": "stderr",
     "output_type": "stream",
     "text": [
      "OMP: Info #276: omp_set_nested routine deprecated, please use omp_set_max_active_levels instead.\n",
      "huggingface/tokenizers: The current process just got forked, after parallelism has already been used. Disabling parallelism to avoid deadlocks...\n",
      "To disable this warning, you can either:\n",
      "\t- Avoid using `tokenizers` before the fork if possible\n",
      "\t- Explicitly set the environment variable TOKENIZERS_PARALLELISM=(true | false)\n",
      "huggingface/tokenizers: The current process just got forked, after parallelism has already been used. Disabling parallelism to avoid deadlocks...\n",
      "To disable this warning, you can either:\n",
      "\t- Avoid using `tokenizers` before the fork if possible\n",
      "\t- Explicitly set the environment variable TOKENIZERS_PARALLELISM=(true | false)\n",
      "huggingface/tokenizers: The current process just got forked, after parallelism has already been used. Disabling parallelism to avoid deadlocks...\n",
      "To disable this warning, you can either:\n",
      "\t- Avoid using `tokenizers` before the fork if possible\n",
      "\t- Explicitly set the environment variable TOKENIZERS_PARALLELISM=(true | false)\n",
      "huggingface/tokenizers: The current process just got forked, after parallelism has already been used. Disabling parallelism to avoid deadlocks...\n",
      "To disable this warning, you can either:\n",
      "\t- Avoid using `tokenizers` before the fork if possible\n",
      "\t- Explicitly set the environment variable TOKENIZERS_PARALLELISM=(true | false)\n",
      "huggingface/tokenizers: The current process just got forked, after parallelism has already been used. Disabling parallelism to avoid deadlocks...\n",
      "To disable this warning, you can either:\n",
      "\t- Avoid using `tokenizers` before the fork if possible\n",
      "\t- Explicitly set the environment variable TOKENIZERS_PARALLELISM=(true | false)\n",
      "100%|██████████| 162/162 [00:31<00:00,  5.16it/s]\n"
     ]
    }
   ],
   "source": [
    "# https://bertopic.readthedocs.io/en/latest/\n",
    "# https://maartengr.github.io/BERTopic/api/representation/keybert.html\n",
    "# https://maartengr.github.io/BERTopic/getting_started/vectorizers/vectorizers.html\n",
    "\n",
    "# used to fine-tune topic representations\n",
    "representation_model = KeyBERTInspired()\n",
    "vectorizer_model = CountVectorizer(stop_words=\"english\")\n",
    "umap_model = umap.UMAP(n_neighbors=15, n_components=5, random_state=42)     # fix topics across runs by setting random_state; otherwise UMAP is stochastic\n",
    "\n",
    "# using pre-calculated embeddings\n",
    "# topic_model = BERTopic(min_topic_size=20)\n",
    "# topics, probs = topic_model.fit_transform(threads, thread_embeddings)\n",
    "\n",
    "# using KeyBERTInspired to generate embeddings\n",
    "topic_model = BERTopic(representation_model=representation_model, vectorizer_model=vectorizer_model, umap_model=umap_model, min_topic_size=20)\n",
    "topics, probs = topic_model.fit_transform(issue_comments)\n",
    "hierarchical_topics = topic_model.hierarchical_topics(issue_comments)"
   ]
  },
  {
   "cell_type": "markdown",
   "metadata": {},
   "source": [
    "## General Topic Info"
   ]
  },
  {
   "cell_type": "code",
   "execution_count": 6,
   "metadata": {},
   "outputs": [],
   "source": [
    "# set Pandas formatting for printing\n",
    "pd.set_option('display.max_colwidth', 200)\n",
    "pd.set_option('display.max_rows', None)"
   ]
  },
  {
   "cell_type": "code",
   "execution_count": 7,
   "metadata": {},
   "outputs": [
    {
     "name": "stdout",
     "output_type": "stream",
     "text": [
      "     Topic  Count  \\\n",
      "0       -1  10004   \n",
      "1        0    545   \n",
      "2        1    489   \n",
      "3        2    474   \n",
      "4        3    401   \n",
      "5        4    328   \n",
      "6        5    240   \n",
      "7        6    234   \n",
      "8        7    234   \n",
      "9        8    225   \n",
      "10       9    201   \n",
      "11      10    199   \n",
      "12      11    183   \n",
      "13      12    173   \n",
      "14      13    173   \n",
      "15      14    168   \n",
      "16      15    165   \n",
      "17      16    164   \n",
      "18      17    159   \n",
      "19      18    158   \n",
      "20      19    153   \n",
      "21      20    150   \n",
      "22      21    143   \n",
      "23      22    141   \n",
      "24      23    141   \n",
      "25      24    141   \n",
      "26      25    137   \n",
      "27      26    137   \n",
      "28      27    131   \n",
      "29      28    130   \n",
      "30      29    129   \n",
      "31      30    129   \n",
      "32      31    121   \n",
      "33      32    120   \n",
      "34      33    119   \n",
      "35      34    114   \n",
      "36      35    113   \n",
      "37      36    111   \n",
      "38      37    105   \n",
      "39      38    105   \n",
      "40      39    104   \n",
      "41      40    101   \n",
      "42      41     98   \n",
      "43      42     95   \n",
      "44      43     90   \n",
      "45      44     89   \n",
      "46      45     89   \n",
      "47      46     89   \n",
      "48      47     88   \n",
      "49      48     86   \n",
      "50      49     86   \n",
      "51      50     85   \n",
      "52      51     84   \n",
      "53      52     84   \n",
      "54      53     82   \n",
      "55      54     82   \n",
      "56      55     82   \n",
      "57      56     79   \n",
      "58      57     76   \n",
      "59      58     74   \n",
      "60      59     73   \n",
      "61      60     70   \n",
      "62      61     69   \n",
      "63      62     69   \n",
      "64      63     68   \n",
      "65      64     67   \n",
      "66      65     67   \n",
      "67      66     65   \n",
      "68      67     64   \n",
      "69      68     63   \n",
      "70      69     62   \n",
      "71      70     61   \n",
      "72      71     59   \n",
      "73      72     56   \n",
      "74      73     56   \n",
      "75      74     56   \n",
      "76      75     55   \n",
      "77      76     54   \n",
      "78      77     53   \n",
      "79      78     53   \n",
      "80      79     53   \n",
      "81      80     52   \n",
      "82      81     52   \n",
      "83      82     52   \n",
      "84      83     50   \n",
      "85      84     50   \n",
      "86      85     50   \n",
      "87      86     50   \n",
      "88      87     50   \n",
      "89      88     49   \n",
      "90      89     49   \n",
      "91      90     48   \n",
      "92      91     48   \n",
      "93      92     48   \n",
      "94      93     48   \n",
      "95      94     48   \n",
      "96      95     47   \n",
      "97      96     46   \n",
      "98      97     45   \n",
      "99      98     45   \n",
      "100     99     44   \n",
      "101    100     44   \n",
      "102    101     43   \n",
      "103    102     43   \n",
      "104    103     41   \n",
      "105    104     40   \n",
      "106    105     40   \n",
      "107    106     39   \n",
      "108    107     39   \n",
      "109    108     39   \n",
      "110    109     39   \n",
      "111    110     38   \n",
      "112    111     37   \n",
      "113    112     37   \n",
      "114    113     37   \n",
      "115    114     37   \n",
      "116    115     36   \n",
      "117    116     35   \n",
      "118    117     35   \n",
      "119    118     35   \n",
      "120    119     32   \n",
      "121    120     32   \n",
      "122    121     32   \n",
      "123    122     32   \n",
      "124    123     32   \n",
      "125    124     31   \n",
      "126    125     31   \n",
      "127    126     30   \n",
      "128    127     30   \n",
      "129    128     30   \n",
      "130    129     30   \n",
      "131    130     30   \n",
      "132    131     30   \n",
      "133    132     29   \n",
      "134    133     29   \n",
      "135    134     29   \n",
      "136    135     28   \n",
      "137    136     28   \n",
      "138    137     27   \n",
      "139    138     27   \n",
      "140    139     26   \n",
      "141    140     26   \n",
      "142    141     26   \n",
      "143    142     26   \n",
      "144    143     26   \n",
      "145    144     26   \n",
      "146    145     26   \n",
      "147    146     26   \n",
      "148    147     24   \n",
      "149    148     23   \n",
      "150    149     22   \n",
      "151    150     22   \n",
      "152    151     22   \n",
      "153    152     22   \n",
      "154    153     22   \n",
      "155    154     21   \n",
      "156    155     21   \n",
      "157    156     21   \n",
      "158    157     21   \n",
      "159    158     21   \n",
      "160    159     20   \n",
      "161    160     20   \n",
      "162    161     20   \n",
      "163    162     20   \n",
      "\n",
      "                                                                                                                Name  \\\n",
      "0                                                                                        -1_api_entities_entity_core   \n",
      "1                                                                  0_sensors_sensor_sensorentitydescription_sensorpy   \n",
      "2                                                                                      1_cla_pull_signed_cyclops1982   \n",
      "3                                                                                   2_rebase_branch_rebased_branches   \n",
      "4                                                                             3_assistant_homekit_homeassistant_home   \n",
      "5                                                                    4_integration_integrate_integrations_integrated   \n",
      "6                                                                            5_devices_device_provisioning_provision   \n",
      "7                                                                                            6_pr_prs_forward_statis   \n",
      "8                                                                                       7_brightness_rgb_rgbw_colors   \n",
      "9                                                                                                8_ci_cicd_fixed_fix   \n",
      "10                                                                                         9_merge_pr_merging_merged   \n",
      "11                                                                              10_hacs_repository_meross_integrated   \n",
      "12                                                                          11_mediaplayer_playback_media_playerplay   \n",
      "13                                                                               12_screenshot_img_screenshots_image   \n",
      "14                                                                        13_temperature_thermostat_thermostats_temp   \n",
      "15                                                                                 14_beta_release_releases_released   \n",
      "16                                                                              15_states_state_attribute_attributes   \n",
      "17                                                                                     16_tests_testing_test_testers   \n",
      "18                                                                                    17_merged_merge_merging_merger   \n",
      "19                                                                    18_yaml_configurationyaml_config_configuration   \n",
      "20                                                                                19_energy_consumption_metering_kwh   \n",
      "21                                                                                  20_camera_cameras_cams_streaming   \n",
      "22                                                                     21_config_configure_configuration_optionsflow   \n",
      "23                                                                                  22_pr_documentation_prs_document   \n",
      "24                                                                          23_datetime_datetimes_nowtimestamp_dates   \n",
      "25                                                                               24_bdraco_rbarata_review_pyaussiebb   \n",
      "26                                                                                        25_frenck_fr_fabaff_flake8   \n",
      "27                                                                              26_review_reviewing_reviews_reviewed   \n",
      "28                                                                               27_replaced_merged_merges_successor   \n",
      "29                                                            28_architecture_architectural_discussions_architectual   \n",
      "30                                                                                    29_sorry_mistake_gotcha_whoops   \n",
      "31                                                               30_polling_polls_servicehomeassistantupdate_updates   \n",
      "32                                                                       31_versions_dependency_version_dependencies   \n",
      "33                                                                                                            32____   \n",
      "34                                                         33_translations_translating_translated_scripttranslations   \n",
      "35                                                                                   34_mqtt_esphome_entity_entities   \n",
      "36                                                                 35_documentation_updates_docs_documentationneeded   \n",
      "37                                                                    36_asyncioprotocol_async_asyncmock_asynciowait   \n",
      "38                                                                                   37_joostlek_thanks_welcome_jc2k   \n",
      "39                                                                  38_reauth_reauthenticate_reauthentication_oauth2   \n",
      "40                                                                     39_martinhjelmare_martinpham_martin_martinvdm   \n",
      "41                                                                              40_coverage_coveragerc_covered_cover   \n",
      "42                                                                                    41_closing_closed_favor_favour   \n",
      "43                                                                                 42_emontnemery_em06_em16_emjay276   \n",
      "44                                                       43_entity_entities_changingtheentitymodel_entitydescription   \n",
      "45                                                           44_notifynotify_notification_notifications_notifyevents   \n",
      "46                                                                                         45_check_look_asap_thanks   \n",
      "47                                                                                          46_thanks_awesome_great_   \n",
      "48                                                                                          47_fan_fanpy_breeze_fans   \n",
      "49                                                                                     48_code_codes_thecode_c61ccc7   \n",
      "50                                                                          49_codecov_codecoverage_codecovio_odecov   \n",
      "51                                                                                50_draft_drafting_drafteed_drafted   \n",
      "52                                                                                   51_image_img_graphic_expression   \n",
      "53                                                                                          52_pr_prs_reopen_closing   \n",
      "54   53_pullrequestreview707877717_pullrequestreview635980597_pullrequestreview723219009_pullrequestreview1083570432   \n",
      "55                                                                         54_works_try_tested_issuecomment873970660   \n",
      "56                                                                                                      55_thanks___   \n",
      "57                                                             56_deebot_serviceresponse_returnresponse_responsedata   \n",
      "58                                                           57_zwavejs_zwavejsserverpython_nodezwavejs_zwavejs2mqtt   \n",
      "59                                                                                      58_cla_signed_sign_clasigned   \n",
      "60                                                                                             59_thanks_noted_good_   \n",
      "61                                                                                      60_ping_pinging_pings_pinged   \n",
      "62                                                                                61_progress_status_waiting_updates   \n",
      "63                                                                     62_changes_changed_modifications_modification   \n",
      "64                                                                                           63_lifx_l624_l561_l1219   \n",
      "65                                                                                   64_lockopen_locks_lock_dooropen   \n",
      "66                                                                                           65_pr_prs_testing_tests   \n",
      "67                                             66_logging_logginghandlersqueuehandlerprepare_logginggetlogger_logger   \n",
      "68                                                              67_pytest_pytestfixture_pytestfixtureautouse_pytests   \n",
      "69                                                                                68_rebase_rererebase_reflog_fixing   \n",
      "70                                                                                      69_testing_tests_tested_test   \n",
      "71                                                                                         70_pr_prs_review_reviewed   \n",
      "72                                                                                   71_modbus_modbuspy_plc_pymodbus   \n",
      "73                                                                               72_platforms_platform_platforms2_pr   \n",
      "74                                                                                     73_cla_github_commits_x2fcore   \n",
      "75                                                                                     74_stale_fresh_reviews_review   \n",
      "76                                                                           75_optout_discussed_feature_implemented   \n",
      "77                                                               76_sensordeviceclass_units_unitofconcentration_unit   \n",
      "78                                                                                    77_merged_merge_merging_merges   \n",
      "79                                                   78_commits_commitsongithubarentlinkingtomyaccount_github_commit   \n",
      "80                                                                                                79_pr_prs_docs_doc   \n",
      "81                                                                              80_reviews_review_reviewed_reviewing   \n",
      "82                                                                                 81_lgtm_swistakm_davet2001_mobile   \n",
      "83                                                                         82_gjohanssonst_resolved_pjrt_appreciated   \n",
      "84                                                                           83_pydantic_pydanticv1_pylutron_pyspeex   \n",
      "85                                                                         84_frontend_frontender_backend_configured   \n",
      "86                                                                                85_ready_requested_thanks_f99eccdf   \n",
      "87                                                                        86_websocket_websockets_pythonsocketio_api   \n",
      "88                                                                         87_pythonwiffi_python3_python311_python39   \n",
      "89                                                   88_commits_commitsongithubarentlinkingtomyaccount_github_commit   \n",
      "90                                                                                 89_calendars_calendar_ical_events   \n",
      "91                                                                                       90_bluetooth_bt_ble_devices   \n",
      "92                                                                                    91_testing_fail_failures_tests   \n",
      "93                                                                                     92_thanks_thank_welcome_enjoy   \n",
      "94                                                                                   93_merging_merge_retest_testing   \n",
      "95                                                                                         94_sure_interested_ill_ok   \n",
      "96                                                                                 95_uniqueid_unique_ids_identifier   \n",
      "97                                                                                96_discord_discordcom_message_chat   \n",
      "98                                             97_dhcp_dhcppy_ip_discoverableintegrationsthatrequirenoauthentication   \n",
      "99                                                                                     98_zhaquirks_quirk_zha_quirks   \n",
      "100                                                        99_sensorpytest_legacypytest_assertionerror_climatepytest   \n",
      "101                                                                                  100_mypy_mypyini_errors_failing   \n",
      "102                                                                          101_addressed_comments_comment_replying   \n",
      "103                                               102_component_components_componenthomeassistantissuesconfig_custom   \n",
      "104                                                                    103_miio_pythonmiio_pythonmiiov0512_xiaomible   \n",
      "105                                                                            104_icons_icon_iconproperty_iconsjson   \n",
      "106                                                                                 105_testing_devices_device_tests   \n",
      "107                        106_config_testingyourconfigflow_customrequirementsduringdevelopmenttesting_configuration   \n",
      "108                                                                                       107_isort_iso_errors_error   \n",
      "109                                                              108_docker_container_hadockercontainer_devcontainer   \n",
      "110                                                                               109_merge_merging_conflicts_merged   \n",
      "111                                                           110_templateentities_templateentity_templated_template   \n",
      "112                                                                                    111_bdraco_thanks_bdr99_thank   \n",
      "113                                                     112_weatherforecastservice_weatherdata_forecastdata_forecast   \n",
      "114                                                                  113_aioesphomeapi_aiolivisi_aioambient_aiounifi   \n",
      "115                                                                                     114_resolved_fixed_issue_fix   \n",
      "116                                                                                      115_pr_closing_stale_reopen   \n",
      "117                                                                             116_stale_stalebot_patiently_waiting   \n",
      "118                                                                                          117_rooms_room_map_maps   \n",
      "119                                                               118_pylint_pylintperfileignores_pyliny_pylgnetcast   \n",
      "120                                                                                              119_thnx_thx_thanx_   \n",
      "121                                                                              120_joostlek_zweckj_jampez77_review   \n",
      "122                                                                                        121_draft_pr_prs_drafteed   \n",
      "123                                                                            122_docs_docstargetbranch_page_linked   \n",
      "124                                                                                      123_merge_merging_merged_pr   \n",
      "125                                                                                   124_rebased_unstale_addressed_   \n",
      "126                                                                125_codeownersfile_codeowner_codeowners_ownership   \n",
      "127                                                                               126_fixed_resolved_corrected_fixes   \n",
      "128                                                   127_discussion_discussions_discussing_discussioncomment7542203   \n",
      "129                                                                             128_epenet_eufy_additional_suggested   \n",
      "130                                                                                  129_idea_ideas_suggestion_agree   \n",
      "131                                                                                    130_pr_review_changes_changed   \n",
      "132                                                                        131_hardwareaddress_addresses_address_mac   \n",
      "133                                                                                132_tilt_tiltable_position_offset   \n",
      "134                                                                                      133_usecase_cases_case_uses   \n",
      "135                                                                                134_kane610_e09b429_wanted_adding   \n",
      "136                                                                              135_checks_checkers_checklist_check   \n",
      "137                                                                                       136_pr_stale_reopen_closed   \n",
      "138                                                          137_humidifierentity_humidifier_humidifiers_humidifying   \n",
      "139                                                                               138_breaking_break_breakage_breaks   \n",
      "140                                                                   139_webhook_webhooks_webhookrelated_addwebhook   \n",
      "141                                                                         140_conflicts_conflict_reconcile_resolve   \n",
      "142                                                                141_json_entriesasjson_stringsjson_jsonobjecttype   \n",
      "143                                                                       142_manifest_manifestjson_version_versions   \n",
      "144                                                                                   143_push_pushing_pushed_pushes   \n",
      "145                                                                                 144_merge_merging_merges_rebased   \n",
      "146                                                                   145_ssl_https_sslcipherlistpython_proxyhaproxy   \n",
      "147                                                                    146_switches_switchsemantics_switch_switchbot   \n",
      "148                                                                                  147_lint_linting_linter_linters   \n",
      "149                                                                                      148_tests_test_failing_fail   \n",
      "150                                                                           149_coderabbitai_review_code_reviewing   \n",
      "151                                                                                  150_merged_merge_merging_review   \n",
      "152                                                                             151_filters_filter_filtering_ternary   \n",
      "153                                                                                     152_sorry_thanks_yep_working   \n",
      "154                                                                  153_edenhaus_isaknyberg_chamberlain2007_address   \n",
      "155                                                                                          154_merge_pr_prs_merged   \n",
      "156                                                                           155_events_eventname_event_hassdatatag   \n",
      "157                                                                             156_rfxtrxwifi_rfxtrxlan_rfxtrx_dsmr   \n",
      "158                                                                                157_retrigger_reopening_ci_reopen   \n",
      "159                                                                    158_ready_engrbm87_muppet3000_congratulations   \n",
      "160                                                                              159_zcl_zonnsmarttv01_zha_zonnsmart   \n",
      "161                                                                       160_constants_constant_deprecated_literals   \n",
      "162                                                                                      161_merged_pr_hotfix_branch   \n",
      "163                                                                               162_rytilahti_merged_merge_pending   \n",
      "\n",
      "                                                                                                                                                                                              Representation  \\\n",
      "0                                                                                                                             [api, entities, entity, core, service, data, testing, draft, config, template]   \n",
      "1                                                                                                    [sensors, sensor, sensorentitydescription, sensorpy, binary, device, data, platforms, merged, entities]   \n",
      "2                                                                                                                   [cla, pull, signed, cyclops1982, review, request, accept, x2fcore, ecoen66, chris280881]   \n",
      "3                                                                                                                           [rebase, branch, rebased, branches, commits, rebasing, dev, commit, merged, git]   \n",
      "4                                                                                                      [assistant, homekit, homeassistant, home, api, auth, documentation, homeassistantio, development, ui]   \n",
      "5                                                                                                   [integration, integrate, integrations, integrated, merged, documentation, update, addon, existing, devs]   \n",
      "6                                                                                                   [devices, device, provisioning, provision, provisioned, entity, firmware, identifier, entities, tracker]   \n",
      "7                                                                                                                         [pr, prs, forward, statis, preliminary, new, follow, title, superseded, addressed]   \n",
      "8                                                                                                                               [brightness, rgb, rgbw, colors, rgbcw, lighting, rgbcct, colour, hue, rgbww]   \n",
      "9                                                                                                                                    [ci, cicd, fixed, fix, rebase, rebased, failed, fixes, restart, passed]   \n",
      "10                                                                                                                              [merge, pr, merging, merged, prs, conflicts, conflict, fix, fixed, approved]   \n",
      "11                                                                                                       [hacs, repository, meross, integrated, src, integration, available, repo, integrations, middleware]   \n",
      "12                                                                                                           [mediaplayer, playback, media, playerplay, airplay, chromecast, playlist, audio, samsungtv, tv]   \n",
      "13                                                                                                                        [screenshot, img, screenshots, image, src, screen, width, alt, 20210827, 20211120]   \n",
      "14                                                                                                         [temperature, thermostat, thermostats, temp, heating, cooling, hvac, climate, fahrenheit, heater]   \n",
      "15                                                                                                                    [beta, release, releases, released, upcoming, milestone, patch, version, feature, tag]   \n",
      "16                                                                                                                [states, state, attribute, attributes, property, properties, attr, entities, entity, null]   \n",
      "17                                                                                                                             [tests, testing, test, testers, passed, updated, need, did, add, requirement]   \n",
      "18                                                                                                                       [merged, merge, merging, merger, pending, missing, reviewed, deal, finally, needed]   \n",
      "19                                                                                       [yaml, configurationyaml, config, configuration, configurations, configflow, changes, servicesyaml, configured, pr]   \n",
      "20                                                                                                                    [energy, consumption, metering, kwh, meter, sensor, solar, electricity, sensors, watt]   \n",
      "21                                                                                                          [camera, cameras, cams, streaming, streams, stream, capture, simplisafeoutdoorcamera, nvr, h265]   \n",
      "22                                                                                                            [config, configure, configuration, optionsflow, flow, pr, prs, flows, coreconfig, reconfigure]   \n",
      "23                                                                                                             [pr, documentation, prs, document, documented, docs, doc, docsmissing, template, information]   \n",
      "24                                                                                                         [datetime, datetimes, nowtimestamp, dates, timestamp, timestamps, timedelta, date, utc, timezone]   \n",
      "25                                                                                                   [bdraco, rbarata, review, pyaussiebb, 20220227t130000z, feedback, reviewing, nbndetails, datagb, optus]   \n",
      "26                                                                                                                            [frenck, fr, fabaff, flake8, revieuw, reminder, cehcks, reolink, lets, bouwew]   \n",
      "27                                                                                                             [review, reviewing, reviews, reviewed, reviewer, waiting, feedback, awaiting, pending, queue]   \n",
      "28                                                                                                              [replaced, merged, merges, successor, duplicate, closing, v68, obsoletes, 96163cause, fixes]   \n",
      "29                                                                    [architecture, architectural, discussions, architectual, design, archictecture, discussion, discussioncomment9835399, arch, discussed]   \n",
      "30                                                                                                          [sorry, mistake, gotcha, whoops, oops, apologies, clarification, meant, correct, clarifications]   \n",
      "31                                        [polling, polls, servicehomeassistantupdate, updates, coordinatedsingleapipollfordataforallentities, coordinatorentity, automation, schedule, entity, coordinator]   \n",
      "32                                                                                                          [versions, dependency, version, dependencies, pr, releases, package, updated, bumped, changelog]   \n",
      "33                                                                                                                                                                                      [, , , , , , , , , ]   \n",
      "34                                                                                  [translations, translating, translated, scripttranslations, translate, translation, localise, lang, languages, language]   \n",
      "35                                                                                                                    [mqtt, esphome, entity, entities, protocol, discovery, messages, sensor, payload, api]   \n",
      "36                                                                                                    [documentation, updates, docs, documentationneeded, update, updated, doc, docstrings, docstring, page]   \n",
      "37                                                                                           [asyncioprotocol, async, asyncmock, asynciowait, asyncioget, entriesasync, selfasync, asyncio, sync, asyncarve]   \n",
      "38                                                                                                               [joostlek, thanks, welcome, jc2k, thank, djelibeybi, ryuzakikk, mirkolenz, happy, jjlawren]   \n",
      "39                                                                       [reauth, reauthenticate, reauthentication, oauth2, oauth, configentryauthfailed, auth, authorization, authentication, authenticate]   \n",
      "40                                                                            [martinhjelmare, martinpham, martin, martinvdm, sfjes, tomaszsluszniak, erwindouna, rohankapoorcom, bramkragten, hesselonline]   \n",
      "41                                                                                                                [coverage, coveragerc, covered, cover, testing, test, untested, uncovered, tests, exclude]   \n",
      "42                                                                                                                       [closing, closed, favor, favour, reopening, reopen, close, reopened, opening, open]   \n",
      "43                                                                                                                 [emontnemery, em06, em16, emjay276, thank, thanks, imicknl, rebased, promised, agreement]   \n",
      "44                                                                     [entity, entities, changingtheentitymodel, entitydescription, entitypickers, entitycategorygrouped, model, pr, architectural, models]   \n",
      "45                                                                                             [notifynotify, notification, notifications, notifyevents, notify, alarm, notifyfrenck, alarms, alerts, alert]   \n",
      "46                                                                                                                                  [check, look, asap, thanks, tomorrow, try, finding, great, working, ask]   \n",
      "47                                                                                                                                                                    [thanks, awesome, great, , , , , , , ]   \n",
      "48                                                                                                                            [fan, fanpy, breeze, fans, purifier, air, purifiers, entity, airversa, speeds]   \n",
      "49                                                                                                                           [code, codes, thecode, c61ccc7, latest, works, working, review, welcomed, okay]   \n",
      "50                                                                                                                [codecov, codecoverage, codecovio, odecov, codecode, code, failing, failed, fail, failure]   \n",
      "51                                                                                                              [draft, drafting, drafteed, drafted, merges, merged, marking, approves, converted, renaming]   \n",
      "52                                                                                                                       [image, img, graphic, expression, beam, 2png, pic, expected, excellent, screenshot]   \n",
      "53                                                                                                                                [pr, prs, reopen, closing, reopened, closed, opening, stale, opened, open]   \n",
      "54   [pullrequestreview707877717, pullrequestreview635980597, pullrequestreview723219009, pullrequestreview1083570432, pullrequestreview922348350, pull, requests, request, requestunlabeled, requestlabe...   \n",
      "55                                                                                            [works, try, tested, issuecomment873970660, working, fixed, issue, refreshes, issuecomment1880215570, appears]   \n",
      "56                                                                                                                                                                                [thanks, , , , , , , , , ]   \n",
      "57                                                                                                [deebot, serviceresponse, returnresponse, responsedata, bot, service, services, apis, responses, commands]   \n",
      "58                                                                                            [zwavejs, zwavejsserverpython, nodezwavejs, zwavejs2mqtt, zwave, zha, websocket, version, node, notifications]   \n",
      "59                                                                                                    [cla, signed, sign, clasigned, approval, claerror, reapproving, simeonsimsoft, contributor, copyright]   \n",
      "60                                                                                                                                                                       [thanks, noted, good, , , , , , , ]   \n",
      "61                                                                                                                      [ping, pinging, pings, pinged, polite, notification, open, friendly, grabs, dala318]   \n",
      "62                                                                                                                    [progress, status, waiting, updates, soon, update, working, planned, starting, follow]   \n",
      "63                                                                                                    [changes, changed, modifications, modification, change, tweaks, revised, updated, customized, request]   \n",
      "64                                                                                                                                         [lifx, l624, l561, l1219, l1183, l1078, l1109, l851, l306, l1298]   \n",
      "65                                                                                                                   [lockopen, locks, lock, dooropen, lockstate, lockonline, locked, lockpy, unlock, latch]   \n",
      "66                                                                                                                          [pr, prs, testing, tests, tested, testcoverage, testable, test, coverage, debug]   \n",
      "67                                                                                   [logging, logginghandlersqueuehandlerprepare, logginggetlogger, logger, logs, loggers, logformat, stdout, logfile, log]   \n",
      "68                                           [pytest, pytestfixture, pytestfixtureautouse, pytests, pytestmarkxfail, pytestparametrize, pytestmarkparameterize, pytestmarkparametrize, devicepy51, mqtthass]   \n",
      "69                                                                                                                        [rebase, rererebase, reflog, fixing, recover, snapshot, undo, fix, changes, needs]   \n",
      "70                                                                                                                       [testing, tests, tested, test, retesting, retest, retested, looks, quality, trying]   \n",
      "71                                                                                                                          [pr, prs, review, reviewed, pending, waiting, ready, proceeding, pleased, begin]   \n",
      "72                                                                                                                          [modbus, modbuspy, plc, pymodbus, rs485, scada, automation, tcp, relay, network]   \n",
      "73                                                                                                                           [platforms, platform, platforms2, pr, prs, merge, merged, changes, shared, new]   \n",
      "74                                                                                                                           [cla, github, commits, x2fcore, pull, review, claerror, need, commit, morph027]   \n",
      "75                                                                                                                 [stale, fresh, reviews, review, reviewed, reviewer, waiting, awaiting, pending, feedback]   \n",
      "76                                                                                                 [optout, discussed, feature, implemented, disapprove, aware, functionality, customization, agree, exempt]   \n",
      "77                                                                                  [sensordeviceclass, units, unitofconcentration, unit, measurement, numberdeviceclass, sensors, sensor, aqi, conversions]   \n",
      "78                                                                                                                        [merged, merge, merging, merges, conflicts, resolved, fixed, conflict, fix, issue]   \n",
      "79                                                                                    [commits, commitsongithubarentlinkingtomyaccount, github, commit, git, pull, signature, contributors, linked, missing]   \n",
      "80                                                                                                                                 [pr, prs, docs, doc, documenation, forthcoming, repo, linked, write, dev]   \n",
      "81                                                                                                              [reviews, review, reviewed, reviewing, thanks, thank, feedback, appreciate, apologies, gave]   \n",
      "82                                                                                                                             [lgtm, swistakm, davet2001, mobile, zigpy, team, small, im, adjusted, lagged]   \n",
      "83                                                                                                  [gjohanssonst, resolved, pjrt, appreciated, tronikos, reviewed, thanks, postlund, dsypniewski, retested]   \n",
      "84                                                                                                         [pydantic, pydanticv1, pylutron, pyspeex, pyhuum, pyatv, pypi, pipdeptree, pyprojecttoml, python]   \n",
      "85                                                                                                               [frontend, frontender, backend, configured, application, merged, build, dev, merge, design]   \n",
      "86                                                                                                                                [ready, requested, thanks, f99eccdf, tnx, getting, ok, consider, mb, team]   \n",
      "87                                                                                                           [websocket, websockets, pythonsocketio, api, async, apis, await, targetservice, connect, websc]   \n",
      "88                                                                                                     [pythonwiffi, python3, python311, python39, pyfreedompro, python, setuppy, pythonipp, pip, developpy]   \n",
      "89                                                                               [commits, commitsongithubarentlinkingtomyaccount, github, commit, git, pull, contributors, signature, x2fgithubcom, linked]   \n",
      "90                                                                                                                  [calendars, calendar, ical, events, event, holidays, holiday, ics, semiannually, caldav]   \n",
      "91                                                                                                                    [bluetooth, bt, ble, devices, bluez, connectable, connecting, device, bdraco, pairing]   \n",
      "92                                                                                                                            [testing, fail, failures, tests, failing, test, failure, failed, mock, mocked]   \n",
      "93                                                                                                                       [thanks, thank, welcome, enjoy, appreciate, appreciated, awsome, happy, sweet, wow]   \n",
      "94                                                                                                                          [merging, merge, retest, testing, tests, merged, test, tested, passed, coverage]   \n",
      "95                                                                                                                               [sure, interested, ill, ok, wanted, suggested, perfect, yes, sounds, great]   \n",
      "96                                                                                                                     [uniqueid, unique, ids, identifier, id, registryentryid, oid, entries, uid, entities]   \n",
      "97                                                                                                               [discord, discordcom, message, chat, joined, send, invitation, notification, contact, join]   \n",
      "98                                                                      [dhcp, dhcppy, ip, discoverableintegrationsthatrequirenoauthentication, autoconfigure, network, ips, networking, config, devicetype]   \n",
      "99                                                                                                               [zhaquirks, quirk, zha, quirks, zg, zhaquirkstuyats0601, zigpy, zlibng, quirck, zigpyespzb]   \n",
      "100                                                                                        [sensorpytest, legacypytest, assertionerror, climatepytest, tests, attributeerror, testfile, py38, test, setuppy]   \n",
      "101                                                                                                                             [mypy, mypyini, errors, failing, failed, error, fails, mypi, failure, check]   \n",
      "102                                                                                                      [addressed, comments, comment, replying, addressing, reply, ignored, provided, feedback, disagreed]   \n",
      "103                                                                                 [component, components, componenthomeassistantissuesconfig, custom, componet, incorporating, mybe, v6, nibeuplink, nice]   \n",
      "104                                                                                      [miio, pythonmiio, pythonmiiov0512, xiaomible, xiaomi, miiogateway, mihome, miflora, miiogatewaygateway, importlib]   \n",
      "105                                                                                                             [icons, icon, iconproperty, iconsjson, template, settings, customui, theme, themes, default]   \n",
      "106                                                                                                                        [testing, devices, device, tests, tested, modems, simulate, test, testers, esp32]   \n",
      "107                                                                       [config, testingyourconfigflow, customrequirementsduringdevelopmenttesting, configuration, tests, tested, test, mock, flow, flows]   \n",
      "108                                                                                                                         [isort, iso, errors, error, issue, black, patch1, reformat, reformatted, failed]   \n",
      "109                                                                                           [docker, container, hadockercontainer, devcontainer, ser2net, worked, try, reinstall, imageprocesingyaml, vms]   \n",
      "110                                                                                                              [merge, merging, conflicts, merged, conflict, unrelated, resolve, happens, rebased, reason]   \n",
      "111                                                                              [templateentities, templateentity, templated, template, templating, triggers, templates, triggerbased, triggering, trigger]   \n",
      "112                                                                                                                       [bdraco, thanks, bdr99, thank, boswelja, appreciate, balloob, thnx, post, awesome]   \n",
      "113                                                              [weatherforecastservice, weatherdata, forecastdata, forecast, forecasts, weatherflow, weatherentity, weather, openweathermap, weatherrack2]   \n",
      "114                                                                                     [aioesphomeapi, aiolivisi, aioambient, aiounifi, aiohomekit, aiolifx, aioairzone, aiorussound, aioswitcher, aiohttp]   \n",
      "115                                                                                                                       [resolved, fixed, issue, fix, issues, problems, problem, restarted, fixes, thanks]   \n",
      "116                                                                                                                           [pr, closing, stale, reopen, reopened, open, close, activity, action, decided]   \n",
      "117                                                                                                                                                  [stale, stalebot, patiently, waiting, doesnt, , , , , ]   \n",
      "118                                                                                                                               [rooms, room, map, maps, floors, areas, ui, floor, attributes, automation]   \n",
      "119                                                                     [pylint, pylintperfileignores, pyliny, pylgnetcast, pychromecasterrorpychromecasterror, pycharm, warnings, errors, updated, warning]   \n",
      "120                                                                                                                                                                         [thnx, thx, thanx, , , , , , , ]   \n",
      "121                                                                                                      [joostlek, zweckj, jampez77, review, jimmydbe, followup, feedback, suggested, recommend, reviewing]   \n",
      "122                                                                                                                     [draft, pr, prs, drafteed, preliminary, marking, queued, discussed, stale, meantime]   \n",
      "123                                                                                                                      [docs, docstargetbranch, page, linked, adding, missing, add, working, added, wrote]   \n",
      "124                                                                                                                         [merge, merging, merged, pr, prs, frontend, backend, approved, approves, status]   \n",
      "125                                                                                                                                                              [rebased, unstale, addressed, , , , , , , ]   \n",
      "126                                                                                                           [codeownersfile, codeowner, codeowners, ownership, owner, thecode, errors, code, issue, fixed]   \n",
      "127                                                                                                                       [fixed, resolved, corrected, fixes, missed, linking, thanks, whoops, looks, makes]   \n",
      "128                                                                            [discussion, discussions, discussing, discussioncomment7542203, conversation, talk, replying, questions, addressed, answered]   \n",
      "129                                                                                                                  [epenet, eufy, additional, suggested, completion, pr, frenck, product, final, required]   \n",
      "130                                                                                                                  [idea, ideas, suggestion, agree, definitely, approach, yeah, thanks, considering, dont]   \n",
      "131                                                                                                                            [pr, review, changes, changed, status, pull, change, updating, ready, marked]   \n",
      "132                                                                                        [hardwareaddress, addresses, address, mac, macs, ip, networkinterface, ethernet, devices, issuecomment2230998428]   \n",
      "133                                                                                                      [tilt, tiltable, position, offset, adjustment, movement, direction, mqtt, implementation, template]   \n",
      "134                                                                                                                                [usecase, cases, case, uses, use, utilize, useful, example, used, design]   \n",
      "135                                                                                                                           [kane610, e09b429, wanted, adding, add, rn, needed, thanks, removed, approved]   \n",
      "136                                                                                                                      [checks, checkers, checklist, check, passed, pass, passing, failing, fail, passess]   \n",
      "137                                                                                                                          [pr, stale, reopen, closed, ongoing, opened, activity, close, decided, changed]   \n",
      "138                                                                           [humidifierentity, humidifier, humidifiers, humidifying, humidifer, humid, dehumidifier, humidity, dehumidifiers, dehumidifer]   \n",
      "139                                                                                                          [breaking, break, breakage, breaks, changes, change, broken, changed, adjustments, introducing]   \n",
      "140                                                                                                       [webhook, webhooks, webhookrelated, addwebhook, setwebhook, http, requests, web, perwebhook, csrf]   \n",
      "141                                                                                                           [conflicts, conflict, reconcile, resolve, fix, problem, fixed, resolved, addressed, differing]   \n",
      "142                                                                              [json, entriesasjson, stringsjson, jsonobjecttype, enjson, serialize, serializable, homeassistantutiljson, tweaks, options]   \n",
      "143                                                                                                   [manifest, manifestjson, version, versions, download, launchjson, installed, update, updating, newest]   \n",
      "144                                                                                                                    [push, pushing, pushed, pushes, force, review, changes, reviewed, forcepush, changed]   \n",
      "145                                                                                                             [merge, merging, merges, rebased, merged, rebase, rebases, conflicts, conflict, refactoring]   \n",
      "146                                                                                                           [ssl, https, sslcipherlistpython, proxyhaproxy, haproxy, cert, proxy, certificate, certs, tls]   \n",
      "147                                                                                             [switches, switchsemantics, switch, switchbot, reversing, toggled, programmable, turned, button, devicetype]   \n",
      "148                                                                                                                              [lint, linting, linter, linters, errors, error, fix, fixing, fixed, issues]   \n",
      "149                                                                                                                                  [tests, test, failing, fail, failed, check, issues, try, fixing, fixed]   \n",
      "150                                                                                                         [coderabbitai, review, code, reviewing, pastucha, uniapi, blebox, looks, bleboxrelated, library]   \n",
      "151                                                                                                           [merged, merge, merging, review, reviewing, reviewer, reviewers, reviews, feedback, finishing]   \n",
      "152                                                                                                            [filters, filter, filtering, ternary, boolean, conditional, bool, intended, generic, specify]   \n",
      "153                                                                                                                          [sorry, thanks, yep, working, yeah, review, occurences, hope, support, thought]   \n",
      "154                                                                                                 [edenhaus, isaknyberg, chamberlain2007, address, suggested, emontnemery, completed, look, unblock, able]   \n",
      "155                                                                                                                             [merge, pr, prs, merged, document, doc, docs, documentation, linked, relink]   \n",
      "156                                                                                             [events, eventname, event, hassdatatag, handler, registry, redundancies, automations, instantiation, impact]   \n",
      "157                                                                                                                [rfxtrxwifi, rfxtrxlan, rfxtrx, dsmr, pyrfxtrx, dsm, dsmrreader, rflink, ds18b20, ds2438]   \n",
      "158                                                                                                                    [retrigger, reopening, ci, reopen, closing, rebasing, reopened, closed, rerun, close]   \n",
      "159                                                                                                                                           [ready, engrbm87, muppet3000, congratulations, time, , , , , ]   \n",
      "160                                                                                                   [zcl, zonnsmarttv01, zha, zonnsmart, zhaquirk, zigpy, zigbee, devices, ts0601trvzs, zhadevicehandlers]   \n",
      "161                                                                        [constants, constant, deprecated, literals, const, constpy, string, strings, 4a01b89868bb692bb2911ca5b9f9939611a5ff2f, undefined]   \n",
      "162                                                                                                                                   [merged, pr, hotfix, branch, release, plex, thx, core, mxwi, upcoming]   \n",
      "163                                                                                                                 [rytilahti, merged, merge, pending, removed, finalized, approve, check, review, related]   \n",
      "\n",
      "                                                                                                                                                                                         Representative_Docs  \n",
      "0    [So, assuming others also think that's the best solution, just having a think about how to implement it. Probably will create an API endpoint that the app can call, which provides the serialised s...  \n",
      "1    [Oh no I mean, you can maybe already start looking at a second platform PR like binary sensor or cover or something like that. We can only add more sensors after this one has been merged, I guess ...  \n",
      "2    [Hi daniele-athome, It seems you haven't yet signed a CLA. Please do so [here]( x2F;core 45196). Once you do that we will be able to review and accept this pull request. Thanks!, Hi will-rice, It ...  \n",
      "3                                                            [Please rebase off of the latest dev branch., Please rebase on dev branch and target that branch instead., Please rebase on latest dev branch.]  \n",
      "4    [How long does it usually take for a pull request like this to be merged into home assistant?, Seems like you are not testing against the development branch of Home Assistant?, I still need to wri...  \n",
      "5                                  [frenck can you move this from [Dev]( to [New Integrations](, We should update the existing integration, not create a new integration., Integration is ready for review.]  \n",
      "6    [Yeah, if we can show it on the device page, that's better. Are there automations that would need the node id? That's the only reason to add it to the attributes I think., Instead of returning the...  \n",
      "7                                                                                                                                  [Please add it to the PR description, PR, before this PR: after this PR:]  \n",
      "8    [eclair4151 When an effect is active, the light is allowed to indicate a color mode which is not included in the supported color modes set: color-mode-when-rendering-effects So in this case, the l...  \n",
      "9                                                                                                          [If you rebase it will run the CI again, This should fix the CI tests:, And please fix the CI :)]  \n",
      "10                                                                                               [I fixed a merge conflict from my pr, Is it possible to review and merge the PR?, how can I merge this PR?]  \n",
      "11   [I'm eagerly waiting for it to be merged, too. I can see if it's possible to create a new repo and add the required files to turn It into a HACS compatible Integration. That way it might be easy t...  \n",
      "12   [I'm missing documentation for this media content type. We should update the main media player user docs page and perhaps also the kodi integration page: service-media playerplay media, Which one ...  \n",
      "13   [img width \"390\" alt \"Screen Shot 2021-08-27 at 2 03 29 PM\" src \"\" img width \"381\" alt \"Screen Shot 2021-08-27 at 2 03 39 PM\" src \"\" img width \"387\" alt \"Screen Shot 2021-08-27 at 2 03 56 PM\" src ...  \n",
      "14   [Update for set temperature., I am very interested in the flow temperature control on Mitsubishi ATW heat pump. My installation is has no internal ambient temperature sensor directly connected to ...  \n",
      "15   [Tag for beta?, Yep. I think I will wait until after the beta cut since I don't want to put more pressure on the beta release today, This is not something that we should put into the beta or patch...  \n",
      "16   [When testing this, I think there might be a race between the current state change events and the single call we do to get all the states. If the call that gets all the states returns after a stat...  \n",
      "17                                                                                                                                            [tests are added now too, tests have been added, Added tests.]  \n",
      "18                                                                                                              [Can we get this one merged please?, Merged in, This should be merged before we merge this.]  \n",
      "19   [For integrations that connect to devices or services, we no longer accept new YAML configuration or changes. This integration needs to be refactored first to use a configuration flow and config e...  \n",
      "20   [I am absolutely new to this 'measurement' thing, but if you mean it seems only kwh based entities are taken into account. Can you try to add the state class to the following entites and try again...  \n",
      "21   [allenporter I realize this whole sync business is probably unnecessary. I think you are right that the wrappers are there just for backwards compatibility. A camera platform only has to implement...  \n",
      "22                                                 [Added the docs PR now so this one can be merged and I will add a config flow next, Here's the config flow PR:, This service is now using a config flow.]  \n",
      "23                                                                                                                                       [Documentation PR:, Here is a documentation PR:, Documentation PR:]  \n",
      "24   [My template example is probably missing the as datetime() function so it returns datetime object., Could is datetime be added?, The pull request is to provide a consistent and regular handling of...  \n",
      "25                                                                                                                                                                           [bdraco?, bdraco Done:, bdraco]  \n",
      "26                                                                                                                                                                [frenck done, frenck, frenck ! Please !!!]  \n",
      "27                                                                                                                                                     [It's waiting for review ..., review, Please review.]  \n",
      "28                                                                                                                                 [replaced by, Replaced by, Closing this one in favor of the merged 99628]  \n",
      "29                                                                                      [What is it that we need an architecture discussion for?, Architecture discussion is here, Architecture discussion:]  \n",
      "30                                                                                                    [Oh and sorry for the wait, Makes sense. Thanks for the through explanation., Oh sorry! You are right]  \n",
      "31   [But how does the polling work currently?, janiversen the should poll() method should be False in our case. It is true by default, which means the platform is polling for Modbus changes. However, ...  \n",
      "32   [Thanks for bumping the dependency! Please update the PR description to contain at least one (or multiple) of the following: A link to the release notes of this package version, and all versions i...  \n",
      "33                                                                                                                                                                                           [, hello?, LOL]  \n",
      "34   [frenck thanks for making me aware of the select translations, had not done that before so was not aware that was needed. May I suggest something is added to the dev docs of the select entity that...  \n",
      "35   [This PR will add an example for this case to the MQTT sensors documentation:, would mqtt be a good example of how to approach this?, We should perhaps align this with the recent change in MQTT wh...  \n",
      "36                                                                                                    [Are there any docs that need to be updated for this?, Docs update at, Do we need to update the docs?]  \n",
      "37   [If I add LOGGER.debug(\"async setup entry complete\") as the last entry in async setup entry, in the log I see So, async setup entry is finishing before player discovery is complete, which I guess ...  \n",
      "38                                                                                                                                                       [Thanks joostlek, Thanks joostlek, Thanks joostlek]  \n",
      "39   [async step reauth needs to be implemented since a new reauth flow will be triggered when raising ConfigEntryAuthFailed reauthentication Please address in a new PR. Thanks!, Done, and fixed reauth...  \n",
      "40                                                                                                            [MartinHjelmare Please see (and, MartinHjelmare next one, please, MartinHjelmare and one more]  \n",
      "41                                                                                                                          [Looks like the coverage is almost there, coverage is good, coverage still good]  \n",
      "42                                                                                                                                           [Closing in favor of, closing in favor of, Closing in favor of]  \n",
      "43                                                                                                                                        [Thanks emontnemery, emontnemery that's done, emontnemery done :)]  \n",
      "44   [This PR is changing our entity model. Before we can review this PR there needs to be approval in a discussion in our architecture repository. changing-the-entity-model, This PR is changing our en...  \n",
      "45   [frenck the reasoning behind this feature is to (greatly) simplify automations. If there was a conditional notify without groups, I would have used that. Just imagine how easy it would be to call ...  \n",
      "46                                                                                                              [Have a look here, Nice I hope to have a look tomorrow, I will take a look at this tomorrow]  \n",
      "47                                                                                                                                                                             [Thanks!, Thanks :), Thanks!]  \n",
      "48   [you need to add a test to test fan.py to test the new fan entity this PR adds., Cheers. So let's start off by restating the state of play. Here we are dealing with an air purifier, and there isn'...  \n",
      "49                                                                        [Please approve the code via a code review :), The current code works as before for me, thanks for that ;), The code is ready now]  \n",
      "50                                                                                                         [codecov failure not related, codecov error not related to this PR, Codecov failure not related:]  \n",
      "51                                                                [Marking as draft until is merged, Converting to a draft for some more discussion, Converting to draft because of issuecomment-1645553909]  \n",
      "52                                                                                                             [![image]( ![image](, ![image]( ![image](, ![image]( ![image]( ![image]( ![image]( ![image](]  \n",
      "53   [Closing this PR as it has been running stale. Feel free to re-open when ready to work in it again., This PR is running stale. Going to close it for now. Feel free to re-open it when you are ready...  \n",
      "54   [ok I understand everything frenck What do I do now? I close the pull request that I have indicated to you and I open one for each one or I can I use the same one for this time? I have 6 other pul...  \n",
      "55                                                                         [I'm just tested and the update works for my part! thank you all, it works?, Tested these changes, everything works as it should]  \n",
      "56                                                                                                                                                                                  [Thanks, Thanks, Thanks]  \n",
      "57   [frenck please take a look at my previous PR: As discussed, instead of creating one event entity for each command response, I rewrote the original code with a generic service. Deebot commands are ...  \n",
      "58   [Marked this as ready for review since it functions with current versions of node-zwave-js. We can wait on a version bump for zwave-js-server-python if you'd like me to incorporate the barrier con...  \n",
      "59                                                                                                                        [CLA has been signed., CLA is now signed., In any case, you need to sign the CLA.]  \n",
      "60                                                                                                                                                                                  [thanks, Thanks, thanks]  \n",
      "61                                                                                                                                                                                       [Ping?, Ping, Ping]  \n",
      "62                                                                                                                      [Still no progress?, Will this progress further and if so when?, Still no progress?]  \n",
      "63                                                                                                                    [There are no changes., Made requested changes., The requested changes have been made]  \n",
      "64   [Hey there bdraco, mind taking a look at this pull request as it has been labeled with an integration ( lifx ) you are listed as a [code owner]( L624) for? Thanks!, Hey there bdraco, mind taking a...  \n",
      "65   [Sorry to hear that, let me explain a bit more in detail. For the testing, don't run tox , it takes too much time. Instead, as explained in the developer documentation it's enough to test only cod...  \n",
      "66   [I added some tests in my PR. See if you can add another for this maybe?, Thanks! I will do some tests, and afterwards move this PR to me ready to review., Just looked at this PR again and realize...  \n",
      "67   [Error in log is much better now:, bdraco Thanks for your input! I see one possible issue with that: in the context of QueueHandler -based logging, the JSON serialization has to take place before ...  \n",
      "68                          [You don't need to run all tests, you can instead do just: pytest tests components mqtt, Unfortunately I'm not sure how to fix the pytest errors., pytest --snapshot-update :-)]  \n",
      "69                                                                                                                                        [We need to rebase too., Rebase?, I can review if we rebase here.]  \n",
      "70                                                                                                                                              [Testing looks good, Testing looks good, Testing looks good]  \n",
      "71                                                                                                        [Can I make this PR ready for review?, Is this PR ready for review ?, The PR is ready for review.]  \n",
      "72   [1 for having MODBus slave capability in Home Assistant. Current implementation in Home Assistant is made for simple setups where only few devices are on the MODBus network and it's OK to have Hom...  \n",
      "73   [Yes! There's no reason to change more than one platform at a time, when adding new platforms. : 1:, Only one platform per PR, Please remove all the platforms except one, for now. The other platfo...  \n",
      "74   [Hi GitHub-Action, It seems you haven't yet signed a CLA. Please do so [here]( x2F;core 48703). Once you do that we will be able to review and accept this pull request. Thanks!, Hi GitHub-Action, ...  \n",
      "75                                                                                                   [Again, not stale. Waiting for review., Not stale. Waiting for review., Not stale. Waiting for review.]  \n",
      "76   [I'm sorry, I disapprove because the reasons I've listed earlier. We should guide the user, in the flow, not make them read docs to figure it out themselves. The other reasons do not beat that for...  \n",
      "77   [There's no problem with using the device class AQI for a VOC measurement that reports in a suitable AQI index. We don't need to match device class name in Home Assistant to a Matter cluster name....  \n",
      "78                                                      [Resolved the merge conflict, thanks for the review, frenck I resolved the merge conflict, could you review merge?, Merge conflict is now resolved.]  \n",
      "79   [Hello Sennevds, When attempting to inspect the commits of your pull request for CLA signature status among all authors we encountered commit(s) which were not linked to a GitHub account, thus not...  \n",
      "80                                                                                                                                                                       [Docs PR, The docs PR is, Docs PR:]  \n",
      "81                                                                                                                                 [Thanks for the review!, Thanks for the review, Thanks for the review :)]  \n",
      "82                                                                                                                                                                                        [LGTM, lgtm, LGTM]  \n",
      "83   [shaiu, quick question, what does Left mean, can we give that a clearer name?, gjohansson-ST I reacted with to all your comments that I think I resolved with [04b2501]( and left responses to the o...  \n",
      "84   [I added back Pydantic. Thank you., Ah, we just encountered another issue. Pydantic. Your lib is using pydantic v2. Which is incompatible with pydantic v1. I am trying to get people to make their ...  \n",
      "85                                                                                                                                                                   [Frontend is done, Frontend, Frontend:]  \n",
      "86                                                                                                                                                           [Mb. Done, Tnx, done that., Ok, done. f99eccdf]  \n",
      "87   [This is already available through the websocket?, kotope I'm getting this error running the service. Seems to be related with getting the right device serial: 2024-07-02 06:42:42.159 ERROR (MainT...  \n",
      "88   [MartinHjelmare I'm still new for Python, so not sure how to resolve all you comments. Are you comments all required to be done in first run or?, Yeah; I haven't been able to run hassfest. My deve...  \n",
      "89   [Hello hboulakhrif, When attempting to inspect the commits of your pull request for CLA signature status among all authors we encountered commit(s) which were not linked to a GitHub account, thus ...  \n",
      "90   [I get your point that it would work more generally. If you want to add new API methods to the Calendar Entity model, then it deserves an architecture discussion. For some reason my intution is th...  \n",
      "91   [Tests are failing, please fix the tests and mark the PR ready for review when done. Maybe the tests are not patching the bluetooth functionality so the tests try to do actual bluetooth access? Th...  \n",
      "92                                                                                                                      [Test failure unrelated, Test failure unrelated, Test failure seems to be unrelated]  \n",
      "93                                                                                                                                                                   [Thank you all, Thank you!, Thank you!]  \n",
      "94                                                                 [will merge when tests pass, Code looks good. Should be good to merge once tests are added, thanks! I think we can merge once tests pass]  \n",
      "95                                                                                                                                                              [Sounds good!, Sounds good., Sounds good :)]  \n",
      "96   [Btw.. if you do this with unique ID. you may have to \"upgrade\" existing entries so they set the unique id., Will this include unique id too?, emontnemery can we pick this up again? I will summari...  \n",
      "97                                                                                                        [Can you maybe send me a message on Discord?, Do you have discord?, Send you a message on discord]  \n",
      "98   [I discussed this PR internally, and we concluded that when you have an advanced network setup (e.g. a device on a dedicated IoT network), you are responsible for ensuring the network is set up co...  \n",
      "99   [I'm not sure if I understand you correctly. Yes, you can download the current ZHA version (the tagged one, not the dev branch) and use it as custom component. Probably you will need to edit all t...  \n",
      "100  [Please also add the init .py to the .coveragerc, I saw that the tests failed with this error: FAILED tests components teslemetry test climate.py::test climate - AssertionError FAILED tests compon...  \n",
      "101                                                                                                                            [should fix the mypy failure, Need help to fix mypy issues:, mypy is failing]  \n",
      "102                                                                                                               [All comments have been addressed, All comments are addressed, all comments are addressed]  \n",
      "103                                                                                [will provide custom component, When it's ready, or just use it now as a custom component, To test as a custom component]  \n",
      "104  [rytilahti could you release a new version of Python-miio so this PR can be merged?, rytilahti could I ask you to release a new version of the python-miio library? I noticed that the library is cu...  \n",
      "105  [Mariusthvdb what is the advantage of \"icon template\" instead of two \"icon on\" \"icon off\" configuration settings?, I don't know if i understand what you mean, the icon translation keys are only ov...  \n",
      "106  [Sorry. Just had a newborn and haven t had much time to take a look at implementing the feedback. Got caught up in the weeks before with nursery automation and networking was bumped down on my pri...  \n",
      "107                                                                               [Tests will be needed for the config flow as well, Tests for the config flow are missing, You need tests for config flow:]  \n",
      "108                                                                        [Please format your code with black and isort., Should be good to go once isort black is run, Can you fix the black isort errors]  \n",
      "109  [I am also interested in testing. I am not really familiar how to test a pull request in my HA-Docker-Container. Any hints?, In case anyone following along has a similar issue, I had to delete my ...  \n",
      "110                                                                                                                        [There's a merge conflict., There's a merge conflict., There's a merge conflict.]  \n",
      "111  [tdejneka This is a different context; templating is supported within automation actions, where the [action's variables get rendered]( to include the trigger data, like in your example. Where mqtt...  \n",
      "112                                                                                                                                                         [Thanks, bdraco, Thanks bdraco, Thanks, bdraco!]  \n",
      "113  [Except for datetime , all attributes of the Forecast class are already optional and, as far as I can tell, the UI only shows the condition , temperature , and templow values. But only 5 of 21 off...  \n",
      "114  [I have my fare share of experience with orjson with a project that is moving a lot of data round (talk million of records). It's indeed really fast and so far I've never ran into compatibility is...  \n",
      "115                                                                                                                           [This should now be resolved., should be all resolved, Should be resolved now]  \n",
      "116  [Because there hasn't been any activity on this PR for quite some time now, I've decided to close it for being stale. Feel free to re-open this PR when you are ready to pick up work on it again .....  \n",
      "117                                                                                                                                                                      [Not stale, Not stale.., Not stale]  \n",
      "118  [I disagree. Map flag: This is how users have to interact with flags in any of the Vacuum: Send Command services. Right now to get this, users have to enable debug logging and then call a command ...  \n",
      "119                                                                                              [pylint is failing on the tests, Should be good to go once the pylint issue is fixed, Fixed a pylint error]  \n",
      "120                                                                                                                                                                                    [Thnx!, Thnx!, Thnx!]  \n",
      "121                                                                                                               [joostlek Can you please review ?, joostlek should I do something from my side?, joostlek]  \n",
      "122                                                      [Yes, sorry, should have been draft. Fix for it is in another PR., Marking this PR draft until is merged., Setting as draft until this PR is ready]  \n",
      "123                                                                                                                                                                               [Added docs, Docs?, Docs:]  \n",
      "124                                                              [Can be merged when frontend PR is approved., Can be merged when the frontend PR is approved., Can be merged, when frontend PR is approved]  \n",
      "125                                                                                                                                                                     [rebased!, Rebased., Rebased due to]  \n",
      "126             [Also you should add yourself to codeowners for this change rules, bdraco I added myself to the codeowners, could you approve?, thecode CODEOWNERS is still failing. How can this be fixed?]  \n",
      "127                                                                                                                                                                       [Fixed!, Fixed, That fixed it :-)]  \n",
      "128                                                                                                                                                        [Started a discussion:, Discussion:, Discussion:]  \n",
      "129                                                                                                      [epenet anything else that's needed here? Thanks!, epenet. What do you need?, epenet Done. Thanks!]  \n",
      "130                                                                                       [Yes, that seems like a good approach to me., Idea looks good, I think. : 1:, Yeah, that sounds like a good idea.]  \n",
      "131  [I've marked this PR, as changes are requested that need to be processed. Please un-draft it once it is ready for review again by clicking the \"Ready for review\" button. Thanks! .. Frenck [ Learn ...  \n",
      "132  [For now, this PR has been reverted. First the core side needs to be fixed to filter out invalid mac addresses (such as the 00:00:00:00:00) case and then we could try it again but I will keep an e...  \n",
      "133  [Can you explain a bit more how this feature is intended to be used? When tilt from position is enabled, tilt is calculated from the cover's position? How is it calculated? It is possible to set t...  \n",
      "134                                                                                                                            [Could you describe the use case for it?, What is your use case ?, Use case?]  \n",
      "135                                                                                                                     [Thank you Kane610 !, Do you think on something like this Kane610 ?, Thanks Kane610]  \n",
      "136                                                                                                                          [All checks now pass, Now I only have 1 failing checks, checks seem to work ok]  \n",
      "137  [Because there hasn't been any activity on this PR for quite some time now, I've decided to close it for being stale. Feel free to re-open this PR when you are ready to pick up work on it again, B...  \n",
      "138  [Accoding to issuecomment-719752004 it seems like I should go the other way and have separate humidifier and de-humidifier entities, and just deal with the complexity of keeping the mode and on of...  \n",
      "139  [Should we add a breaking change label and section?, Ok -- moved the text into the proposed change section and called out the breaking part explicitly in the Breaking Change section., Please add b...  \n",
      "140  [jpbede thanks for your comment. It's given me some good ideas and points to look at. Other than exceptions, unfortunately not, and that doesn't handle the many other issues which can arise from a...  \n",
      "141                                                                                                                           [Please resolve conflicts, Please resolve conflicts, Please resolve conflicts]  \n",
      "142  [Another option would be to keep to json as-is. Add all the new stuff to as json , mark to json as deprecated in the docs but note that we have no plans to remove it which means nobody has to do a...  \n",
      "143  [The manifest is the only place we want the specific version pins. The libraries themselves should specify only a minimum version with optionally a maximum next major version (but we try to avoid ...  \n",
      "144  [Please don't force push once review has started as it means I have to go back and check everything again., Please don't force push after review has started as it makes it much harder to keep trac...  \n",
      "145                                                                                  [Rebased to deal with a merge conflict., Rebased to deal with a merge conflict, Rebased to deal with a merge conflict.]  \n",
      "146  [In the V2 client, this is when ssl ca cert was added: I updated the requirements., Its port 5000 (default, not visible in the UI... because well... we need to improve that ), without SSL. Manuall...  \n",
      "147  [Just a thought - why should one be able to configure number of switches if in certain cases they will never work? I.E. when setting any number of even switches with less then 50 duty cycle, No pr...  \n",
      "148                                                                                                       [Looks good once lint issue is fixed, Please also check and fix the lint errors, Fixed lint error]  \n",
      "149                                                                                                                   [Your tests are failing :), Some tests are failing it seems., Some tests are failing.]  \n",
      "150                                                                                                                                          [coderabbitai review, coderabbitai review, coderabbitai review]  \n",
      "151                                                                                                                                 [Ready for review merge, Ready for review merge, Ready for review merge]  \n",
      "152  [Naming the filter ternary is a little bit illogical as we also accept a None -option, maybe conditional could be an option?, Hi, sorry for not being deeply involved in the discussion, but my feel...  \n",
      "153                                                                                                                [Done, thanks in advance!, Yep, it's working . Done., Done. Hope I found all occurences.]  \n",
      "154                                                                                                                                                            [Thanks edenhaus !, edenhaus, edenhaus: done]  \n",
      "155  [We need a docs PR before merge., Docs PR will be open after is merged, Sebmaster tronikos - I've created a PR to update the docs against the next branch. Hope this helps. I haven't done a Hass do...  \n",
      "156  [I suppose that would also be a viable approach and would achieve the same goal. Is there a particular reason it should be preferred? I don't mind creating a new PR. Edit: For areas, the registry ...  \n",
      "157  [Would it work when using rfxtrx and dsmr integration in parallel on the same serial port?, First question: We have an RFXtrx integration... That seems a better fix than putting rfxtrx stuff into ...  \n",
      "158                                                                                                           [(Close open to retrigger stuck CI), (Close open to retrigger CI), Close open to retrigger CI]  \n",
      "159                                                                                                                                      [engrbm87 Done!, Congratulations! Take your time, muppet3000 Done!]  \n",
      "160  [Only for information IKEA Symfonisk Gen 2 with updated firmware is using the same ZCL commands on one manufacture cluster then Zigbee ZCL have not implanting it in ZCL R8 (latest Zigbee relese) b...  \n",
      "161  [Thanks for the review! I will remove the existing deprecated constants on a separate PR., hello ive set constants as suggested, Yes, they are collected, but not used anywhere. The constants are n...  \n",
      "162  [Hi Jan, thank you for the remarks. I will process them when a core HA maintainer picks up this PR. There is no point in keeping it in sync with if there is no prospect of it getting merged., I'd ...  \n",
      "163                                                          [rytilahti Please could you merge it? related to, rytilahti, others, I think this one's ready for review now., rytilahti could you merge this?]  \n"
     ]
    },
    {
     "data": {
      "application/vnd.plotly.v1+json": {
       "config": {
        "plotlyServerURL": "https://plot.ly"
       },
       "data": [
        {
         "marker": {
          "color": "#D55E00"
         },
         "orientation": "h",
         "type": "bar",
         "x": [
          0.28830844163894653,
          0.5417810678482056,
          0.5630655288696289,
          0.6213072538375854,
          0.6236324906349182
         ],
         "xaxis": "x",
         "y": [
          "binary  ",
          "sensorpy  ",
          "sensorentitydescription  ",
          "sensor  ",
          "sensors  "
         ],
         "yaxis": "y"
        },
        {
         "marker": {
          "color": "#0072B2"
         },
         "orientation": "h",
         "type": "bar",
         "x": [
          0.26454323530197144,
          0.27634111046791077,
          0.29463323950767517,
          0.3260236978530884,
          0.5389556884765625
         ],
         "xaxis": "x2",
         "y": [
          "review  ",
          "cyclops1982  ",
          "signed  ",
          "pull  ",
          "cla  "
         ],
         "yaxis": "y2"
        },
        {
         "marker": {
          "color": "#CC79A7"
         },
         "orientation": "h",
         "type": "bar",
         "x": [
          0.4574190080165863,
          0.4891010820865631,
          0.5171841979026794,
          0.5241416692733765,
          0.5303415060043335
         ],
         "xaxis": "x3",
         "y": [
          "commits  ",
          "branches  ",
          "rebased  ",
          "branch  ",
          "rebase  "
         ],
         "yaxis": "y3"
        },
        {
         "marker": {
          "color": "#E69F00"
         },
         "orientation": "h",
         "type": "bar",
         "x": [
          0.27788347005844116,
          0.32802248001098633,
          0.35135596990585327,
          0.4333851933479309,
          0.4520362615585327
         ],
         "xaxis": "x4",
         "y": [
          "api  ",
          "home  ",
          "homeassistant  ",
          "homekit  ",
          "assistant  "
         ],
         "yaxis": "y4"
        },
        {
         "marker": {
          "color": "#56B4E9"
         },
         "orientation": "h",
         "type": "bar",
         "x": [
          0.27944833040237427,
          0.45928239822387695,
          0.4910688102245331,
          0.5062025785446167,
          0.520265519618988
         ],
         "xaxis": "x5",
         "y": [
          "merged  ",
          "integrated  ",
          "integrations  ",
          "integrate  ",
          "integration  "
         ],
         "yaxis": "y5"
        },
        {
         "marker": {
          "color": "#009E73"
         },
         "orientation": "h",
         "type": "bar",
         "x": [
          0.2530931234359741,
          0.27993667125701904,
          0.2808734178543091,
          0.35493898391723633,
          0.38840755820274353
         ],
         "xaxis": "x6",
         "y": [
          "provisioned  ",
          "provision  ",
          "provisioning  ",
          "device  ",
          "devices  "
         ],
         "yaxis": "y6"
        },
        {
         "marker": {
          "color": "#F0E442"
         },
         "orientation": "h",
         "type": "bar",
         "x": [
          0.35008704662323,
          0.35933947563171387,
          0.37085992097854614,
          0.764333963394165,
          0.9004422426223755
         ],
         "xaxis": "x7",
         "y": [
          "preliminary  ",
          "statis  ",
          "forward  ",
          "prs  ",
          "pr  "
         ],
         "yaxis": "y7"
        },
        {
         "marker": {
          "color": "#D55E00"
         },
         "orientation": "h",
         "type": "bar",
         "x": [
          0.38337811827659607,
          0.39440155029296875,
          0.40689361095428467,
          0.41317400336265564,
          0.5144895911216736
         ],
         "xaxis": "x8",
         "y": [
          "rgbcw  ",
          "colors  ",
          "rgbw  ",
          "rgb  ",
          "brightness  "
         ],
         "yaxis": "y8"
        }
       ],
       "layout": {
        "annotations": [
         {
          "font": {
           "size": 16
          },
          "showarrow": false,
          "text": "Topic 0",
          "x": 0.0875,
          "xanchor": "center",
          "xref": "paper",
          "y": 1,
          "yanchor": "bottom",
          "yref": "paper"
         },
         {
          "font": {
           "size": 16
          },
          "showarrow": false,
          "text": "Topic 1",
          "x": 0.36250000000000004,
          "xanchor": "center",
          "xref": "paper",
          "y": 1,
          "yanchor": "bottom",
          "yref": "paper"
         },
         {
          "font": {
           "size": 16
          },
          "showarrow": false,
          "text": "Topic 2",
          "x": 0.6375000000000001,
          "xanchor": "center",
          "xref": "paper",
          "y": 1,
          "yanchor": "bottom",
          "yref": "paper"
         },
         {
          "font": {
           "size": 16
          },
          "showarrow": false,
          "text": "Topic 3",
          "x": 0.9125,
          "xanchor": "center",
          "xref": "paper",
          "y": 1,
          "yanchor": "bottom",
          "yref": "paper"
         },
         {
          "font": {
           "size": 16
          },
          "showarrow": false,
          "text": "Topic 4",
          "x": 0.0875,
          "xanchor": "center",
          "xref": "paper",
          "y": 0.4,
          "yanchor": "bottom",
          "yref": "paper"
         },
         {
          "font": {
           "size": 16
          },
          "showarrow": false,
          "text": "Topic 5",
          "x": 0.36250000000000004,
          "xanchor": "center",
          "xref": "paper",
          "y": 0.4,
          "yanchor": "bottom",
          "yref": "paper"
         },
         {
          "font": {
           "size": 16
          },
          "showarrow": false,
          "text": "Topic 6",
          "x": 0.6375000000000001,
          "xanchor": "center",
          "xref": "paper",
          "y": 0.4,
          "yanchor": "bottom",
          "yref": "paper"
         },
         {
          "font": {
           "size": 16
          },
          "showarrow": false,
          "text": "Topic 7",
          "x": 0.9125,
          "xanchor": "center",
          "xref": "paper",
          "y": 0.4,
          "yanchor": "bottom",
          "yref": "paper"
         }
        ],
        "height": 500,
        "hoverlabel": {
         "bgcolor": "white",
         "font": {
          "family": "Rockwell",
          "size": 16
         }
        },
        "showlegend": false,
        "template": {
         "data": {
          "bar": [
           {
            "error_x": {
             "color": "#2a3f5f"
            },
            "error_y": {
             "color": "#2a3f5f"
            },
            "marker": {
             "line": {
              "color": "white",
              "width": 0.5
             },
             "pattern": {
              "fillmode": "overlay",
              "size": 10,
              "solidity": 0.2
             }
            },
            "type": "bar"
           }
          ],
          "barpolar": [
           {
            "marker": {
             "line": {
              "color": "white",
              "width": 0.5
             },
             "pattern": {
              "fillmode": "overlay",
              "size": 10,
              "solidity": 0.2
             }
            },
            "type": "barpolar"
           }
          ],
          "carpet": [
           {
            "aaxis": {
             "endlinecolor": "#2a3f5f",
             "gridcolor": "#C8D4E3",
             "linecolor": "#C8D4E3",
             "minorgridcolor": "#C8D4E3",
             "startlinecolor": "#2a3f5f"
            },
            "baxis": {
             "endlinecolor": "#2a3f5f",
             "gridcolor": "#C8D4E3",
             "linecolor": "#C8D4E3",
             "minorgridcolor": "#C8D4E3",
             "startlinecolor": "#2a3f5f"
            },
            "type": "carpet"
           }
          ],
          "choropleth": [
           {
            "colorbar": {
             "outlinewidth": 0,
             "ticks": ""
            },
            "type": "choropleth"
           }
          ],
          "contour": [
           {
            "colorbar": {
             "outlinewidth": 0,
             "ticks": ""
            },
            "colorscale": [
             [
              0,
              "#0d0887"
             ],
             [
              0.1111111111111111,
              "#46039f"
             ],
             [
              0.2222222222222222,
              "#7201a8"
             ],
             [
              0.3333333333333333,
              "#9c179e"
             ],
             [
              0.4444444444444444,
              "#bd3786"
             ],
             [
              0.5555555555555556,
              "#d8576b"
             ],
             [
              0.6666666666666666,
              "#ed7953"
             ],
             [
              0.7777777777777778,
              "#fb9f3a"
             ],
             [
              0.8888888888888888,
              "#fdca26"
             ],
             [
              1,
              "#f0f921"
             ]
            ],
            "type": "contour"
           }
          ],
          "contourcarpet": [
           {
            "colorbar": {
             "outlinewidth": 0,
             "ticks": ""
            },
            "type": "contourcarpet"
           }
          ],
          "heatmap": [
           {
            "colorbar": {
             "outlinewidth": 0,
             "ticks": ""
            },
            "colorscale": [
             [
              0,
              "#0d0887"
             ],
             [
              0.1111111111111111,
              "#46039f"
             ],
             [
              0.2222222222222222,
              "#7201a8"
             ],
             [
              0.3333333333333333,
              "#9c179e"
             ],
             [
              0.4444444444444444,
              "#bd3786"
             ],
             [
              0.5555555555555556,
              "#d8576b"
             ],
             [
              0.6666666666666666,
              "#ed7953"
             ],
             [
              0.7777777777777778,
              "#fb9f3a"
             ],
             [
              0.8888888888888888,
              "#fdca26"
             ],
             [
              1,
              "#f0f921"
             ]
            ],
            "type": "heatmap"
           }
          ],
          "histogram": [
           {
            "marker": {
             "pattern": {
              "fillmode": "overlay",
              "size": 10,
              "solidity": 0.2
             }
            },
            "type": "histogram"
           }
          ],
          "histogram2d": [
           {
            "colorbar": {
             "outlinewidth": 0,
             "ticks": ""
            },
            "colorscale": [
             [
              0,
              "#0d0887"
             ],
             [
              0.1111111111111111,
              "#46039f"
             ],
             [
              0.2222222222222222,
              "#7201a8"
             ],
             [
              0.3333333333333333,
              "#9c179e"
             ],
             [
              0.4444444444444444,
              "#bd3786"
             ],
             [
              0.5555555555555556,
              "#d8576b"
             ],
             [
              0.6666666666666666,
              "#ed7953"
             ],
             [
              0.7777777777777778,
              "#fb9f3a"
             ],
             [
              0.8888888888888888,
              "#fdca26"
             ],
             [
              1,
              "#f0f921"
             ]
            ],
            "type": "histogram2d"
           }
          ],
          "histogram2dcontour": [
           {
            "colorbar": {
             "outlinewidth": 0,
             "ticks": ""
            },
            "colorscale": [
             [
              0,
              "#0d0887"
             ],
             [
              0.1111111111111111,
              "#46039f"
             ],
             [
              0.2222222222222222,
              "#7201a8"
             ],
             [
              0.3333333333333333,
              "#9c179e"
             ],
             [
              0.4444444444444444,
              "#bd3786"
             ],
             [
              0.5555555555555556,
              "#d8576b"
             ],
             [
              0.6666666666666666,
              "#ed7953"
             ],
             [
              0.7777777777777778,
              "#fb9f3a"
             ],
             [
              0.8888888888888888,
              "#fdca26"
             ],
             [
              1,
              "#f0f921"
             ]
            ],
            "type": "histogram2dcontour"
           }
          ],
          "mesh3d": [
           {
            "colorbar": {
             "outlinewidth": 0,
             "ticks": ""
            },
            "type": "mesh3d"
           }
          ],
          "parcoords": [
           {
            "line": {
             "colorbar": {
              "outlinewidth": 0,
              "ticks": ""
             }
            },
            "type": "parcoords"
           }
          ],
          "pie": [
           {
            "automargin": true,
            "type": "pie"
           }
          ],
          "scatter": [
           {
            "fillpattern": {
             "fillmode": "overlay",
             "size": 10,
             "solidity": 0.2
            },
            "type": "scatter"
           }
          ],
          "scatter3d": [
           {
            "line": {
             "colorbar": {
              "outlinewidth": 0,
              "ticks": ""
             }
            },
            "marker": {
             "colorbar": {
              "outlinewidth": 0,
              "ticks": ""
             }
            },
            "type": "scatter3d"
           }
          ],
          "scattercarpet": [
           {
            "marker": {
             "colorbar": {
              "outlinewidth": 0,
              "ticks": ""
             }
            },
            "type": "scattercarpet"
           }
          ],
          "scattergeo": [
           {
            "marker": {
             "colorbar": {
              "outlinewidth": 0,
              "ticks": ""
             }
            },
            "type": "scattergeo"
           }
          ],
          "scattergl": [
           {
            "marker": {
             "colorbar": {
              "outlinewidth": 0,
              "ticks": ""
             }
            },
            "type": "scattergl"
           }
          ],
          "scattermap": [
           {
            "marker": {
             "colorbar": {
              "outlinewidth": 0,
              "ticks": ""
             }
            },
            "type": "scattermap"
           }
          ],
          "scattermapbox": [
           {
            "marker": {
             "colorbar": {
              "outlinewidth": 0,
              "ticks": ""
             }
            },
            "type": "scattermapbox"
           }
          ],
          "scatterpolar": [
           {
            "marker": {
             "colorbar": {
              "outlinewidth": 0,
              "ticks": ""
             }
            },
            "type": "scatterpolar"
           }
          ],
          "scatterpolargl": [
           {
            "marker": {
             "colorbar": {
              "outlinewidth": 0,
              "ticks": ""
             }
            },
            "type": "scatterpolargl"
           }
          ],
          "scatterternary": [
           {
            "marker": {
             "colorbar": {
              "outlinewidth": 0,
              "ticks": ""
             }
            },
            "type": "scatterternary"
           }
          ],
          "surface": [
           {
            "colorbar": {
             "outlinewidth": 0,
             "ticks": ""
            },
            "colorscale": [
             [
              0,
              "#0d0887"
             ],
             [
              0.1111111111111111,
              "#46039f"
             ],
             [
              0.2222222222222222,
              "#7201a8"
             ],
             [
              0.3333333333333333,
              "#9c179e"
             ],
             [
              0.4444444444444444,
              "#bd3786"
             ],
             [
              0.5555555555555556,
              "#d8576b"
             ],
             [
              0.6666666666666666,
              "#ed7953"
             ],
             [
              0.7777777777777778,
              "#fb9f3a"
             ],
             [
              0.8888888888888888,
              "#fdca26"
             ],
             [
              1,
              "#f0f921"
             ]
            ],
            "type": "surface"
           }
          ],
          "table": [
           {
            "cells": {
             "fill": {
              "color": "#EBF0F8"
             },
             "line": {
              "color": "white"
             }
            },
            "header": {
             "fill": {
              "color": "#C8D4E3"
             },
             "line": {
              "color": "white"
             }
            },
            "type": "table"
           }
          ]
         },
         "layout": {
          "annotationdefaults": {
           "arrowcolor": "#2a3f5f",
           "arrowhead": 0,
           "arrowwidth": 1
          },
          "autotypenumbers": "strict",
          "coloraxis": {
           "colorbar": {
            "outlinewidth": 0,
            "ticks": ""
           }
          },
          "colorscale": {
           "diverging": [
            [
             0,
             "#8e0152"
            ],
            [
             0.1,
             "#c51b7d"
            ],
            [
             0.2,
             "#de77ae"
            ],
            [
             0.3,
             "#f1b6da"
            ],
            [
             0.4,
             "#fde0ef"
            ],
            [
             0.5,
             "#f7f7f7"
            ],
            [
             0.6,
             "#e6f5d0"
            ],
            [
             0.7,
             "#b8e186"
            ],
            [
             0.8,
             "#7fbc41"
            ],
            [
             0.9,
             "#4d9221"
            ],
            [
             1,
             "#276419"
            ]
           ],
           "sequential": [
            [
             0,
             "#0d0887"
            ],
            [
             0.1111111111111111,
             "#46039f"
            ],
            [
             0.2222222222222222,
             "#7201a8"
            ],
            [
             0.3333333333333333,
             "#9c179e"
            ],
            [
             0.4444444444444444,
             "#bd3786"
            ],
            [
             0.5555555555555556,
             "#d8576b"
            ],
            [
             0.6666666666666666,
             "#ed7953"
            ],
            [
             0.7777777777777778,
             "#fb9f3a"
            ],
            [
             0.8888888888888888,
             "#fdca26"
            ],
            [
             1,
             "#f0f921"
            ]
           ],
           "sequentialminus": [
            [
             0,
             "#0d0887"
            ],
            [
             0.1111111111111111,
             "#46039f"
            ],
            [
             0.2222222222222222,
             "#7201a8"
            ],
            [
             0.3333333333333333,
             "#9c179e"
            ],
            [
             0.4444444444444444,
             "#bd3786"
            ],
            [
             0.5555555555555556,
             "#d8576b"
            ],
            [
             0.6666666666666666,
             "#ed7953"
            ],
            [
             0.7777777777777778,
             "#fb9f3a"
            ],
            [
             0.8888888888888888,
             "#fdca26"
            ],
            [
             1,
             "#f0f921"
            ]
           ]
          },
          "colorway": [
           "#636efa",
           "#EF553B",
           "#00cc96",
           "#ab63fa",
           "#FFA15A",
           "#19d3f3",
           "#FF6692",
           "#B6E880",
           "#FF97FF",
           "#FECB52"
          ],
          "font": {
           "color": "#2a3f5f"
          },
          "geo": {
           "bgcolor": "white",
           "lakecolor": "white",
           "landcolor": "white",
           "showlakes": true,
           "showland": true,
           "subunitcolor": "#C8D4E3"
          },
          "hoverlabel": {
           "align": "left"
          },
          "hovermode": "closest",
          "mapbox": {
           "style": "light"
          },
          "paper_bgcolor": "white",
          "plot_bgcolor": "white",
          "polar": {
           "angularaxis": {
            "gridcolor": "#EBF0F8",
            "linecolor": "#EBF0F8",
            "ticks": ""
           },
           "bgcolor": "white",
           "radialaxis": {
            "gridcolor": "#EBF0F8",
            "linecolor": "#EBF0F8",
            "ticks": ""
           }
          },
          "scene": {
           "xaxis": {
            "backgroundcolor": "white",
            "gridcolor": "#DFE8F3",
            "gridwidth": 2,
            "linecolor": "#EBF0F8",
            "showbackground": true,
            "ticks": "",
            "zerolinecolor": "#EBF0F8"
           },
           "yaxis": {
            "backgroundcolor": "white",
            "gridcolor": "#DFE8F3",
            "gridwidth": 2,
            "linecolor": "#EBF0F8",
            "showbackground": true,
            "ticks": "",
            "zerolinecolor": "#EBF0F8"
           },
           "zaxis": {
            "backgroundcolor": "white",
            "gridcolor": "#DFE8F3",
            "gridwidth": 2,
            "linecolor": "#EBF0F8",
            "showbackground": true,
            "ticks": "",
            "zerolinecolor": "#EBF0F8"
           }
          },
          "shapedefaults": {
           "line": {
            "color": "#2a3f5f"
           }
          },
          "ternary": {
           "aaxis": {
            "gridcolor": "#DFE8F3",
            "linecolor": "#A2B1C6",
            "ticks": ""
           },
           "baxis": {
            "gridcolor": "#DFE8F3",
            "linecolor": "#A2B1C6",
            "ticks": ""
           },
           "bgcolor": "white",
           "caxis": {
            "gridcolor": "#DFE8F3",
            "linecolor": "#A2B1C6",
            "ticks": ""
           }
          },
          "title": {
           "x": 0.05
          },
          "xaxis": {
           "automargin": true,
           "gridcolor": "#EBF0F8",
           "linecolor": "#EBF0F8",
           "ticks": "",
           "title": {
            "standoff": 15
           },
           "zerolinecolor": "#EBF0F8",
           "zerolinewidth": 2
          },
          "yaxis": {
           "automargin": true,
           "gridcolor": "#EBF0F8",
           "linecolor": "#EBF0F8",
           "ticks": "",
           "title": {
            "standoff": 15
           },
           "zerolinecolor": "#EBF0F8",
           "zerolinewidth": 2
          }
         }
        },
        "title": {
         "font": {
          "color": "Black",
          "size": 22
         },
         "text": "Topic Word Scores",
         "x": 0.5,
         "xanchor": "center",
         "yanchor": "top"
        },
        "width": 1000,
        "xaxis": {
         "anchor": "y",
         "domain": [
          0,
          0.175
         ],
         "showgrid": true
        },
        "xaxis2": {
         "anchor": "y2",
         "domain": [
          0.275,
          0.45
         ],
         "showgrid": true
        },
        "xaxis3": {
         "anchor": "y3",
         "domain": [
          0.55,
          0.7250000000000001
         ],
         "showgrid": true
        },
        "xaxis4": {
         "anchor": "y4",
         "domain": [
          0.825,
          1
         ],
         "showgrid": true
        },
        "xaxis5": {
         "anchor": "y5",
         "domain": [
          0,
          0.175
         ],
         "showgrid": true
        },
        "xaxis6": {
         "anchor": "y6",
         "domain": [
          0.275,
          0.45
         ],
         "showgrid": true
        },
        "xaxis7": {
         "anchor": "y7",
         "domain": [
          0.55,
          0.7250000000000001
         ],
         "showgrid": true
        },
        "xaxis8": {
         "anchor": "y8",
         "domain": [
          0.825,
          1
         ],
         "showgrid": true
        },
        "yaxis": {
         "anchor": "x",
         "domain": [
          0.6000000000000001,
          1
         ],
         "showgrid": true
        },
        "yaxis2": {
         "anchor": "x2",
         "domain": [
          0.6000000000000001,
          1
         ],
         "showgrid": true
        },
        "yaxis3": {
         "anchor": "x3",
         "domain": [
          0.6000000000000001,
          1
         ],
         "showgrid": true
        },
        "yaxis4": {
         "anchor": "x4",
         "domain": [
          0.6000000000000001,
          1
         ],
         "showgrid": true
        },
        "yaxis5": {
         "anchor": "x5",
         "domain": [
          0,
          0.4
         ],
         "showgrid": true
        },
        "yaxis6": {
         "anchor": "x6",
         "domain": [
          0,
          0.4
         ],
         "showgrid": true
        },
        "yaxis7": {
         "anchor": "x7",
         "domain": [
          0,
          0.4
         ],
         "showgrid": true
        },
        "yaxis8": {
         "anchor": "x8",
         "domain": [
          0,
          0.4
         ],
         "showgrid": true
        }
       }
      }
     },
     "metadata": {},
     "output_type": "display_data"
    }
   ],
   "source": [
    "print(topic_model.get_topic_info())\n",
    "# print(topic_model.generate_topic_labels(nr_words=1))\n",
    "\n",
    "topic_model.visualize_barchart()"
   ]
  },
  {
   "cell_type": "markdown",
   "metadata": {},
   "source": [
    "## Topic Hierarchy"
   ]
  },
  {
   "cell_type": "code",
   "execution_count": null,
   "metadata": {},
   "outputs": [],
   "source": [
    "# https://maartengr.github.io/BERTopic/getting_started/hierarchicaltopics/hierarchicaltopics.html\n",
    "\n",
    "# topic_model.visualize_hierarchy(hierarchical_topics=hierarchical_topics)\n",
    "print(topic_model.get_topic_tree(hierarchical_topics))\n"
   ]
  },
  {
   "cell_type": "code",
   "execution_count": 9,
   "metadata": {},
   "outputs": [
    {
     "name": "stdout",
     "output_type": "stream",
     "text": [
      "['Oh no I mean, you can maybe already start looking at a second platform PR like binary sensor or cover or something like that. We can only add more sensors after this one has been merged', 'I guess I can add the new port sensors to the existing sensors section... sensors', 'Converted 2 state sensors to binary sensors']\n",
      "       topic  \\\n",
      "70         0   \n",
      "158        0   \n",
      "182        0   \n",
      "197        0   \n",
      "198        0   \n",
      "202        0   \n",
      "313        0   \n",
      "328        0   \n",
      "354        0   \n",
      "355        0   \n",
      "357        0   \n",
      "362        0   \n",
      "364        0   \n",
      "402        0   \n",
      "424        0   \n",
      "444        0   \n",
      "456        0   \n",
      "472        0   \n",
      "473        0   \n",
      "482        0   \n",
      "483        0   \n",
      "488        0   \n",
      "492        0   \n",
      "494        0   \n",
      "506        0   \n",
      "507        0   \n",
      "536        0   \n",
      "537        0   \n",
      "538        0   \n",
      "541        0   \n",
      "656        0   \n",
      "661        0   \n",
      "669        0   \n",
      "700        0   \n",
      "739        0   \n",
      "740        0   \n",
      "741        0   \n",
      "911        0   \n",
      "924        0   \n",
      "1010       0   \n",
      "1053       0   \n",
      "1109       0   \n",
      "1155       0   \n",
      "1179       0   \n",
      "1207       0   \n",
      "1229       0   \n",
      "1266       0   \n",
      "1324       0   \n",
      "1339       0   \n",
      "1344       0   \n",
      "1372       0   \n",
      "1547       0   \n",
      "1580       0   \n",
      "1581       0   \n",
      "1582       0   \n",
      "1583       0   \n",
      "1627       0   \n",
      "1628       0   \n",
      "1639       0   \n",
      "1659       0   \n",
      "1674       0   \n",
      "1769       0   \n",
      "1829       0   \n",
      "1830       0   \n",
      "1832       0   \n",
      "1836       0   \n",
      "1902       0   \n",
      "1961       0   \n",
      "1963       0   \n",
      "1973       0   \n",
      "1974       0   \n",
      "2037       0   \n",
      "2058       0   \n",
      "2087       0   \n",
      "2089       0   \n",
      "2092       0   \n",
      "2201       0   \n",
      "2316       0   \n",
      "2406       0   \n",
      "2684       0   \n",
      "2690       0   \n",
      "2768       0   \n",
      "2831       0   \n",
      "2840       0   \n",
      "2857       0   \n",
      "2940       0   \n",
      "2958       0   \n",
      "2984       0   \n",
      "3164       0   \n",
      "3174       0   \n",
      "3179       0   \n",
      "3182       0   \n",
      "3183       0   \n",
      "3232       0   \n",
      "3233       0   \n",
      "3235       0   \n",
      "3294       0   \n",
      "3299       0   \n",
      "3381       0   \n",
      "3711       0   \n",
      "3712       0   \n",
      "3714       0   \n",
      "3805       0   \n",
      "3815       0   \n",
      "3843       0   \n",
      "3857       0   \n",
      "3918       0   \n",
      "4119       0   \n",
      "4123       0   \n",
      "4125       0   \n",
      "4128       0   \n",
      "4131       0   \n",
      "4141       0   \n",
      "4142       0   \n",
      "4195       0   \n",
      "4197       0   \n",
      "4218       0   \n",
      "4274       0   \n",
      "4286       0   \n",
      "4290       0   \n",
      "4382       0   \n",
      "4387       0   \n",
      "4409       0   \n",
      "4426       0   \n",
      "4431       0   \n",
      "4521       0   \n",
      "4558       0   \n",
      "4569       0   \n",
      "4599       0   \n",
      "4601       0   \n",
      "4603       0   \n",
      "4604       0   \n",
      "4607       0   \n",
      "4619       0   \n",
      "4626       0   \n",
      "4636       0   \n",
      "4693       0   \n",
      "4698       0   \n",
      "4699       0   \n",
      "4835       0   \n",
      "4850       0   \n",
      "5041       0   \n",
      "5131       0   \n",
      "5173       0   \n",
      "5175       0   \n",
      "5181       0   \n",
      "5301       0   \n",
      "5302       0   \n",
      "5304       0   \n",
      "5320       0   \n",
      "5372       0   \n",
      "5376       0   \n",
      "5391       0   \n",
      "5438       0   \n",
      "5448       0   \n",
      "5473       0   \n",
      "5626       0   \n",
      "5656       0   \n",
      "5659       0   \n",
      "5661       0   \n",
      "5677       0   \n",
      "5678       0   \n",
      "5681       0   \n",
      "5698       0   \n",
      "5777       0   \n",
      "5829       0   \n",
      "5902       0   \n",
      "5976       0   \n",
      "6048       0   \n",
      "6054       0   \n",
      "6146       0   \n",
      "6172       0   \n",
      "6184       0   \n",
      "6186       0   \n",
      "6262       0   \n",
      "6264       0   \n",
      "6301       0   \n",
      "6340       0   \n",
      "6376       0   \n",
      "6457       0   \n",
      "6540       0   \n",
      "6546       0   \n",
      "6570       0   \n",
      "6624       0   \n",
      "6637       0   \n",
      "6746       0   \n",
      "6750       0   \n",
      "6769       0   \n",
      "6771       0   \n",
      "6797       0   \n",
      "6799       0   \n",
      "6871       0   \n",
      "6875       0   \n",
      "6878       0   \n",
      "6918       0   \n",
      "6963       0   \n",
      "6964       0   \n",
      "6965       0   \n",
      "7060       0   \n",
      "7061       0   \n",
      "7062       0   \n",
      "7066       0   \n",
      "7127       0   \n",
      "7136       0   \n",
      "7142       0   \n",
      "7163       0   \n",
      "7361       0   \n",
      "7497       0   \n",
      "7512       0   \n",
      "7514       0   \n",
      "7583       0   \n",
      "7584       0   \n",
      "7635       0   \n",
      "7637       0   \n",
      "7935       0   \n",
      "7939       0   \n",
      "8045       0   \n",
      "8096       0   \n",
      "8257       0   \n",
      "8260       0   \n",
      "8266       0   \n",
      "8273       0   \n",
      "8312       0   \n",
      "8313       0   \n",
      "8371       0   \n",
      "8372       0   \n",
      "8390       0   \n",
      "8768       0   \n",
      "8904       0   \n",
      "8984       0   \n",
      "8994       0   \n",
      "9132       0   \n",
      "9139       0   \n",
      "9152       0   \n",
      "9238       0   \n",
      "9320       0   \n",
      "9359       0   \n",
      "9363       0   \n",
      "9551       0   \n",
      "9553       0   \n",
      "9568       0   \n",
      "9585       0   \n",
      "9586       0   \n",
      "9753       0   \n",
      "9940       0   \n",
      "9943       0   \n",
      "9954       0   \n",
      "9978       0   \n",
      "9988       0   \n",
      "9993       0   \n",
      "10002      0   \n",
      "10100      0   \n",
      "10133      0   \n",
      "10152      0   \n",
      "10226      0   \n",
      "10255      0   \n",
      "10293      0   \n",
      "10294      0   \n",
      "10296      0   \n",
      "10298      0   \n",
      "10493      0   \n",
      "10499      0   \n",
      "10520      0   \n",
      "10529      0   \n",
      "10546      0   \n",
      "10645      0   \n",
      "10671      0   \n",
      "10758      0   \n",
      "10792      0   \n",
      "10870      0   \n",
      "10876      0   \n",
      "10900      0   \n",
      "10927      0   \n",
      "10930      0   \n",
      "10931      0   \n",
      "10950      0   \n",
      "11031      0   \n",
      "11055      0   \n",
      "11154      0   \n",
      "11202      0   \n",
      "11207      0   \n",
      "11214      0   \n",
      "11235      0   \n",
      "11237      0   \n",
      "11269      0   \n",
      "11313      0   \n",
      "11404      0   \n",
      "11407      0   \n",
      "11452      0   \n",
      "11624      0   \n",
      "11876      0   \n",
      "11944      0   \n",
      "11945      0   \n",
      "11946      0   \n",
      "11981      0   \n",
      "11989      0   \n",
      "12076      0   \n",
      "12216      0   \n",
      "12242      0   \n",
      "12275      0   \n",
      "12354      0   \n",
      "12358      0   \n",
      "12390      0   \n",
      "12510      0   \n",
      "12628      0   \n",
      "12629      0   \n",
      "12675      0   \n",
      "12678      0   \n",
      "12680      0   \n",
      "12745      0   \n",
      "12753      0   \n",
      "12762      0   \n",
      "12859      0   \n",
      "12860      0   \n",
      "12867      0   \n",
      "12978      0   \n",
      "13037      0   \n",
      "13040      0   \n",
      "13121      0   \n",
      "13123      0   \n",
      "13124      0   \n",
      "13182      0   \n",
      "13185      0   \n",
      "13189      0   \n",
      "13192      0   \n",
      "13193      0   \n",
      "13245      0   \n",
      "13247      0   \n",
      "13248      0   \n",
      "13390      0   \n",
      "13405      0   \n",
      "13417      0   \n",
      "13465      0   \n",
      "13648      0   \n",
      "13653      0   \n",
      "13664      0   \n",
      "13684      0   \n",
      "13892      0   \n",
      "13971      0   \n",
      "13996      0   \n",
      "13997      0   \n",
      "14041      0   \n",
      "14167      0   \n",
      "14168      0   \n",
      "14295      0   \n",
      "14333      0   \n",
      "14341      0   \n",
      "14342      0   \n",
      "14343      0   \n",
      "14381      0   \n",
      "14403      0   \n",
      "14588      0   \n",
      "14708      0   \n",
      "14709      0   \n",
      "14770      0   \n",
      "14919      0   \n",
      "14996      0   \n",
      "14997      0   \n",
      "14999      0   \n",
      "15000      0   \n",
      "15001      0   \n",
      "15002      0   \n",
      "15003      0   \n",
      "15004      0   \n",
      "15021      0   \n",
      "15022      0   \n",
      "15091      0   \n",
      "15093      0   \n",
      "15094      0   \n",
      "15129      0   \n",
      "15133      0   \n",
      "15137      0   \n",
      "15218      0   \n",
      "15219      0   \n",
      "15287      0   \n",
      "15289      0   \n",
      "15509      0   \n",
      "15524      0   \n",
      "15526      0   \n",
      "15539      0   \n",
      "15544      0   \n",
      "15552      0   \n",
      "15558      0   \n",
      "15580      0   \n",
      "15669      0   \n",
      "15672      0   \n",
      "15711      0   \n",
      "15783      0   \n",
      "15869      0   \n",
      "15870      0   \n",
      "15895      0   \n",
      "15916      0   \n",
      "16005      0   \n",
      "16006      0   \n",
      "16076      0   \n",
      "16097      0   \n",
      "16101      0   \n",
      "16102      0   \n",
      "16103      0   \n",
      "16164      0   \n",
      "16165      0   \n",
      "16168      0   \n",
      "16169      0   \n",
      "16423      0   \n",
      "16430      0   \n",
      "16431      0   \n",
      "16525      0   \n",
      "16549      0   \n",
      "16553      0   \n",
      "16554      0   \n",
      "16577      0   \n",
      "16595      0   \n",
      "16654      0   \n",
      "16870      0   \n",
      "17113      0   \n",
      "17116      0   \n",
      "17219      0   \n",
      "17220      0   \n",
      "17227      0   \n",
      "17264      0   \n",
      "17265      0   \n",
      "17293      0   \n",
      "17348      0   \n",
      "17361      0   \n",
      "17380      0   \n",
      "17381      0   \n",
      "17397      0   \n",
      "17447      0   \n",
      "17453      0   \n",
      "17469      0   \n",
      "17487      0   \n",
      "17491      0   \n",
      "17520      0   \n",
      "17521      0   \n",
      "17556      0   \n",
      "17611      0   \n",
      "17654      0   \n",
      "17674      0   \n",
      "17773      0   \n",
      "17790      0   \n",
      "17956      0   \n",
      "17990      0   \n",
      "18004      0   \n",
      "18024      0   \n",
      "18027      0   \n",
      "18081      0   \n",
      "18097      0   \n",
      "18130      0   \n",
      "18155      0   \n",
      "18214      0   \n",
      "18238      0   \n",
      "18239      0   \n",
      "18294      0   \n",
      "18295      0   \n",
      "18297      0   \n",
      "18318      0   \n",
      "18458      0   \n",
      "18460      0   \n",
      "18462      0   \n",
      "18463      0   \n",
      "18532      0   \n",
      "18533      0   \n",
      "18582      0   \n",
      "18742      0   \n",
      "18893      0   \n",
      "18894      0   \n",
      "18900      0   \n",
      "19044      0   \n",
      "19050      0   \n",
      "19165      0   \n",
      "19168      0   \n",
      "19172      0   \n",
      "19184      0   \n",
      "19206      0   \n",
      "19209      0   \n",
      "19210      0   \n",
      "19211      0   \n",
      "19250      0   \n",
      "19273      0   \n",
      "19281      0   \n",
      "19284      0   \n",
      "19286      0   \n",
      "19360      0   \n",
      "19366      0   \n",
      "19422      0   \n",
      "19554      0   \n",
      "19561      0   \n",
      "19639      0   \n",
      "19667      0   \n",
      "19797      0   \n",
      "19884      0   \n",
      "19932      0   \n",
      "19996      0   \n",
      "20000      0   \n",
      "20165      0   \n",
      "20203      0   \n",
      "20225      0   \n",
      "20259      0   \n",
      "20497      0   \n",
      "20566      0   \n",
      "20627      0   \n",
      "20765      0   \n",
      "20775      0   \n",
      "20850      0   \n",
      "20861      0   \n",
      "20899      0   \n",
      "20967      0   \n",
      "20968      0   \n",
      "21061      0   \n",
      "21077      0   \n",
      "21169      0   \n",
      "21251      0   \n",
      "21469      0   \n",
      "21470      0   \n",
      "21472      0   \n",
      "21556      0   \n",
      "21558      0   \n",
      "21698      0   \n",
      "21815      0   \n",
      "21818      0   \n",
      "21919      0   \n",
      "21930      0   \n",
      "21945      0   \n",
      "21946      0   \n",
      "21951      0   \n",
      "21953      0   \n",
      "21957      0   \n",
      "21959      0   \n",
      "21962      0   \n",
      "21963      0   \n",
      "22017      0   \n",
      "22066      0   \n",
      "22147      0   \n",
      "22199      0   \n",
      "22201      0   \n",
      "22256      0   \n",
      "22337      0   \n",
      "22342      0   \n",
      "22577      0   \n",
      "22591      0   \n",
      "22808      0   \n",
      "22997      0   \n",
      "23166      0   \n",
      "23167      0   \n",
      "23287      0   \n",
      "\n",
      "                                                                                                                                                                                                      document  \n",
      "70                                                                                                                      For completeness also add the sensors to icons.json and then it is good to go barryvdh  \n",
      "158    The three entries for Departure is there as the first version of the Integration did it like this. If more data is needed, a service can be used to get up to 15 entries with the additional info pe...  \n",
      "182                                                                                                                        I'm talking about the percentage values. I like adding the sensors you're proposing  \n",
      "197    We discussed this pull request in the core architectural meeting and decided against adding this feature for the reasons documented in that sensor PR here: In case of the binary sensor, we would b...  \n",
      "198    Very nice, thanks, I was just about to put this on my maybe-todo-soon-list about 30m ago when I saw your PR, so that's awesome! Seems to mostly work in my quick tests, except that when removing th...  \n",
      "202                              Not identical, but similar is 126807 for the use-case of availability in a binary sensor, which currently has no way of being in a \"not sure what stayed it really is\" state.  \n",
      "313                                                                                                  As this PR is not going to be a deprecation of the common door binary sensor, should we update de labels?  \n",
      "328    Updated to remove all the init stuff. It just creates sensors for now. Will create a service as discussed in a separate PR Right now it creates two sensors 1) currently loaded profile 2) devices a...  \n",
      "354                                                                                                                This is the second sensor PR which needs to be rebased after the first sensor PR is merged.  \n",
      "355                                                                                                                                                             This is the second PR for the sensor platform.  \n",
      "357                                                                                                                                                          Is there anything to do more for sensor platform?  \n",
      "362    sdb9696 I would like to add tests, but I don't understand where the fixture are coming from. For instance, where is sensor.downstairs volume defined so that I can turn that into a number? FYI: I h...  \n",
      "364                                                                                Also we can't just delete the sensors, they need to be deprecated. If you look these other sensors you should see how. L190  \n",
      "402                                                                                                                              'one touch filter' has been moved from sensor to binary sensor as you guided.  \n",
      "424                                                                                           no, the majority of sensors are still polled. Events are mainly only available for settings changes and updates.  \n",
      "444                                                                        Sorry, I missed that we didn't add any tests. Please make a new PR and add a test for this. See existing sensor tests for examples.  \n",
      "456                                                       Correct, after making the change of some of the entities to binary sernsor , I didn't think I needed it. I might be wrong though, I'll double check.  \n",
      "472    This could potentially be a lot of new sensors. I'd recommend setting class attribute attr entity registry enabled default to False for these. Users that have a specific need could enable them ind...  \n",
      "473    Pushed a change 1) Test coverage for tmdb tvdb 2) Disabled by default 3) added docs PR Please review and let me know, this works in production for me after enabling the sensors as expected and all...  \n",
      "482    I think rajlaud was happy to revert parts of his PR round my tests, so I could integrate with his framework post, so we could do this one first but lets check rajlaud is happy. It gets all the sen...  \n",
      "483                                                                                                                                                                      Let's do the tests after the sensors.  \n",
      "488    Sorry - should have been more explicit - the sensors are not shown because they're unavailable - like they haven't been initialised yet. As I said, I only saw it when I rebooted when the integrati...  \n",
      "492    pssc FYI, since Michael is getting ready to release 9.0.0 soon, I just tried the sensors against a 9 server and they all works fine. No reasons it shouldn't of course, but thought it was worth che...  \n",
      "494                                                                                          Yes, would love to have you as a codeowner pssc, and as the expert on all things related to the sensor platforms.  \n",
      "506      I don't think this is what we want. Most of the hidden ones are hidden on purpose because they are translated to binary sensors: ![grafik]( Some binary sensors show up under diagnostics: ![grafik](  \n",
      "507    I think we can solve this by putting things in the correct order: Discovery of binary platform before sensor platform. And then prevent one property to be used both as binary sensor and regular se...  \n",
      "536                                                                                                                     As I understand, this PR will be merged. And I need to make a second sensor PR. Right?  \n",
      "537                  Oh no I mean, you can maybe already start looking at a second platform PR like binary sensor or cover or something like that. We can only add more sensors after this one has been merged  \n",
      "538                                                                                                                                    Binary sensor is already merged. Please tell me what I have to do more?  \n",
      "541                                                                                                                                I think we can use something like this to make some of them a binary sensor  \n",
      "656    You can still poll the data with the coordinator so you have it available but instead of adding it all to attributes of the sensors let's make an action call so the user can retrieve that informat...  \n",
      "661    Also as I mentioned before, if you have all of them in separate sensors, you then need to give each sensor a unique identifier so that a dashboard may use them. This is much more cumbersome than i...  \n",
      "669    I don't want them to be individual sensors. Also that is a lot of sensors, 48 forecast sensors and 48 actual sensors you mean? Also as mentioned before, they wouldn't be syncing with the primary s...  \n",
      "700                                                                   There is a binary sensor for the same function. I think this should be deprecated in another PR. L42-L45 Otherwise it looks good for me.  \n",
      "739                                        Yes, ok, I did just because I implemented this for CPU sensors. I removed from this PR and I will create a new one with this change after that this will be merged.  \n",
      "740                                                                     Oh, it seems like someone already added a conductivity icon with \"mdi:sprout-outline\" to both sensor and number. This is fine with me.  \n",
      "741    Please note that you will also have to bump the bthome-ble requirement to at least 3.10.0 (but preferably to 3.11.0), to include support for conductivity. You can bump it to v3.11.0, as all other ...  \n",
      "911    We should stop adding custom atributes for Eve until they fix their reporting. I have already seen the first out of memory issues due to too many custom attributes being polled on their devices. I...  \n",
      "924    Although it's not best practice, I'll just comment it here instead of creating an issue (as there is no nightly build yet). I tested it on my Home Assistant instance as a custom component and noti...  \n",
      "1010                                               Awesome! In almost all cases it's now preferred to create separate sensors, I will at one point in time create sensors from the current attributes as well.  \n",
      "1053   barryvdh let's stick with the sensor for now. After some discussion with joostlek and MartinHjelmare we concluded we generally do want read-only attributes of things like switches, lights, valves ...  \n",
      "1109   Each sensor type gets its own snapshot. Sent from my iPhoneOn Aug 25, 2024, at 8:45 PM, Allen Porter . wrote: allenporter commented on this pull request. Looks good. Did this add additional snapsh...  \n",
      "1155                                                                                                                               Indeed it does its just that those appear after the server service sensors.  \n",
      "1179   There are no changes required to the docs, which were updated when the binary sensors were added. The additional sensors that have been added in this PR were added to the documents with the binary...  \n",
      "1207                                                    Without the sensors it looked a very odd integration, with no entities visible in the UI but ok. I'll close this and come back with new separate PR's.  \n",
      "1229                                                                                                                                                               Converted 2 state sensors to binary sensors  \n",
      "1266                                                                                                                   This can easily be achieved through a template sensor... see no need to add as a filter  \n",
      "1324                                                            Thanks joostlek, I assume that I need to create separate PRs for each platform, am I correct? BTW, I reused this one for the sensors platform.  \n",
      "1339   Three questions: 1. Do we need a sensor for all three coordinators? I'm not sure how to combine it if we just want one. 2. I'm not happy with the name of the sensors, but that's what I settled wit...  \n",
      "1344                                                                      We should update the testing machinery for the sensors to utilize the syrupy snapshots, but let's not make this PR more complicated.  \n",
      "1372                                                                                Updated sensors to use enums and other classes, consolidate tests into snapshot, updated the docs PR to reference this one  \n",
      "1547   I have moved some of the sensors to the diagnostics category, namely: - DC Input Voltage - Last Movement Time - Max Tip Temperature - Power Level - Power Source - Raw Tip Voltage - Tip resistance ...  \n",
      "1580           The sensor represents the extrapolated volume of water at 40 C. Right now my 150-liter water heater at 64.6 C out of 65 C maximum displays 288 liters of 40 C water, which seems to make sense.  \n",
      "1581                                                                    I am sorry, I couldn't find any other sensor to be tested in tests components overkiz , so I did not cover this sensor with any tests.  \n",
      "1582                                                                                                                                            Then where is it tested this new sensor is added correctly? :)  \n",
      "1583                                                                                                                                   I can only provide you with a screenshot of a working sensor. ![image](  \n",
      "1627   Yes I would definitely like to help out. I would like to be involved in HA development more so this is a good first step. I can ping you on discord I pushed some updates 1. Moved queues and tasks ...  \n",
      "1628   1. Removed extra attributes (will make PR to add sensors, binary sensors after this) 2. used common string references 3. removed duplicate unload logic 4. moved task and related logic to coordinat...  \n",
      "1639   summary of changes 1. Use mac for unique id, abort config flow if already added 2. Use mac in unique IDs for entities 3. Add proper device which ties together controls and sensors (sensors not inc...  \n",
      "1659                                                                                              i left the sensor disabled by default, should i leave it like that? if so, how do i enable it just in tests?  \n",
      "1674                                                             dknowles2 would you mind taking a look and checking whether this works for you. I want to make sure it works if you don't have a flow sensor.  \n",
      "1769                                                                                                                                       madpilot I've updated the PR to put actual price into a new sensor.  \n",
      "1829                                                    This should not need a configuration option. If we have a STATE CLASS TOTAL INCREASING for the source sensor. We can assume to ignore negative values.  \n",
      "1830                                                                          What i mean is the derivative sensor should check the state class of the sensor, to know if it should ignore the negative value.  \n",
      "1832                                                      Well that sensor just looks weird. It resets to something strange. Just looks wrong. It should be corrected to some total sensor that reset to zero.  \n",
      "1836   I figured that I could add this to the customize.yaml file, and it works --- I updated the PR now so that it now reads if the sensor is total increasing instead of configuring it manually. The PR ...  \n",
      "1902   Thanks for the review zweckj, I have now addressed all your suggestions. Along with various other minor clean ups improvements and added some additional test coverage for integration init and sens...  \n",
      "1961                                                                 Yep. Yes, this can be. But as you can see in my screenshot maybe this should be a dropdown selection. Sorry. My bad. ![Broadlink sensor](  \n",
      "1963                                                                            I don't think it is a good idea to store two types of sensors in the same variable. We could add a new sensor entity for this.  \n",
      "1973                                                                  Statistics is basically the only reason why i created this integration, i'd rather remove the sensor entities as these are quite useless  \n",
      "1974                                                                                                                                            Ok, condensed it down to only sensors and the user config flow  \n",
      "2037   When the sensor wants to cache the sampled data and send multiple readings in bursts saving power on radio initialization. I understand that a large number of sensors for home automation require s...  \n",
      "2058                                                                     Handling disabled sensors in the tests seems to require quite a bit of refactoring, so for now I just enabled the sensors by default.  \n",
      "2087                                                                  What is the intention or use case for these sensors? Maybe a combination of a [event]( and an [event entity]( can fullfill the use-case?  \n",
      "2089   i'm not familiar with the former custom component, nor these new ecovacs devices ( still own a quiet old and \"stupid\" deebot slim ) But i would guess, that the tracking on the map was not done by ...  \n",
      "2092   Sensors removed, event entity added. There's one problem left: getPos command is called only at device init and if you want to update the position you have to call the command yourself. Do I need ...  \n",
      "2201                                                                                                     Please keep your first PR to only contain 1 platform, so please move the binary sensor to a follow up  \n",
      "2316   So if you start with WAN and decide on just one latency source you can hard code it all. So I have a few alternate paths forward, they are not concrete but only notions yet. 1 Change a bit more ho...  \n",
      "2406                                                                                    Installed this to test on my installation, works great! Able to detect when my puppy wants to go outside now ![image](  \n",
      "2684                          thecode I reverted sensor const changes and used simple string units, while there are no other options. Library version has also been bumped to 2.3.3 to fix missing name errors  \n",
      "2690                                                      Hi, I guess the description wasn t clear enough, this does not only group binary sensors, but also sensors, media players, timer and input booleans.  \n",
      "2768                                                                                  Would it still make sense to maybe have one sensor class specific for the build so you can reduce abstractions in there?  \n",
      "2831           sebmalissard have you tested this change. Which entities will show up after this change? If I am not mistaken, there won't be any advantages yet since these sensors haven't been added, right?  \n",
      "2840                                                                                                                              Looking forward to the update, got that device to monitor our water reserve.  \n",
      "2857   mawoka-myblock my best guess is that due to the [HA documentation]( 5-make-your-pull-request-as-small-as-possible) saying Limit to a single platform you are not allowed to change the platforms swi...  \n",
      "2940   Hey rokam, thank you for your feedback and concern. I completely understand the importance of security and the need to mitigate any potential risks. They could definitely be implemented as advance...  \n",
      "2958                                                                                                                                        Done. Preparing separate PRs for binary sensors, number and sensor  \n",
      "2984                                                                     Thanks for the implementation CFenner. Why is the pull request not reviewed. Only waiting for the implementation of the room sensors.  \n",
      "3164                                                                                                                       Support for illuminance sensor has been already added in 118837 so we can close it.  \n",
      "3174                         joostlek - ok, I can keep just the sensor platform for now as anyway is the default one. The options flow does not seem to be giving errors but ok, I will aso remove it for now,  \n",
      "3179   We can do this now or when adding additional platforms - with the current version only supporting Sensors other derived classes from TTNBaseValue are ignored. I would preffer doing it now so not w...  \n",
      "3182                   I think you overshot a bit, I think you can set the TTNBaseValue as type in the entity.py, and then add ttn value: TTNSensorValue in the sensor.py to overwrite the type to be a sensor  \n",
      "3183   This would make mypy happy but I am worried about the case where at runtime a TTNValue changes its type. Ideally this problem would be detected in handle coordinator update (an disable remove the ...  \n",
      "3232   I had a problem sensor in the previous custom integration. This was a mixture between a sensor showing an error, and also showing, why the mower is not mowing. The motivation was to show the user,...  \n",
      "3233                                              I'm not entirely sure what you mean but feel free to expand this PR as it's the same context e.g. problem sensors. For the current this PR seems good to go.  \n",
      "3235   oh and one more thing: While (afaik) only tests for the config flow are a hard requirement, we always suggest to also test your platforms. For sensors this can be done really easily in a couple of...  \n",
      "3294   emontnemery Thanks for taking the time to get this further along! I did split out co co2 threshold and update documentation. I did not figure out how to differentiate the sensor entity based on th...  \n",
      "3299   How can I group these sensor entities with their corresponding receiver entities? Otherwise, in case someone is using multiple zones or multiple receivers, it would be hard to identify which senso...  \n",
      "3381   I understand what you mean but I think the refactoring of the current implementation and the addition of new sensors features coordinator etc. should be done separately started by the refactoring....  \n",
      "3711   These code changes have no effect on other components, so it will not fix issues with the derivative sensor. That being said, this approach might work for similar issues with other sensors as well...  \n",
      "3712                          dgomes I guess you are the code owner of both the integration and derivative sensors. It's it feasible for you to implement the same option for the derivative sensors Best Eric  \n",
      "3714   There's a PR for the Derivative sensor already. So it's not a feature request, but a request to apply the same solution. As you are not the owner (my bad guess) I will lookup the PR and refer to t...  \n",
      "3805                                                                           astrandb just a side note, I'm planning adding system notifications as binary sensor also, but will await this PR to be merged.  \n",
      "3815   As discussed with joostlek, I have remove (almost) all changes regarding sensor enums for two reasons: - Ongoing discussions on translations enum options - (more importantly) previous changes woul...  \n",
      "3843                                                                                Nope, that repo has platforms that haven't been merged into core. Im still waiting for the sensor platform to be approved.  \n",
      "3857                                                                           which has the nice density and lifetime sensor, the Ikea purifier is missing... thanks Jc2k for the super fast PR, appreciated!  \n",
      "3918                                                                                                                                               Would it make sense to make this a separate sensor instead?  \n",
      "4119                                       The documentation that was merged only talks about the binary sensory that was added a few weeks ago ( I see nothing about the new sensors being added in this PR (  \n",
      "4123                                                         Correct, but the point is not to add a Select Entity as is not how the Projector works :) Projector are: - Sensor (read only) - Remote (write) :)  \n",
      "4125   Another way to think about this is that things like: - power state (warming, cooling, etc) - lamp time - color space - etc are all read only and make sense as Sensors. The input (hdmi1, hdmi2) is ...  \n",
      "4128                                                                                                                        A select entity would be a separate PR. So this PR should not include that sensor.  \n",
      "4131                                                                                                                           Sure, it seems like the sensors I removed in an earlier PR were still included.  \n",
      "4141   I do not know why is that. I've simply added the platform PLATFORMS [Platform.BINARY SENSOR, Platform.REMOTE, Platform.SENSOR] and the previous line was PLATFORMS [Platform.BINARY SENSOR, Platform...  \n",
      "4142   I marked this as \"New feature\" but I'm not sure it's the right option for this one. The goal is to remove this sensor before the initial release of the TechnoVE integration so that it won't need t...  \n",
      "4195                                                                                           Hi tkdrob, thanks for the speedy review. Do you want me to add a sensor for the existing total consumption too?  \n",
      "4197                                                        I'm closing this since the comment from January 22nd is still not addressed. spmiller please open a new PR which adds the power consumption sensor  \n",
      "4218   First of all thank you for your review! I'm alittle confused from your comments, so if you can help me understand better I'll do my best to comply. I cannot understand the request to split, the PR...  \n",
      "4274                                                                    I'm fine with deprecating it, if there's a way to get the plant sensor card to accept multiple sensors (instead of requiring a plant).  \n",
      "4286   Hey Bre77, I've been attempting to test this with diffs against the current version (2024.1.5). I'm sure I've done something wrong, but the name of the sensor is coming out as \"sensor.vehiclename ...  \n",
      "4290   First of all: Thanks! for the contribution! One missing sensor would be the AirQuality sensor but we can add that in a follow-up PR as a text sensor with multiple predefined options. Does your har...  \n",
      "4382   Ah, not sure if polling is required for your device though. At least the summation delivered sensor should have been showing without the changes. But did that not update? EDIT: Nvm, the tierX sens...  \n",
      "4387                                                    Should we mark this as a breaking change as someone may already be using the old sensor in their automations? Or has the sensor not yet been released?  \n",
      "4409                                                                                  relaytheurgency any chance we could add the Vital200S to the changes here? It should also exist in the 3 updated arrays.  \n",
      "4426                                                                                Just realized you can't split this without getting a KeyError for the missing battery sensor so it needs to go in together  \n",
      "4431                                                                               New commit simplify registering new sensors, now you select the device and the port and every sensor on it gets registered.  \n",
      "4521                                                                Thanks for your contribution thomaskistler This PR essentially makes the sensor group a template sensor, this is not wanted functionality.  \n",
      "4558   Hi joostlek, it isn't even ready for review yet :) I'll adapt it to include only a single platform. Can you comment on the error status sensor already (as mentioned in the additional info section)...  \n",
      "4569   Yeah it's like this from dev tools first row of the CSV is the count of sensors i think (25) next - a number (usually 7 or 5 or 3 or 15) - a unique number - a name - another number (3 or 2) - a cl...  \n",
      "4599   This PR will only contain the seven sensors I specified to keep this PR as small as possible. Disk, network etc. will follow then. (and others for which I have to further analyse all the functions...  \n",
      "4601                                                                     I guess that would be a good idea as you plan to add more sensors. Depending on the system Webmin is running on, that could be a lot.  \n",
      "4603                                                                                            Thanks for PR but attributes should play less of a role moving forward. Please add as separate sensors instead  \n",
      "4604   creating separate sensors for each of the current attributes (along with any new ones) doesn't really make much sense to me. Already using the existing ap mac attribute to get general room presenc...  \n",
      "4607   thanks, sounds good. i guess realistically it would only be breaking out into 3 additional sensors (ap mac, rssi, signal) as those are the attributes I'd expect to frequently change as clients are...  \n",
      "4619                                                                            You will probably need to add documentation to talk of the new sensors as well ... but I like where you are going with this PR  \n",
      "4626   zlymeda yes it is a magic constant. Well since this is a new feature PR a docs update is required (see the failing checks of this PR). I would simply add a section \"Switch entities\" to the docs si...  \n",
      "4636   I really like the new model! Now it does make sense to use an extended sensor entity description and set a custom native value fn . This way you're not tightly coupled with the key. I'll review th...  \n",
      "4693   No problems that I have seen. On my own dev it takes 40ms to refresh data for 80 sensors so I would say the overhead should not create problems. With that said we should still remove the overhead ...  \n",
      "4698                                                                                                                                         Yes, I'm debugging where I went wrong as I lost my process-sensor  \n",
      "4699                                                                                                                     90 decrease in executor run time with the above sensors so performance issue is fixed  \n",
      "4835   joostlek You're right, I dropped a commit somewhere. I did generate them now, but they look wrong: a few sensors don't have the GPU part of the entity ID it seems. Converting this back to draft un...  \n",
      "4850                                         Nice ! The Disk I O sensors got merged this morning, I hope the network sensors will also get approved which will make a nice improvement to Glances for 2024.5 !  \n",
      "5041   As far as your Pr goes - that is actually handled in this PR: 104345 where I add an options flow. It may not have all of the map options you want. But they should be added on top of that options f...  \n",
      "5131   bieniu make sure not to expose private URLs, the link was to a private repo. As for the energy sensor I think we can wait two weeks and if it is not resolved root cause identified merge this PR be...  \n",
      "5173   Import was good. I'm having trouble adding removing sensors though. - Its not clear what should be entered on this screen or what the options are img width \"385\" alt \"Screenshot 2023-12-23 at 8 59...  \n",
      "5175                                                     For the process sensors it may be more intuitive to have as the option flow a SelectSelector where the processes to monitor can be added and removed.  \n",
      "5181   I changed the adding removing of the sensors to be a simple multi-select instead which probably makes more sense and also simplifies the flow. Has been tested thoroughly so I'm merging once CI is ...  \n",
      "5301                                                                                                             dalinicus nice! Any possibility you can grab the motion as a binary sensor as well??? Pwwease  \n",
      "5302   Yup! Have it mostly coded but requires the addition of the binary sensor platform which is new to this integration. As soon as this one is approved and merged, I'll add that in a second pull reque...  \n",
      "5304   emontnemery and joostlek, figured I'd check in with y'all since its been a month. Any additional feedback on this change? I'd be looking to make additional changes to add motion sensor support onc...  \n",
      "5320                                                                                            ![afbeelding]( If psi : -1 is a value that should be unknown, you should assign None as a state to the sensor.  \n",
      "5372   My initial idea was to generated the sensors based on the available programs. But I didn't manage to built this into the existing code without duplicating a lot of the function to have them handle...  \n",
      "5376   Just noticed that ECO program has a getter but no setter. So the entity is created due to is supported but leads to an issue when changing it. Will try to avoid this and create the entity as a sen...  \n",
      "5391                                                                                                       Oh and when I reviewed the code for a final time, I saw more docstrings that were mentioning sensor  \n",
      "5438                                     I've re-added the import now. I've for now deleted the test for the binary sensor. Will add this with an other PR to not blow up this PR. Will update the docs. later  \n",
      "5448     I created a new ping binary sensor in the UI, and it was immediately unavailable. The IP I picked it the local IP of the ha install img width \"1101\" alt \"Screenshot 2023-11-15 at 9 13 25 AM\" src \"\"  \n",
      "5473   I didn't see this rule in the official recommended style. In fact, if you do a global search for the key word : Final in the core repository, you'll see that most of the results are within const.p...  \n",
      "5626   It seems that the tests really did not like the .get() method for some reason... I have modified the code to pass the tests. It is a little more verbose now, but I think I retained all the safety ...  \n",
      "5656   A protection window indicates that sunscreen should be used, but depending on one's [Fitzpatrick Scale]( classification, one can safely be in the sun for a certain number of minutes, un-sunscreene...  \n",
      "5659                                                            Should we not then instead have a protection sensor for each skin type? I'm not sure it makes sense to ever have the protection sensor if not.  \n",
      "5661   We certainly could, but that's not what the protection window sensor is meant for. It's meant to determine when the current UV window is within a certain bound, which could be useful for multiple ...  \n",
      "5677   Not sure why you mentioned that, I can only test with my device, as mentioned in docs is the only tested device at this moment, there is no public documentation about the different devices, firmwa...  \n",
      "5678                Oh just out of curiosity, maybe not every ecoforest model supports every sensor. If that was the case, we could not create the entity at all. But if that isn't the case we can do this PR  \n",
      "5681                                                              I am not at the laptop, release changes are here. Short story added functionality to support this additional sensors and dependency updates.  \n",
      "5698   Thanks, this looks amazing. I think with this we could implement user-defined sensors for birthdays and yahrzeits, something I've been wanting to do for a long time. Please add a PR with documenta...  \n",
      "5777   belangp Looking great! Few more minor naming comments, then I'll approve. Other notes: You'll need to create a documentation PR [here ]( that describes the new sensor. Notice how the merging is re...  \n",
      "5829                                                                These changes should be for the binary sensor, not the sensor ! The binary sensor delivers true false whereas the sensor delivers a value.  \n",
      "5902                                                                      Everything used to be sensor.integration so anything that is now integration.sensor (config entries and top level keys are reversed)  \n",
      "5976   The most recent release (2023.11) is showing the Protection Window sensor as Unknown following the update. Wondering if this might fix that? Let me know if you want me to raise a full ticket for t...  \n",
      "6048   The main purpose of the proximity integration is, that the user can simply figure out if someone is within a zone and maybe how far away from the zone. Therefore the current proximity entity provi...  \n",
      "6054   to avoid the need of complex unique-id migration methods, both sensor platform ( 101497) as also the config flow ( 103894) for Proximity should be delivered together. so we should postpone both PR...  \n",
      "6146   There's something weird going on with the entity naming that I'm not well versed enough in to properly understand at the moment. My understanding was that entities were strictly named by their key...  \n",
      "6172   I was thinking that it's not required, because the lookup is done in the contsructor, which is not async anyway. But you're right, I'm using the constructor in an async function context. I'll try ...  \n",
      "6184                          One problem I am facing is that a random binary sensor doesn't have any options to update, thus the binary sensor options form is empty. What would be a good approach for this?  \n",
      "6186            allenporter like the stuff you set up initially is device class and name, and both are updatable from the entity registry. So for the binary sensors there is no real use for an options flow.  \n",
      "6262   1. Oh, I misunderstood you then. No, there's no extra calls. The same number of calls, just with more attributes. 2. Probably. I'd have to test it - the fields are location dependent. It's late su...  \n",
      "6264   I did some more testing and removed sensors which were perpetually in a state of unknown . However, this raises the question of what to do with already existing sensors, which share the same fate....  \n",
      "6301                                                                                                                                                                                 new home sensor ![image](  \n",
      "6340   Yes, I'd have objections, as there are already sensors that represent data that would be included in that new sensor. That sensor would be an aggregate of different api values. We shouldn't calcul...  \n",
      "6376                                                                                               Thomas55555 just a question, this integration will be missing the calendar and all the other sensors right?  \n",
      "6457   Thanks for your work on this! Based on how the code is written, it will only map components into switches and sensors (incl. binary). We should assume that a component can be mapped into any entit...  \n",
      "6540   Hmm, I'm now thinking about it and how would you feel if we split up this PR in some smaller PRs to make it easier to digest. 1. Are the tests only for the new code or also for the old code? I wou...  \n",
      "6546   Hey guys. Sorry for the long delay on this. I finally had some time to sit down and re-familiarize myself with these changes. Since joostlek 's changes were substantial, I went ahead and wrote the...  \n",
      "6570                                                                                                Dropped sensor, as new integration. Rebased on new bluetooth-data-tools and dropped code that moved there.  \n",
      "6624                                                                                                                                         Nevermind this comment. I misread the change. It is a new sensor.  \n",
      "6637   BTW, I just realized that if we have these status sensors, we may not need to show them in the device info card. They are collapsed by default anyway and the node status should be visible. Let me ...  \n",
      "6746   I will have a look, did not notice the other one till you mentioned it. Do note that my PR is already taking care to not break things, only if you go into the config and change it to daily hourly ...  \n",
      "6750   Thanks but I still donot see how this is reflected in the sensor. The screenshot only shows the daily value although it states to contain all three. How would the card know the difference? from th...  \n",
      "6769                                                                           Looks good You can't control the ptz from HA so this should actually be something else than just a sensor displaying the value?  \n",
      "6771                                                                                                                             This should not have been merged. These sensors are moving windows. .. Frenck  \n",
      "6797   Hi joostlek, Thanks for the quick reply! Sure, I can gladly try to add tests for the devices I have at home. And I will gladly take you up on the offer of support. I will then raise a pull request...  \n",
      "6799                                               Indeed, I had a look and actually, we just need to check for the new sensor type and we can keep the rest as it is. So an even smaller change in the end :)  \n",
      "6871        I ran the tests locally before making any of my own changes and I see two issues: 1) four tests are failing; 2) it shows 100 coverage even with my new sensors. Do I still need to add more tests?  \n",
      "6875   I hope the thumbs up means you'll accept the PR after I add the additional tests. Please confirm. I verified all the tests work fine on the dev branch but fail simply after adding the code to supp...  \n",
      "6878                                                                                                               Spent a moment on the tests - I think you want something like this: - indoor-sensors branch  \n",
      "6918                                                                                                                    The user has confirmed that the new sensor is working properly issuecomment-1669114856  \n",
      "6963                                                                                                                 Are they for the new sensor(s) then add them here. For other things do it in separate PR.  \n",
      "6964                                 unfortunately they cover both existing sensor entities (excludes select at the moment) and this PR. I'm looking at how to split them apart but coverage wouldn't be good.  \n",
      "6965   Then for the existing (per platform if different) make PR's for existing setting this PR in draft. Once those has merged we can come back and do this one. You can ping me in the one you're making ...  \n",
      "7060   In theory it should be static, but there's no guarantee that EPA won't change the station that is chosen to report for a given location. It is metadata about the sensor reading, so I think it make...  \n",
      "7061   Don't think there is something written up on it. I think it makes more sense to have it as a sensor instead of adding it as attributes on three sensors. That sensor could have lat lon as attribute...  \n",
      "7062   It would be helpful to have stronger guidance since I think in this case anyway it's completely subjective. In either case, I moved it to a reporting station sensor w lat long attributes; should b...  \n",
      "7066   I haven't found something that'd just give something like \"send allowed features\". But perhaps during setup it could make a call that basically asks for everything, and automatically skips all sen...  \n",
      "7127                                                  Tested and it works correctly, just small note to prevent issues from others seeing this PR, minimum version to support frequency sensors is 1.0.0-beta6  \n",
      "7136   I am busting to get these power sensors working for MyStrom plugs (gen1 with power reading only and gen2 with power and temp readings). I am currently leaving my HA install on v2023.6.3 so I can s...  \n",
      "7142   MadMonkey87 Ciao! Is there any way you can find the time to complete the docs etc to get these really valuable sensors pushed to be merged? I can imagine that you are very busy but some of us will...  \n",
      "7163                                         Only thing I don't like is Since those properties can't be tested, since if self.user data is None , the call will never get made since the sensor is unavailable  \n",
      "7361   async migrate entries() still uses the name field of each SensorEntityDescription . Since this PR causes the name field to be undefined, this migration functionality (along with its associated tes...  \n",
      "7497   That specific use-case can be solved with another binary sensor using the offset (I actually do it myself) so creating an additional sensor for that purpose doesn't make sense. Any other reason wh...  \n",
      "7512                                                                                                                                              Didn't we have the eve door sensor already in the fixtures ?  \n",
      "7514                                                                                No, you're right. I created a mock dump for the contact-sensor back then so maybe just replace that with the real dump now  \n",
      "7583                               In order to keep this PR simple i have removed the Is Charging sensor and the Record Distance Sensor since they both require extra logic. I will add them in a separate PR.  \n",
      "7584                    I [revised sensor states and classes]( to what i think they should be along with some descriptions of each. If you think differently or have question about specific sensors just ask.  \n",
      "7635   NP, i repushed What are you referring to, all other sensors that were previously here and had zero tests ? Please be more specific. Well, i think we should not do that, because a Freebox can have ...  \n",
      "7637                           Are you asking me to test more cases on the specific feature i added (e.g. mocking a situation where the raid array gets degraded) or to test the previously existing sensors ?  \n",
      "7935   The more you add, the more complicated the PR becomes, the less chance it will get reviewed and merged. As I suggested before, keep the PR to the minimum. Move the update entity to another PR... A...  \n",
      "7939                                                                                                                              I changed the implementation to static sensors. I hope this is as requested.  \n",
      "8045                                                                                               Can we make this in the June release? With this change you can actually use the sensor to do automations :)  \n",
      "8096                                                                                                         Have reduced to only sensors and no binary sensors and per comment about only having one platform  \n",
      "8257                                               Just wondering, what's the difference between an automation on change of a sensor and of the existing select? Or is it for cars that don't have the select?  \n",
      "8260                                                                                  As discussed, this PR could make use of or follow up for sensor. I'm setting this to draft until that has been resolved.  \n",
      "8266   You might want to consider increasing your test coverage a bit. Your config flow coverage is great, and it would be good to have other areas (especially with branching logic) covered. Your sensor ...  \n",
      "8273                         I only have some doubts about how the sensor should behave if the username is not found anymore (when the account is deleted for example). Anyone has some feedback on this part?  \n",
      "8312   Just created 2 PRs to split this PR a little: - should be reverted -- One to handle the exceptions in switch.py - 99222 -- One to add the new FreeboxBatterySensor in sensor.py - 99224 -- One for r...  \n",
      "8313           99222 99224 are now merged and this branch has been updated by handling conflicts and fix few comments. You are almost done, by applying comments in current PR from 99222 but to binary sensor  \n",
      "8371   I wonder if it's a good idea to have a long list in the sensor state. Could it perhaps be an idea instead to set the \"lowest\" IP as the state and populate the list as an attribute. Also this would...  \n",
      "8372   For my usecase I really want to have a sensor for the both the ip's since changes to the set is often the root cause of problems with code sensors trying to reconnect to disconneced services witho...  \n",
      "8390                                                                                          Preference would be that these are their own sensors instead of attributes. Also perhaps not enabled by default.  \n",
      "8768             I think as a starting point you can help by reviewing and testing This will ensure that switch migrates from aiohttp to httpx , which is already done for binary sensor and sensor platforms.  \n",
      "8904                                                                                                                                               I will look into adding tests this weekend for the sensors.  \n",
      "8984   Validated locally with with debugging on, working as expected. Noticed we probably do not need to schedule an update to purge the last val if preserve last val is enabled. Will get purged by next ...  \n",
      "8994   Well I didn't hear back on whether or not it'd be a good idea to detect the duplicate sensors during the options flow but I decided it was a good idea so I added error checking and test cases. Let...  \n",
      "9132   Hey bdraco, no rush - I know you have plenty going on, do you think we'll get this out before 2023.4? I was thinking about adding the binary sensor we have for the toothbrush in the backend, but I...  \n",
      "9139                                                                                                                          These sensors are not very useful to everyone, should it be disabled by default?  \n",
      "9152   I have successfully added this by copying to custom components folder ![image]( Only modifications were: 1. removing \"EntityCategory,\" from line 22 of sensor.py and adding \"from homeassistant.help...  \n",
      "9238                                                                                                             Added tests for the new sensors. Update my own branch to keep testing with the latest changes  \n",
      "9320   Thanks epenet. My motivation was to allow additional sensors (RYM Pro has more values) by simply creating additional sensor descriptions, while keeping the coordinator constant. The proposed chang...  \n",
      "9359                                                     I'm not sure we should make a general helper for this. Normally integrations are in control of the sensor properties already and don't need to check.  \n",
      "9363   balloob I'll describe my problem a bit better. The sensors values are stored in base64 encoded string: 7QIKjgEA8DcBAA The existing filter base64 decode fails with UnicodeDecodeError: 'utf-8' codec...  \n",
      "9551                                                            The comment about the library requirements needs to be addressed. I can adjust the sensor to use the CoordinatorEntity, if that's ok with you?  \n",
      "9553   Please test the code now again after my changes. I've asked some questions above. Please answer them and let me know if I should help with any code changes. It's mostly removing the three sensors ...  \n",
      "9568   Ah yes my apologies, again sorry I am a noob on HA and in python I had made this code in order to validate and I did not remove the codes for the windows. It was for the test. I present to you my ...  \n",
      "9585                                                                   I suggest making a fresh PR for the library bump, than add the binary sensors in another PR, than rebase this one once those are merged  \n",
      "9586                                                   - [Library bump PR]( - [Binary sensor implementation PR]( - [Documentation PR]( - Rebased this PR on the above Working on the rest of your feedback now  \n",
      "9753                                                                                                                                    This PR will need a docs PR for sensor as well, here GJ is missing to:  \n",
      "9940                                                                                         I have switched to more standard binary sensor declarations, and updated the documentation PR to reflect changes.  \n",
      "9943                            Did the reset song and dance to get dishy out of bypass mode. Looks good. I'll take care of dropping the update binary sensor so you don't have to wait for me to retest again  \n",
      "9954   I can confirm that the actual \"hydrawiser\" lib is not up to date and half of the sensors are not working anymore. Also there is no support any more from the dev. Hunterr already changed the restap...  \n",
      "9978   I didn't intend to leave the loop in test washer sensor values() - sorry about that. Maybe I still missed it ;) - rather than test the \"combined\" sensor values in a loop, break them into to tests ...  \n",
      "9988                                                                    I'll close here now as we need a refactor before we can move forward with new sensor types. Thanks for your willingness to contribute!  \n",
      "9993   I checked it in my IDE and manually edited it in the Github web editor because for some reason almost all checks fail after merging dev into irobot more sensors. I have resolved the conflicts and ...  \n",
      "10002                                                                                              That is not allowed in our architecture. If that is the case, those sensor should be firing events instead.  \n",
      "10100  Not entirely correct. Part of this would benefit existing area sensors as well, for example bY providing the conversion for the imperial unit system. This includes those provided by core integrati...  \n",
      "10133  fwestenberg I've pushed a change containing: - Removal of unique ID from config flow - Cleanup of tests because of the above - Adjusts the unique ID used for the sensor entity - Changed the title ...  \n",
      "10152                                                                                                        Over how many sensors? For one sensor there shouldn't be more than one every few seconds I think.  \n",
      "10226  Fair enough, description updated. Note that we don't actually add any new sensors here, but rather add metadata about them to help HA render and utilize better a bunch of ones that were previously...  \n",
      "10255  There is one more thing that is not going well with the integration, an example is that no gas data was available in recent days, but this also means that the energy market price entities (for whi...  \n",
      "10293                       I think the DataUpdateCoordinator should be it's own PR and then all those attributes should be their own sensors instead (besides the name of what you are downloading uploading)  \n",
      "10294  Thanks for the feedback gjohansson-ST. I think reworking this component to use the update coordinator could indeed be made into a separate PR, I'll see if I can get to that in the next week or so....  \n",
      "10296  gjohansson-ST The main goal of this PR was to actually get that additional Torrent info into HomeAssistant. (What torrents are there, what is their state, proggress, etc.). Making new sensors for ...  \n",
      "10298  I was planning to separate this PR in two sensors for downloading and uploading, but seeing the other PR ( 97208) using service responses, I would just use that. I am ok with closing this and push...  \n",
      "10493  I've reviewed what I can and think this is shaping up nicely, but given its size, I will ask for additional review. A reminder that with new integrations, you'll generally have a faster review if ...  \n",
      "10499                                                                                                                                                         Removed the other platforms (update and sensor).  \n",
      "10520  I also noticed this PR: It looks like it adds a few other sensors we don't have in this PR like the number of days left in the billing cycle. Perhaps it would be good to add those sensors once thi...  \n",
      "10529  Quentame Thank you so much for the detailed PR review! I really appreciate all the feedback. I've addressed your comments in the recent commits. SupremeSports I have my hands a bit full this week....  \n",
      "10546                                                                          Docs don't describe specific sensors detected object sensors (if the camera supports smart detections) so no docs change needed  \n",
      "10645                                                                                                                I've removed the sensors in last commit as I don't know how to add test to please codecov  \n",
      "10671  Marked as a draft, as we also came up with a possible change in how translations work. If that lands, we can add a dedicated device class for these types of sensors. Therefore parking this PR mome...  \n",
      "10758                                                                                               You are right but that's due to my reorder of all sensors. If you check the complete file it should be ok.  \n",
      "10792                                                                                                        I'm not sure why you removed the total increasing from those sensors? They looked good? .. Frenck  \n",
      "10870                                                                                            pizzaboy192 The PR looks good to me. Please could you also create a documentation PR to cover the new sensor?  \n",
      "10876  I've managed to get some test code that can read data from PyNUTData and create SensorEntityDescriptions using dataclass.replace. The code is a standalone file that I'm just running that uses all ...  \n",
      "10900                                                                                                                                     Please link a docs PR for the new sensor attribute. incidents-sensor  \n",
      "10927  Note about RESOURCE SETUP, I suggest to re-order the selectors: 1. CONF RESOURCE 2. CONF METHOD 3. CONF AUTHENTICATION 4. CONF USERNAME 5. CONF PASSWORD 6. CONF HEADERS 7. CONF VERIFY SSL 8. CONF ...  \n",
      "10930  I think this PR should be the first step now (below should be in follow-ups or info) - Unique id removed from config entry setup -- I suggest a new PR with a automatically generated one in combo w...  \n",
      "10931  - Options flow is back - Had to remove the entries match test as we don't have options for multiple sensors yet can't have it here to block users from creating multiple entries with same resource....  \n",
      "10950  I've refactored the sensor entity so more entities can be added and without additional API calls required, at least a good step forward before I PR the more complex entity for changing free power ...  \n",
      "11031                    Thinking about this some more, I'm not sure this is needed since the tooth brush state sensor already has this. If someone really wants this, they can make a template binary sensor.  \n",
      "11055  I'm fine with that if we want, but the Aranet4 appears to refer to the four sensors it has (CO2, temperature, humidity, pressure) rather than anything else: there was no Aranet2 or Aranet3, etc. (...  \n",
      "11154  I've taken the liberty to rebase the PR (to resolve the merge conflicts and to catch up with reality). After that, I've fixed the tests and added support for the new entity name translations (that...  \n",
      "11202  I've managed to read the data as a passive sensor, but I don't understand how to create the entities on the sensor.py file. With this I can read the result of my OralB brush: And I can read the re...  \n",
      "11207                              bkbilly I've picked up the work here I'm going to get the passive sensors integrated first. Maybe you'll consider taking a stab at adding the battery sensor in the future.  \n",
      "11214  Maybe you can help me a bit? I am totally new to github and homeassistant and just wanted to add the missing sensors, to get rid off the error messages in log and hopefully the stopping of the sen...  \n",
      "11235  Thank you for reply elupus , What does it mean? As I can see all sensors with configuration sensor: -platform: \"xy\" are affected by [adr-007]( Is there already discussion started to upgrade existi...  \n",
      "11237    I partly understood the problem but we know this upgrade will take some time. Thanks to HACS we (community) can use modified tcp sensor now: I'm not sure what to do with this opened pull request...  \n",
      "11269                                                                                              bdraco I'm not sure if this implementation of the sensor coordinator is madness or genius, but it works. :)  \n",
      "11313  Can confirm that functionally, this PR works. By default, the newly-created sensor is disabled: img width \"338\" alt \"CleanShot 2022-10-09 at 10 20 24 2x\" src \"\" After enabling it, it successfully ...  \n",
      "11404    Should be noted that once the integration is refactored as it needs to be. There would only need to be one unique id at the root of the setup. Each sensor can calculate based on root unique id oid.  \n",
      "11407  Is there any chance this, or 81662 could be merged? It's not a massive change and would just improve quality of life for the few of us using this particular integration. IMHO, I consider it a bug ...  \n",
      "11452  Indeed, maybe it's easier to keep it as it is, especially as there is no entity id collision as they belong to different namespaces (sensor, select). The router does indeed throw an error when one...  \n",
      "11624                                                                                                 dewi-ny-je I now also changed the classes of the other sensors (air-purifiers etc.) related to duration.  \n",
      "11876                                                                                                                                                                Please add these new sensors to unit test  \n",
      "11944                      frenck thanks for the feedback. So would you prefer splitting the existing attributes into separate sensors too? E.g., - sensor.sun next rising - sensor.sun previous setting - etc  \n",
      "11945         Yes. We should keep existing attributes around on the sun.sun entity for backwards compatibility for now. But I think we can just introduce the sensor platform providing these data points now.  \n",
      "11946  Gotcha, so add sensor entities for the existing and new attributes, but keep around the existing attributes for back-compat. I'll adjust this PR next time I have some solid time -- probably in a c...  \n",
      "11981                                                                                                                                                  Looks like I need to adjust the name on the sensor test  \n",
      "11989  bdraco here's the first new platform for LIFX along with a new service. Let me know what you think of this approach and I could use some pointers on how best to test the binary sensor. I added a v...  \n",
      "12076                                                                                                 Looks like the binary sensor commits aren't here. You might need to git checkout sha -- binary sensor.py  \n",
      "12216                                                                                                            If we're happy with the state of the config flow and sensors, I will begin writing some tests  \n",
      "12242                                                   Seems like the other integration has binary sensors, which I can't do in the same PR, and I've been waiting for this one to go in so I can build on it  \n",
      "12275  As a potential user of this I thought I'd give it a try to review and it looks good to me. (Except for the complaints in the CODEOWNERS file that I don't know how to resolve.) I tried the aioairq ...  \n",
      "12354                                                                                                                      Rebased on top of Added changes suggested by bdraco and balloob for binary sensors.  \n",
      "12358                                                                                                                        I guess I can add the new port sensors to the existing sensors section... sensors  \n",
      "12390                                             I found a solution: 1. Add a template sensor for your phone number: 2. Add a script that uses the sensor: Sample call: I will add this to the documentation.  \n",
      "12510                                                                                                                                          robdejonge The binary sensor platform is waiting for the review  \n",
      "12628  Looks like a good fit for our use case. Alternatively, display a warning when the deprecated sensor is read (and cap the overall warning count at 5 or so, so that we don t flood the logs). I m fin...  \n",
      "12629                                                                                                                                              andre-richter I've added deprecation message to the sensor.  \n",
      "12675                                                       We should detect if the fritz has a IPv4 or IPv6 address and just load the corresponding value in the current sensor instead of creating a new one  \n",
      "12678                                           True. So as a general rule, we should detect if the device has a ipv4, ipv6 or both. And create corresponding sensors only if there is a value to show. Simone  \n",
      "12680                     chemelli74 I'd try to continue this PR if anyone could point me some documentation or an existing sensor that's created dynamically. Right now I don't have a clue how this is done.  \n",
      "12745  bdraco this is my attempt at adding sensor entites. I picked one that is available to all bulbs and some that are only available to a subset of bulbs. In draft fo review so I can fix anything I go...  \n",
      "12753  bdraco I refactored the HEV sensors into a single binary sensor with extra state attributes which provides a much better user experience (IMO). At a glance, you can see if a HEV cycle is running (...  \n",
      "12762                                                              It's actually around 20 times per minute (every 3 seconds). While still frequent, I would argue that it's one of the more relevant sensors.  \n",
      "12859  Ok thanks, I didn't know you could add it to init .py like that. Will this method in binary sensor.py override the one in init .py? Otherwise everyone will be dealing with renamed occupancy groups...  \n",
      "12860                                                                                 The binary sensor doesn't inherit from LutronCasetaDeviceUpdatableEntity but it would be overriding it anyways if it did  \n",
      "12867                  bieniu what binary sensor class would you suggest, I wasn't sure what it really fit into when looking before as I originally started implementing this as a binary sensor then swapped.  \n",
      "12978                                             Hmm, I'm not too happy to see the smile -part come back into the sensor, etc. names. Also, the smile -part getting into the names will be a breaking change?  \n",
      "13037                                                                                                                                                      WIthdrawn - done it locally with a template sensor.  \n",
      "13040                                                                    This PR fixes 54141. I'm also using a template sensor to solve this problem, but would be great to have this in the main integration.  \n",
      "13121  Hi gjohansson-ST, I was looking at the REST sensor earlier today (see 80543, 80544, 80546) and that is now using a DataCoordinator for sensor and binary sensor platforms. Would it make sense to im...  \n",
      "13123  I think 81130 is the last preliminary PR I have in mind for scrape. After that we can focus again on the \"integration YAML\" For the \"integration YAML\", I really think that we need to implement a t...  \n",
      "13124  Worked on getting this on track yesterday but was a chunk to go through so if you have a look now when I published it should be pretty aligned with previous PR's. Still requires cleanups and adapt...  \n",
      "13182                                                              Instead of this, these attributes should be exposed as their own individual sensors binary sensors with entity category set to DIAGNOSTIC .  \n",
      "13185                                                                                                                              The attribute path should be avoided, so yes sensors would be the way to go  \n",
      "13189  I'm not sure what to do about sensors that don't make sense for all devices, e.g plugs don't have CPU and memory utilisation. Following unifiprotect I could add different types of sensors based on...  \n",
      "13192  Ok, but how would we decide whether or not to create the cpu utilization sensor? Create it if self.device.raw.get(\"system-stats\", {}).get(\"cpu\") is not None ? Do we always have this data available...  \n",
      "13193                                 If the device doesn't support reporting a specific value we should not create a sensor entity. I would guess that if it reports system-stats that cpu would be available  \n",
      "13245  I went to compare this with the existing sensors and noticed that in my history each one is getting hundreds of updates per day again. I'm not sure what changed. I'll dig in later today if I get b...  \n",
      "13247                                                                                                                           You mean that zone completion sensors are getting slammed, or program sensors?  \n",
      "13248                                                                                                                                                                                  zone completion sensors  \n",
      "13390  emontnemery I kept it as diagnostic and not as statistic. The raw GJ value is really very useful because the device itself shows this on its lcd display and is therefore a useful way to check whet...  \n",
      "13405                                                                                                                                   Please link a docs PR that updates the snmp sensor configuration docs.  \n",
      "13417              lewei50 Can you please split this PR: - One PR which adds the config flow - One PR which does the refactoring of the sensor - One PR which bumps the library and does the necessary changes  \n",
      "13465                                                                                          That is indeed better practice. Let's close this one. I will think about if the new sensor is worth the effort.  \n",
      "13648                                                                                            We can make the existing apis faster as well by not selecting the UOM state class sensors from areas devices.  \n",
      "13653  tkdrob It would be awesome if you could test it on your Dremel 3D Printer! Even more awesome if you hold the versions 3D20 or 3D40, which don't have camera, to see if the API works the same way as...  \n",
      "13664  The changes to use RestoreSensor are not correct, you should call self.async get last sensor data() to get the sensor data, and you no longer need to extend SensorEntity . Please refer to other in...  \n",
      "13684                                                                                                                                    I think the binary sensor is good solution. I will have a look at it.  \n",
      "13892                                                                                                          Just wondering... how does that app know that a sensor is enabled again... without updating it?  \n",
      "13971  DanielBaulig please fix the lint error and open a PR documenting the new attribute here: It would be great if you document the last fault attribute in the same PR too. In a separate PR, the last f...  \n",
      "13996                                                                                                                                                                I've added the status code as a sensor in  \n",
      "13997                                                                                  Does this PR make sense any more given that everything is now added as individual sensors if I understood the other PR?  \n",
      "14041                                                                         Working on stable updates and additional tests. Chose to also implement the sensor platform to make the integration more useful.  \n",
      "14167                                                                Closing in favour of I'll open separate PRs for the diagnostics sensor and other small improvements, after the config flow PR is through.  \n",
      "14168                                                                Closing in favour of I'll open separate PRs for the diagnostics sensor and other small improvements, after the config flow PR is through.  \n",
      "14295                                                                                                                        further please also add these two new sensors to the list in the [docs]( sensors)  \n",
      "14333  Petro31, I added another enhancement from my fork. I found that the [Average Sensor]( custom component expects the unit of measurement and device class to be set even before any state changes that...  \n",
      "14341  IceBotYT Please update the PR description to include such information (as was requested by the issue template as well). As a side note, I think you should consider tagging versions on GitHub, whic...  \n",
      "14342                                                                                         I'm having trouble understanding this comment. There's no binary sensor involved here. What do you mean by this?  \n",
      "14343                                                                   Sorry, the word \"binary\" should have been left out of that sentence; as it is indeed a sensor. The comment otherwise remains the same.  \n",
      "14381  just moved the sensors to the new config flow device. I'm not sure what's the preferred way to link the sensor to the same device. Currently every sensor has it's own switch buttons but they are g...  \n",
      "14403                                                                                                                                    Adjusted the PR to be marked as a new feature as it adds new sensors.  \n",
      "14588                                                                                                                Yep, figured as much :-) I just opened PR 68790 for the sensor platform. Closing this PR.  \n",
      "14708                                                                                                                                     The statistics sensor does need attributes since it looks at the UOM  \n",
      "14709                                                                                                                                                             The filter sensor does care about attributes  \n",
      "14770  One slightly off-topic note: One of the ideas that Erik and I had is that we want all sensors with a state class in the frontend to use just the statistics table and not be stored in the states ev...  \n",
      "14919                                               The base entity could be made a bit more DRY I don't have a motion sensor so I can't test, but cherry-picking this commit should this should do the trick.  \n",
      "14996  davet2001 The way you expanded the config flow in looks quite intuitive for the user, better than mine for sure. And I have to admit, with no python (I'm more the perl guy ;)) and ha experience so...  \n",
      "14997  davet2001 I just thought about extending the sensors, as I want to have at least grid voltage and frequency in my readings. Is there any downside in adding all possible DSP readings? I guess a lon...  \n",
      "14999  Dave, what you say is not necessarily true for all users, those are very general guidelines that came out when people used low-powered RPi with SD-cards and local sqlite db. If you use HA on an en...  \n",
      "15000  My point is more more less the same, you can still disable readings if you don't want or need them; but every user should have the freedom to run it their way. But I think this can be discussed in...  \n",
      "15001  alexdelprete Yes, but it is true for some users. I switched from enterprise class HW to low power RPi to save electricity cost. [Over half of the current userbase is RPi]( and it's the primary ins...  \n",
      "15002  Dave, I'm not ignoring anyone, I prefer users have a choice about their systems and data. You are the one who decides for half of users, not me. Your view limits them, my view is: let THEM decide....  \n",
      "15003  alexdelprete I think you need to read my message again. I'm suggesting add them as disabled which means a switch appears in the UI to turn them on. This does let them decide. I am following the de...  \n",
      "15004  You keep deciding on behalf of the user. Bad approach. But do what you want...it's your 1-sensor integration after all. Finally, you admitted that you think users are stupid. The problem is that u...  \n",
      "15021  I've had a very quick scan, and I think it would be easier to review if it were split into smaller PRs: one for the dependency bump, one for the refactor to coordinator (which I think should be mo...  \n",
      "15022  Yup, tested it. Lightning sensors battery work correctly Soil batteries work correctly However it looks like you replaced the air quality sensors, whereas these were new additional sensors. pm25 ,...  \n",
      "15091  frenck context: syncthing uses relays, NAT traversal etc so even if devices at both end are connected to internet they themselves can be disconnected to each other. would renaming DeviceSensor to ...  \n",
      "15093  In general I'd agree that these must be sensors under currently existing devices. In my case, I have 4 syncthing servers connected to home assistant and all of them are connected to each other. If...  \n",
      "15094  frenck can you explain what you mean here as far as I understand Sensors have one primary value and users should able to run automation based on that otherwise what's even point of having Sensor e...  \n",
      "15129  The good news: it's working. The bad news: I had to do some good amount of (Python?) hacking to make it work properly, because this new sensor requires 4 more new attributes stored in the sensor d...  \n",
      "15133  Also, it's not that much arbitrary, it's something even the Windows Task Manager provides as I mentioned. The information it gives is more meaningful than 4 other network sensors that this integra...  \n",
      "15137                                                                                                                                       Got it, that's right then. What about the two sensors I mentioned?  \n",
      "15218  I rebased and added 2 commits: 1. The first to fix the sensor keys and names from this commit 2. the 2nd to fix existing sensors that also used \"power\" instead of \"energy\". I did not touch the key...  \n",
      "15219                                Can anything be done to get this merged. Actually the Viessman PT2 is relying on this kind of summary sensors, thus the gas reporting for the energy board is incomplete.  \n",
      "15287  So, I've tested and played with this one a bit. Besides me being majorly underwhelmed by the Wiz motion sensors, I do think it is weird to have separate device entries for this case. Let me try to...  \n",
      "15289  bdraco Maybe I was unclear, I would definitely not use an attribute (I personally hate entity attributes for many reasons). I think the binary sensor is fine, it just should not create a separate ...  \n",
      "15509  After some time passed, I think we should not add this, as it's too specific. states('binary sensor.updater') not in (\"unavailable\", \"unknown\") makes it already quick to check if the sensor is una...  \n",
      "15524                                                                                                   Lets consider what you need in that case, time to move some attributes to stand alone sensors instead?  \n",
      "15526             Yes this becomes a bit complicated, but I didn't mean to add a sensor with discovered devices, I meant to create new sensors for new clients, one sensor for IP address, one for VLAN, etc..  \n",
      "15539  Also, I just realized that the [Total Workers Sensor]( L9-L15) does not appear under the Unmanic device as the other 3 sensors do. To my knowledge, all the device code is in [entity.py]( and shoul...  \n",
      "15544                                                                                                                   Point of interest, how did you get the outdoor sensor working as a \"custom component\"?  \n",
      "15552                                                         Thank you for the suggestion, I've updated this PR to only include the sensor entity. I've updated the documentation PR to reflect this as well.  \n",
      "15558  Good idea. I proposed using a SensorEntityDescription for each entity in 58707. That also included title cased names. If we can get that one merged we can include it there, although there were som...  \n",
      "15580  I had the development set up in a docker container, but somehow destroyed that. Now, I am struggling to just get it back to work. :- I'll do that, as soon as I get up and running again... I read t...  \n",
      "15669                                                                                                                                      thecode I implemented the DataUpdateCoordinator for all the sensors  \n",
      "15672                        I added init .py , binary sensor.py and sensor.py to .coveragerc . The PR should be ready now. I might write some tests in a later PR to improve the quality of this integration.  \n",
      "15711           Initially the work mode sensor was included for Curtain (cl), but its status is opening or closing even if it is stopped or completely open or closed. That's why it was removed from this PR.  \n",
      "15783  fourthgenz28 I'd appreciate if you could take this for a test drive and check that it works for you. It should have identical sensors as before, the only change is that it can now be configured fr...  \n",
      "15869  I went ahead and changed the doors to individual binary sensors, since that is what other car integrations seem to be doing. With this, I think I've addressed all review comments. frenck and or ep...  \n",
      "15870  I removed the charging binary sensor from this PR because, as pointed out by bdraco in discussion r822128986, it makes more sense as a switch entity since it can be turned on and off. Will open a ...  \n",
      "15895                                                                                                      I created to clean up first. Will create a new PR with the new sensors afterwards. closing this one  \n",
      "15916               droberg I think an option for configuring the wanted precision would be a welcome addition for sensor, not sure how well that maps to the resolution options for the Maxim DS18B20 though.  \n",
      "16005                                                                           Ok, let start that way. This means that in need to close this PR and start a new one with only config flow and binary sensors?  \n",
      "16006                                                                                                                      Closing this PR and create a new one with the Config flow and binary sensor changes  \n",
      "16076  dr-waterstorm : Wow, thats just amazing. I also was not able to get this values via modbus. However i was not aware about this CGI. I will include this values of course as well! frenck : Short que...  \n",
      "16097                                                                     Could you provide us with a use case for this? The sensor is configurable already, so the range could be calculated already I guess?  \n",
      "16101  Your description is to find the difference between 2 sensors... That is not what min max is about IMHO and also not needed for the use case given. Hence I think this is the incorrect place to add ...  \n",
      "16102  No, the use case is to find the difference between the minimum and maximum values of a pool of sensors. In my case it was two CO2 sensors. It could easily be 5 temperature sensors instead. That's ...  \n",
      "16103  In case a more concrete example is helpful in understanding the usefulness. Here, the range attribute shows that there's a 3.5 difference between the hottest and coldest rooms (of the 4 rooms with...  \n",
      "16164  I did read this however I have both on off states which really make sense to do as binary sensor And I have value states which really make sense to do as sensor - I thought about doing everything ...  \n",
      "16165                                                                                       You HAVE to start with just a single platform. Choose one, and keep the extra sensors platforms for a follow up PR  \n",
      "16168  frenck - Am I able to leave the documentation referring to the sensors as-is - or does that need to be updated as well? I mean - is it possible to make PR for binary sensor then make PR for sensor...  \n",
      "16169  Ok folks - I pretty much split my const.py code between the binary sensor and sensor code now. I pulled out the normal sensor code and have limited this PR to binary sensor.py only. That should me...  \n",
      "16423  That is what I was missing, I was fixated on the Sensor entity and didn't consider the Number entity. Would it be recommended to: 1. Add the number entity and keep the sensor entity 2. Replace the...  \n",
      "16430  All the tests for the InfluxDB integration can be found [here]( Take a look at what's in there, you can use that as a basis to start from. Essentially you just want to feed configuration scenarios...  \n",
      "16431                                                                                                          drlibre almost ready you just need to rebase and resolve the conflict with the test sensor file  \n",
      "16525  TBH, I was surprised that the IKEA motion detector I was playing with didn't just behave as I would have expected motion sensors to behave (and what I'm accustomed to with other kinds of devices)....  \n",
      "16549  All of these additions are great! One thing I would suggest (as has been stated before) is to create a separate PR for each sensor type, so reviewing is easier. I would even go as far as creating ...  \n",
      "16553  Given the large number of sensors in this integration (and we're adding more) would there be value in setting entity category ([context]( generic-properties)) e.g. for diagnostic to reduce the tot...  \n",
      "16554                                                                  At least all [Settings Sensors]( settings-sensors) could be set to diagnostic or config. But maybe this would be subject of another PR.  \n",
      "16577                                                                     Also, I would have created a separate PR for the cleanup of button and sensor , in order to keep the PRs smaller and keep the focus.  \n",
      "16595  It seems a bit arbitrary to allow switch and input boolean entities in binary sensor groups, there are several other domains with a binary state (all which derive from ToggleEntity ). Can you expl...  \n",
      "16654                             I think it's better to add an example using an intermediate template sensor deriving its state from an attribute instead of adding complexity to the statistics integration.  \n",
      "16870                                                                                                                                           Here is my demo setup with other sensors and camera: ![image](  \n",
      "17113                                                                     Actually, I think I have spotted the issue (not tested yet) in sensor.py I see encoding for last reset topic but not for state topic  \n",
      "17116                                                                                                    It could (in the future), but for now it is only added to the state topic of sensor and binary sensor  \n",
      "17219                                                                                        I guess, I should remove the firmware update available binary sensor, as update is an own platform by now, right?  \n",
      "17220                                                                                                                                Hi bdraco , I removed the update sensor, so I guess I'm ready for review.  \n",
      "17227                                                                                                                                                  Would be good to add some tests of the storage sensors.  \n",
      "17264                                                           If the docs PR isn't merged by the time you add the sensor platform, its ok to update the existing one If it is merged, please make a new one.  \n",
      "17265                                                                                     bdraco In case you want to keep on reviewing the Tesla Wall Connector integration, the sensors pull request is here:  \n",
      "17293                                                                                        Tested the change locally and was able to register the sensor without a warning, thanks for the quick turnaround!  \n",
      "17348                                                                                                                         I'll close here for now. We can revisit a common RPM unit in the future. Thanks!  \n",
      "17361  Thanks for your work on this (and to Bouni for the original integration)! I'm using the integration based on this merge request and I find it really useful to have all the sensors and devices appe...  \n",
      "17380                                              Any pointers to an integration that has uses the DataUpdateCoordinator pattern and has tests for individual sensors? I admit I have no idea where to start.  \n",
      "17381                                                                                                                                                  tplink does (they are sensor though not binary sensor )  \n",
      "17397  Changes are based on It would be awesome of both sensor and switch platforms are available when this component is accepted, as they already exists in the custom component that is used by quite som...  \n",
      "17447                                                                                                             frenck done, also resorted alphabetically few sensors and fixed incorrect power sensors uom.  \n",
      "17453                                         OK I'll consider that. In the meantime I hope that the dev team will consider adding the frequency too as it's a value provided by some sensors nowadays. Thanks  \n",
      "17469                           Don't know if there is a reason why it was left out, but IMO the 'calibration' sensor should fall into the diagnostic category, as it only indicates problems with the device.  \n",
      "17487  Note to reviewers: I decided to rename RenaultEntityDescription to RenaultDataEntityDescription to differentiate the entities with are linked to a data coordinator (sensors, etc.) from the entitie...  \n",
      "17491                                                                                                    Have you considered moving to EntityDescription, or making SensorMeta inherit from EntityDescription?  \n",
      "17520  I'll fix these up later tonight, but regarding the platform error on unknown family, hrmm.. Yes and no? On the one hand, it's obnoxious that HB HUB whines (and has always whined) every time it con...  \n",
      "17521  I think the warnings are useful - I just don't want all the warnings 3 times (once for each platform) What I mean is that I don't think it is necessary to add to binary sensor.py and switch.py . J...  \n",
      "17556  Tests fail, please update them. Maybe it would make sense to update tests to make the source sensor have a valid value again after being unavailable, and check that the new value historic valid va...  \n",
      "17611                                                                                                                                     Could you rebase this to make use of new SensorStateClass constants?  \n",
      "17654  The documentation PR needs to be stand-alone, but in the description they both need to have a link to each other. I think it is better to use the templates from the command-line tests than the tem...  \n",
      "17674  Well then sir, you have saved me a ton of work, because I desperately want this integration updated to config flow for the exact same reasons as you. The template sensors do work, but you have to ...  \n",
      "17773  gwww thanks for the review mletenay if you need any help with processing the feedback, just let me know. My solar panels have been installed last week and I have tested this code with my new GoodW...  \n",
      "17790  bouwew Can't you filter the negative values through a template sensor? I.e., upnp sensor -- derivative sensor -- template sensor which filters negative values. I agree with the others that this sh...  \n",
      "17956                                                 Looks great! By the way, check out where I'm adding more sensors to hassio. Also, reducing polling interval would make these binary sensors more useful.  \n",
      "17990         New network sensors: ![image]( ![image]( Maybe I need to use Mbps or something else, since there doesn't seem to be any kind of automatical conversion for bits bytes and network speed units...  \n",
      "18004                                                                          Please update the docs and add \"binary sensor\" to the ha platforms front matter. Please link the docs PR in the PR description.  \n",
      "18024                                                                                                                        Test results for the utility sensors: ![1]( Test results for a MTU sensors: ![2](  \n",
      "18027  There are several examples of SensorEntityDescription in other integrations that you could search. My approach would be to pass a SensorEntityDescription into the constructor. Then see how much of...  \n",
      "18081                                                                                                                                                    Removed statistics from sensors indicated by balloob.  \n",
      "18097  Hi! You beat me to it with this PR I have a patch for adding this sensor sitting idle on my local machine since two weeks. Reason I didn't submit a PR yet is because I am eagerly waiting for to be...  \n",
      "18130  Maybe the description is a little bit misleading. This PR adds only the config flow. The status and speed sensors are the same as before in terms of functionality, only adding an extra attribute. ...  \n",
      "18155  I was trying to break the PR, but excluding the config flow is too much rewrite. However, I can break this PR in the following: config-flow and modified pre-existing sensors: new sensors : TODO ev...  \n",
      "18214        I was just thinking that it may be relevant to update the docs to mention the newly available sensor, but looks like the documentation is not listing the available sensors. Sorry for the noise.  \n",
      "18238  One thing to note is that these new ssid and conn ap mac sensors will only work when using the V2 update method, so at the moment only with orbi routers. On other routers these sensors will always...  \n",
      "18239                                                                                                       Can we check model before we create the sensors so we don't create sensors that never will update?  \n",
      "18294  michaelarnauts thanks, great suggestions! I'm not super happy that the user has to click on \"Configure\" after setting up the integration, to select sensors. I looked for a way to trigger the optio...  \n",
      "18295  I haven't looked into the config flows, but can't you have some wizard style with multiple steps? The 2nd step could be to select the sensors to subscribe for. I also currently get an error untill...  \n",
      "18297  thecode michaelarnauts a multistep config flow is actually how I implemented it at first, see diff-c634104ca405eedfc107f8d3b0b77bd731c91f8c795470eca6bd0b60a9a20bf2R96-R113 The problem with that wa...  \n",
      "18318  How to proceed from here? I don't see myself able to write tests for this component from scratch. I'm running this branch on my HomeAssistant with two no-name edl21 sensors for over a month now wi...  \n",
      "18458                                                      We should not add these as attributes. As a general rule of thumb: If you want to automate with the values, they should have been separate sensors.  \n",
      "18460                                                                                                                     Not much difference, we are trying to reduce attributes and prefer separate sensors.  \n",
      "18462                                                                                                                                                             Test results with separate sensors ![image](  \n",
      "18463                                                                                                                       Ok, so it has been modified to get separate sensors, PR text modified accordingly.  \n",
      "18532                                                                                                   maybe we should consider to expose installed version and latest available version as dedicated sensors  \n",
      "18533                                                                                           I did it like few other integrations. I honestly think it's not worth to have them as separate sensors. Simone  \n",
      "18582                                                                                                                Test results for the utility sensors: ![image]( Test results for a MTU sensors: ![image](  \n",
      "18742  entity registry enabled default is set to false , so the entities will default to disabled. I think it's OK to let the user decide which entities to enable (either the switch or the binary sensor ...  \n",
      "18893                                                                                                                                     If this is useful, should it be a generic feature for light sensors?  \n",
      "18894                Per MartinHjelmare's comment, this is calculating something that the device doesn't natively report, which we don't generally do. Will leave it up to template sensors to calculate this.  \n",
      "18900       I've pushed a basic test for the sensor platform to help you validate everything still works when fixing the comments. btw, the number of comments is because we're excited about this integration  \n",
      "19044                                                                                                        No, so for me the current pull request is fine :) (I have never used sensor net consumption True)  \n",
      "19050  We split the entity description in our core entity model, to solve an issue with sensors, I think we should either solve it at the sensor for that reason instead or consider changing the core base...  \n",
      "19165                                                                               The binary sensor Water Tank Detached works as expected but removing the cover causes an exception in the sensor platform.  \n",
      "19168                                                                                                                                                        Suggested name of the sensor: Water Tank Attached  \n",
      "19172                                                      I changed the sensor name to water tank , used DEVICE CLASS CONNECTIVITY and reversed the value. This is how it looks. What do you think? ![image](  \n",
      "19184  Ok, I did not see that from the PR (the closed mass sensor class PR) which I based this on. But yes - an architectural discussion on the entity model, sensor classes and other things related is ve...  \n",
      "19206  That was weird, for some reason the new binary sensor.py file was sitting in untracked changed for git and thus not included within the commit. I missed that. Just added it to a commit and pushed ...  \n",
      "19209  Added a new commit that: - Uses 1 data coordinator - Has a UpnpEntity class from which the sensors inherit. Please check to determine if this is what was looked for. There currently is still a pro...  \n",
      "19210  Thx. I made the updates as you suggested. Sensors are still showing unknown whereas the binary sensor is updating. I also on my local added a debug entry native value property to see if it was bei...  \n",
      "19211                                                                                                                     native value for sensor entities was added a few days ago, maybe you need to rebase?  \n",
      "19250         Thanks ludeeus and tkdrob for the fast review. I've implemented your suggestions. Additionally i've disabled the phase-specific sensor by default, as suggested in the PR for the documentation.  \n",
      "19273                                                                                                                    derjoerg if you update the integration again, it should now detect the other sensors.  \n",
      "19281                                                                                            I have tested the code, now the sensor appears as part of the SMS Gateway device: ![image]( Please merge fix.  \n",
      "19284                                                                                   Can you add examples of sensors provided by ADS? are we sure they all qualify as measurements? available-state-classes  \n",
      "19286                         We can't just blindly set it to all sensors, unless we know it is always all current values. As soon as a metered value (or non-numeric) state value is in play, this won't fly.  \n",
      "19360             Yes you added it correctly, I looked wrongly. You still need to document it. You might not be able to test it, but you can extend the sensor config test cases to include the new parameter.  \n",
      "19366                                                                                          Please link a docs PR and add the binary sensor platform to ha platforms in the front matter for the docs page.  \n",
      "19422  frenck I fixed the requested changes. The only thing I notice is that the state class and device class are only visible as sensor attribute after a clean new installation of the integration, exist...  \n",
      "19554                                                                         Please make a docs PR and add sensor to ha platforms in the front matter. Link the PR in this PR description, then we can merge.  \n",
      "19561  Hi ludeeus, I modified the code to use the class you pointed me at (BinarySensorEntityDescription). As it impacted my base class (FliprEntity), I impacted also the standard sensor with a SensorEnt...  \n",
      "19639                                                                                           We should also add sensor to the docs, but I figure since is ready it will be easier to add it in that docs PR  \n",
      "19667  Turns out we can't selectively enable it. If I attempt to register the service in the callback that creates the entities, the code can't get the current platform. So we'll just have to register it...  \n",
      "19797                                                                                                                              I forgot a couple of sensors, could you review the last commit too cgtobi ?  \n",
      "19884                                                  I made several improvements suggested by emontnemery, who is reviewing my pull request for sensors (non-binary) and I added tests for the API thank you  \n",
      "19932  Your link takes me to a merged PR? This is not a breaking change and not marked as such, so what is the problem? The purpose is to add missing datatypes and thereby reducing the need for custom . ...  \n",
      "19996                                                                                                                                                               Ok disabled the binary sensors by default.  \n",
      "20000                                                                                     ollo69 Oh right! Sorry, I was under the impression this integration didn't list the specific sensors. Yes, please :)  \n",
      "20165                                                                                                                                                      Why is this an attribute and not a separate sensor?  \n",
      "20203  Are there already validations in place for the state type returned by the sensor for the numeric condition? The number platforms should return floats but the sensor platforms may return something ...  \n",
      "20225                                                                                                               I agree with Frenck, this looks like it should be a binary sensor with connectivity class.  \n",
      "20259                                                                                                                                         All sensors are disabled by default, including this one: L76-L79  \n",
      "20497                                                                                                                                              Shelly needs to be fixed for sensors based on RestoreEntity  \n",
      "20566  Is it ok to add one platform together with changes in the already existing binary sensor platform? Otherwise I can split this up, too. Is it preferred to have several parallel PRs for all the comp...  \n",
      "20627                   Hi there gerard33 rikroe, Here is a new PR with additional sensors based on the successful merge of my PR 45906, released in 2021.6.0 yesterday. Would you please review this PR? Thx!  \n",
      "20765                                                                                                   BTW, AbstractAemetSensor was moved into sensor.py as requested by MartinHjelmare discussion r602794513  \n",
      "20775                                                                                                                                    This only affect sensor.py If you have other checks, count still work  \n",
      "20850                Can you please add some tests? You should be able to simply add a sensor in tests components onewire const.py ? Can you please also make a PR on the documentation to add the new sensor?  \n",
      "20861  janiversen your change request will (and does) cause the tests to fail. The casing is different for the device listed on onewire (comes from 3rd party, and can't be changed) and the sensor entity ...  \n",
      "20899  emontnemery Ready to merge. ![image]( ---- Personal note, in a future PR I want to contribute: Configuration: - number of measurements AND OR age (most of the time only one or the other is needed)...  \n",
      "20967      Tested it. Seems to work. One last question chemelli74: Are we going to add the attributes (last reconnect, ipv4, ipv6, etc) of the connectivity sensor in an additional PR? Why not adding it now?  \n",
      "20968                                                             They will be separate sensors, not attributes. Code is ready, will be submitted in a separate PR. bdraco works fine here. Good to go. Simone  \n",
      "21061  There's a good reason to force updates for push model based sensor measurements. For binary states there's no such reason. When updating a non binary state we get a new data point for that time. T...  \n",
      "21077                                                                                                                          We should update the docs too: configuration-for-trigger-based-template-sensors  \n",
      "21169                                                                                                                Sorry about that. Should I remove the sensor platform or can it stay as it is in this PR?  \n",
      "21251                                       Thanks for your contribution. I'll close here now since it's the wrong approach. You're welcome to open a new PR adding these measurements to the sensor platform.  \n",
      "21469                                    There's no such plan (that I'm aware of), but the attributes are not meant for providing sub sensors, stuff like signal quality etc. should live in their own sensors  \n",
      "21470  No direct plan on deprecating those. We, however, reject \"sensors\" hidden in state attributes for new integrations or integrations that are refactored. It's simply harder for the end-user to contr...  \n",
      "21472                                                                                        Verified - current code is successfully adding new sensors for Genie v2 (which does not have a battery) ![image](  \n",
      "21556  I have now split the sensor in two separate sensors. One reports whether the device is online and more detailed information through its attributes. This is a breaking change involving the overall ...  \n",
      "21558                                                                                    Please link a docs PR in this PR description. We want to add the binary sensor platform to ha platforms front matter.  \n",
      "21698  abrilevskiy I've opened a new PR (based on this) in which I fixed the speed control and separated the attributes in different sensor entities. PR is 48194 It's ok for you to close this and continu...  \n",
      "21815  Actually, I'm fighting (quite hard) with verisure because push notifications are not working (I have 3 differents phones, and none are able to receive push notifications). So I just want the binar...  \n",
      "21818  Alright, the configuration flow has been merged and additionally support for devices has been merged as well. So I guess: - Rebase this PR - Address comments :) I think the sensor can be added, bu...  \n",
      "21919                               Looks good here! My only question is will this work if there's multiple sensors? I assume they would have names such as ambient.2 ![Screen Shot 2021-03-04 at 4 40 33 PM](  \n",
      "21930                                                                                                                I found it here: Glances can display the sensors information using psutil and or hddtemp.  \n",
      "21945                                                   I think those are the big thing, once that is done I will look at it all again Your idea of having a base sensor class is very good, please keep that.  \n",
      "21946  Hi janiversen. I think I addressed all the issues except extracting bit sensor and bit switch into their own files. That will require extracting the base classes into their own separate files whic...  \n",
      "21951  hi janiversen I created a pretty simple PR out of the dev branch which shows the issue I have with the bit sensor. My goal is to make tests to work against the new bit sensor. What I see is that a...  \n",
      "21953  Thanks for pointing out it. I added suggested changes to the test PR and I'm getting the error I had before: This happens when I add (CONF BIT SENSOR, CONF BIT SENSORS), to the list for the load p...  \n",
      "21957  For a non-standard domain you need to ask in the developer forum or use discord. But I still do not see why you continue trying to make a non-standard domain. What you try to do looks like a speci...  \n",
      "21959    Oh, cool, that makes sense now. I thought I'm not allowed to do any changes in the binary sensor.py and switch.py. If I can hook into it like issuecomment-813285482 I think I'm good now. Thank you!  \n",
      "21962  If you say it is all needed changes, then you cannot reduce the number and at least you have removed 2 files. It looks to as if your changes to conftest.py does not really matter. I see you are st...  \n",
      "21963  Right, forgot about you mentioned it earlier. Let me fix it a bit later. bit sensor uses discovery info.get(CONF BIT SENSORS, []) and sensor use discovery info.get(CONF SENSORS, []) Should be no d...  \n",
      "22017                                                                                                                                              Great, now let's put that into it's own file ( sensor.py ).  \n",
      "22066                                                                   looking forward to review your new PRs. Based on your ideas I have started to work on making the different sensors go into one concept  \n",
      "22147                                                                                                                                                                        Filtration cycle sensors moved to  \n",
      "22199                                                                                           mdz If you rebase the docs PR in I should be able to merge it and then open the way to adjust it to add sensor  \n",
      "22201                                                                                                            The docs PR for the original PR is now merged so you should be good to open one to add sensor  \n",
      "22256  Well in most cases some value (e.g. 0,00001) is left behind after purchase as Binance will round the amount of coins you purchase. In the past I allowed a selector with Bittrex on 44618, but I rem...  \n",
      "22337          As your CI controls evolved since my first proposal, I had to do a rebase and add the iot class manifest information. Now, that there is only one sensor, can you validate this merge request ?  \n",
      "22342  iMicknl, it was not easy for me but I did it : now, there is one config for many fliprs. It works with my situation of one flipr and all tests and checks are good for me. I hope, it is good now to...  \n",
      "22577                            I think it depends on you sensor design. Most of the sensors provide the current measurement data, not a averaged value. The mapping function is depend on the incoming data.  \n",
      "22591                                                                                                         Hello, I have fixed the test case expected result of PM10 and PM25 sensor. Please re-run the CI.  \n",
      "22808  eavanvalkenburg I integrated the requested changes. I had some problems with the merge. The build failed. I don't know why. A rebase fixed that. I will add the DataUpdateCoordinator with the next ...  \n",
      "22997                                                                                                                                I have Shelly DW2 sensors that don't update state in HA, can I test this?  \n",
      "23166                                                                                                                           waiting for dump of legacy binary sensor to add test for enabled legacy sensor  \n",
      "23167                                                                                                                                            Please update the docs and add Binary Sensor to ha category .  \n",
      "23287  I think we are, I have other changes related to sensors for moving logic inside router class, but I think that those could be PR directly in dev in the future. Integration looks fine, I just have ...  \n"
     ]
    }
   ],
   "source": [
    "# use this cell to get info about specific topics in hierarchy\n",
    "print(topic_model.get_representative_docs(0))\n",
    "\n",
    "topics_df = pd.DataFrame({'topic': topics, 'document': issue_comments})\n",
    "print(topics_df[topics_df.topic == 0])"
   ]
  }
 ],
 "metadata": {
  "kernelspec": {
   "display_name": ".venv",
   "language": "python",
   "name": "python3"
  },
  "language_info": {
   "codemirror_mode": {
    "name": "ipython",
    "version": 3
   },
   "file_extension": ".py",
   "mimetype": "text/x-python",
   "name": "python",
   "nbconvert_exporter": "python",
   "pygments_lexer": "ipython3",
   "version": "3.12.6"
  }
 },
 "nbformat": 4,
 "nbformat_minor": 2
}
